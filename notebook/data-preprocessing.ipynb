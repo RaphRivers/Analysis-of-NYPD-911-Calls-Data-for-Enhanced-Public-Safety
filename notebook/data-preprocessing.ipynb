{
 "cells": [
  {
   "cell_type": "markdown",
   "metadata": {},
   "source": [
    "# Data Preprocessing "
   ]
  },
  {
   "cell_type": "markdown",
   "metadata": {},
   "source": [
    "Data Source: <a href=\"https://catalog.data.gov/dataset/nypd-calls-for-service\" target=_blank> Data.gov</a> a non-federal dataset for public use. \n",
    "\n",
    "License: City of New York - NYC.gov. See <a href=\"https://www.nyc.gov/home/terms-of-use.page\" target=_blank> dataset terms of use</a>"
   ]
  },
  {
   "cell_type": "markdown",
   "metadata": {},
   "source": [
    "### Install Libraries, Set Environment and Import Dataset"
   ]
  },
  {
   "cell_type": "markdown",
   "metadata": {},
   "source": [
    "Install required libraries using ****\"pip install library_name\"****, set environment variables and import the packages. Use MPLCONFIGDIR directory to store tempfile for Matplotlib. This approach is useful in cases where the user do not have the permission to write to the default Matplotlib configuration directory, or aims to prevent the accumulation of configuration files in the user's home directory. Additionally, it offers significant benefits in a multi-user setting or when it's important to guarantee that Matplotlib's configuration is reset after each program run."
   ]
  },
  {
   "cell_type": "code",
   "execution_count": 1,
   "metadata": {},
   "outputs": [],
   "source": [
    "import os #module used to provide a way of utilizing operating system dependent functionality like reading or setting environments \n",
    "import tempfile # module used for creating temporary storage locations \n",
    "os.environ[\"MPLCONFIGDIR\"] = tempfile.gettempdir() # sets the MPLCONFIGDIR environment variable to the path returned by tempfile for Maatplotlib to store its config files"
   ]
  },
  {
   "cell_type": "code",
   "execution_count": 2,
   "metadata": {},
   "outputs": [],
   "source": [
    "# import library packages\n",
    "import numpy as np\n",
    "import pandas as pd\n",
    "import sklearn # Used as an ML model to impute missing dates and time for 1.5m datapoints\n",
    "from datetime import datetime, date \n",
    "import seaborn as sns\n",
    "import matplotlib.pylab as plt\n",
    "%matplotlib inline \n",
    "pd.set_option('display.max.columns', 200) # Set the data frame display option to show all columns up to 200 columns "
   ]
  },
  {
   "cell_type": "markdown",
   "metadata": {},
   "source": [
    "### Load and Preview Dataset"
   ]
  },
  {
   "cell_type": "code",
   "execution_count": 3,
   "metadata": {},
   "outputs": [],
   "source": [
    "# load the data using Pandas and store it as df\n",
    "nypdData = '~/Datasets/RAW/NYPD_Calls_for_Service__Year_to_Date_.csv'\n",
    "df = pd.read_csv(nypdData)"
   ]
  },
  {
   "cell_type": "markdown",
   "metadata": {},
   "source": [
    "Glimpse the shape of the data frame and its structure, check for missing and/or duplicated values, inspect the datatypes, and restructure dataset to enable EDA. "
   ]
  },
  {
   "cell_type": "code",
   "execution_count": 4,
   "metadata": {},
   "outputs": [
    {
     "data": {
      "text/html": [
       "<div>\n",
       "<style scoped>\n",
       "    .dataframe tbody tr th:only-of-type {\n",
       "        vertical-align: middle;\n",
       "    }\n",
       "\n",
       "    .dataframe tbody tr th {\n",
       "        vertical-align: top;\n",
       "    }\n",
       "\n",
       "    .dataframe thead th {\n",
       "        text-align: right;\n",
       "    }\n",
       "</style>\n",
       "<table border=\"1\" class=\"dataframe\">\n",
       "  <thead>\n",
       "    <tr style=\"text-align: right;\">\n",
       "      <th></th>\n",
       "      <th>CAD_EVNT_ID</th>\n",
       "      <th>CREATE_DATE</th>\n",
       "      <th>INCIDENT_DATE</th>\n",
       "      <th>INCIDENT_TIME</th>\n",
       "      <th>NYPD_PCT_CD</th>\n",
       "      <th>BORO_NM</th>\n",
       "      <th>PATRL_BORO_NM</th>\n",
       "      <th>GEO_CD_X</th>\n",
       "      <th>GEO_CD_Y</th>\n",
       "      <th>RADIO_CODE</th>\n",
       "      <th>TYP_DESC</th>\n",
       "      <th>CIP_JOBS</th>\n",
       "      <th>ADD_TS</th>\n",
       "      <th>DISP_TS</th>\n",
       "      <th>ARRIVD_TS</th>\n",
       "      <th>CLOSNG_TS</th>\n",
       "      <th>Latitude</th>\n",
       "      <th>Longitude</th>\n",
       "    </tr>\n",
       "  </thead>\n",
       "  <tbody>\n",
       "    <tr>\n",
       "      <th>0</th>\n",
       "      <td>91250176</td>\n",
       "      <td>01/01/2023</td>\n",
       "      <td>12/31/2022</td>\n",
       "      <td>23:24:39</td>\n",
       "      <td>67.0</td>\n",
       "      <td>BROOKLYN</td>\n",
       "      <td>PATROL BORO BKLYN SOUTH</td>\n",
       "      <td>1001878</td>\n",
       "      <td>175994</td>\n",
       "      <td>53I</td>\n",
       "      <td>VEHICLE ACCIDENT: INJURY</td>\n",
       "      <td>Non CIP</td>\n",
       "      <td>01/01/2023 01:08:21 AM</td>\n",
       "      <td>01/01/2023 01:09:57 AM</td>\n",
       "      <td>NaN</td>\n",
       "      <td>01/01/2023 01:57:44 AM</td>\n",
       "      <td>40.649730</td>\n",
       "      <td>-73.936475</td>\n",
       "    </tr>\n",
       "    <tr>\n",
       "      <th>1</th>\n",
       "      <td>91250180</td>\n",
       "      <td>01/01/2023</td>\n",
       "      <td>12/31/2022</td>\n",
       "      <td>23:24:47</td>\n",
       "      <td>75.0</td>\n",
       "      <td>BROOKLYN</td>\n",
       "      <td>PATROL BORO BKLYN NORTH</td>\n",
       "      <td>1017204</td>\n",
       "      <td>180778</td>\n",
       "      <td>11C4</td>\n",
       "      <td>ALARMS: COMMERCIAL/BURGLARY</td>\n",
       "      <td>Non CIP</td>\n",
       "      <td>01/01/2023 12:38:00 AM</td>\n",
       "      <td>01/01/2023 12:38:34 AM</td>\n",
       "      <td>01/01/2023 12:44:33 AM</td>\n",
       "      <td>01/01/2023 01:45:21 AM</td>\n",
       "      <td>40.662817</td>\n",
       "      <td>-73.881221</td>\n",
       "    </tr>\n",
       "    <tr>\n",
       "      <th>2</th>\n",
       "      <td>91250681</td>\n",
       "      <td>01/01/2023</td>\n",
       "      <td>12/31/2022</td>\n",
       "      <td>23:55:56</td>\n",
       "      <td>114.0</td>\n",
       "      <td>QUEENS</td>\n",
       "      <td>PATROL BORO QUEENS NORTH</td>\n",
       "      <td>1008573</td>\n",
       "      <td>217117</td>\n",
       "      <td>11R4</td>\n",
       "      <td>ALARMS: RESIDENTIAL/BURGLARY</td>\n",
       "      <td>Non CIP</td>\n",
       "      <td>01/01/2023 12:01:26 AM</td>\n",
       "      <td>01/01/2023 12:06:18 AM</td>\n",
       "      <td>NaN</td>\n",
       "      <td>01/01/2023 12:06:27 AM</td>\n",
       "      <td>40.762587</td>\n",
       "      <td>-73.912199</td>\n",
       "    </tr>\n",
       "    <tr>\n",
       "      <th>3</th>\n",
       "      <td>91250683</td>\n",
       "      <td>01/01/2023</td>\n",
       "      <td>12/31/2022</td>\n",
       "      <td>23:55:59</td>\n",
       "      <td>66.0</td>\n",
       "      <td>BROOKLYN</td>\n",
       "      <td>PATROL BORO BKLYN SOUTH</td>\n",
       "      <td>993234</td>\n",
       "      <td>161780</td>\n",
       "      <td>11R4</td>\n",
       "      <td>ALARMS: RESIDENTIAL/BURGLARY</td>\n",
       "      <td>Non CIP</td>\n",
       "      <td>01/01/2023 12:01:34 AM</td>\n",
       "      <td>01/01/2023 12:37:14 AM</td>\n",
       "      <td>01/01/2023 01:09:32 AM</td>\n",
       "      <td>01/01/2023 01:21:14 AM</td>\n",
       "      <td>40.610729</td>\n",
       "      <td>-73.967644</td>\n",
       "    </tr>\n",
       "    <tr>\n",
       "      <th>4</th>\n",
       "      <td>91250700</td>\n",
       "      <td>01/01/2023</td>\n",
       "      <td>12/31/2022</td>\n",
       "      <td>23:57:08</td>\n",
       "      <td>115.0</td>\n",
       "      <td>QUEENS</td>\n",
       "      <td>PATROL BORO QUEENS NORTH</td>\n",
       "      <td>1014264</td>\n",
       "      <td>211852</td>\n",
       "      <td>11C4</td>\n",
       "      <td>ALARMS: COMMERCIAL/BURGLARY</td>\n",
       "      <td>Non CIP</td>\n",
       "      <td>01/01/2023 12:01:29 AM</td>\n",
       "      <td>01/01/2023 12:14:28 AM</td>\n",
       "      <td>01/01/2023 12:21:59 AM</td>\n",
       "      <td>01/01/2023 01:24:22 AM</td>\n",
       "      <td>40.748119</td>\n",
       "      <td>-73.891679</td>\n",
       "    </tr>\n",
       "  </tbody>\n",
       "</table>\n",
       "</div>"
      ],
      "text/plain": [
       "   CAD_EVNT_ID CREATE_DATE INCIDENT_DATE INCIDENT_TIME  NYPD_PCT_CD   BORO_NM  \\\n",
       "0     91250176  01/01/2023    12/31/2022      23:24:39         67.0  BROOKLYN   \n",
       "1     91250180  01/01/2023    12/31/2022      23:24:47         75.0  BROOKLYN   \n",
       "2     91250681  01/01/2023    12/31/2022      23:55:56        114.0    QUEENS   \n",
       "3     91250683  01/01/2023    12/31/2022      23:55:59         66.0  BROOKLYN   \n",
       "4     91250700  01/01/2023    12/31/2022      23:57:08        115.0    QUEENS   \n",
       "\n",
       "              PATRL_BORO_NM  GEO_CD_X  GEO_CD_Y RADIO_CODE  \\\n",
       "0   PATROL BORO BKLYN SOUTH   1001878    175994        53I   \n",
       "1   PATROL BORO BKLYN NORTH   1017204    180778       11C4   \n",
       "2  PATROL BORO QUEENS NORTH   1008573    217117       11R4   \n",
       "3   PATROL BORO BKLYN SOUTH    993234    161780       11R4   \n",
       "4  PATROL BORO QUEENS NORTH   1014264    211852       11C4   \n",
       "\n",
       "                       TYP_DESC CIP_JOBS                  ADD_TS  \\\n",
       "0      VEHICLE ACCIDENT: INJURY  Non CIP  01/01/2023 01:08:21 AM   \n",
       "1   ALARMS: COMMERCIAL/BURGLARY  Non CIP  01/01/2023 12:38:00 AM   \n",
       "2  ALARMS: RESIDENTIAL/BURGLARY  Non CIP  01/01/2023 12:01:26 AM   \n",
       "3  ALARMS: RESIDENTIAL/BURGLARY  Non CIP  01/01/2023 12:01:34 AM   \n",
       "4   ALARMS: COMMERCIAL/BURGLARY  Non CIP  01/01/2023 12:01:29 AM   \n",
       "\n",
       "                  DISP_TS               ARRIVD_TS               CLOSNG_TS  \\\n",
       "0  01/01/2023 01:09:57 AM                     NaN  01/01/2023 01:57:44 AM   \n",
       "1  01/01/2023 12:38:34 AM  01/01/2023 12:44:33 AM  01/01/2023 01:45:21 AM   \n",
       "2  01/01/2023 12:06:18 AM                     NaN  01/01/2023 12:06:27 AM   \n",
       "3  01/01/2023 12:37:14 AM  01/01/2023 01:09:32 AM  01/01/2023 01:21:14 AM   \n",
       "4  01/01/2023 12:14:28 AM  01/01/2023 12:21:59 AM  01/01/2023 01:24:22 AM   \n",
       "\n",
       "    Latitude  Longitude  \n",
       "0  40.649730 -73.936475  \n",
       "1  40.662817 -73.881221  \n",
       "2  40.762587 -73.912199  \n",
       "3  40.610729 -73.967644  \n",
       "4  40.748119 -73.891679  "
      ]
     },
     "execution_count": 4,
     "metadata": {},
     "output_type": "execute_result"
    }
   ],
   "source": [
    "# Display the first few rows of the dataframe to understand its structure\n",
    "df.head()"
   ]
  },
  {
   "cell_type": "code",
   "execution_count": 5,
   "metadata": {},
   "outputs": [
    {
     "name": "stdout",
     "output_type": "stream",
     "text": [
      "The dataset contains, 7050127 Rows and 18 Columns.\n"
     ]
    }
   ],
   "source": [
    "# Display how many rows and columns exist in the dataset\n",
    "print ('The dataset contains,', df.shape[0], 'Rows and', df.shape[1], 'Columns.')"
   ]
  },
  {
   "cell_type": "code",
   "execution_count": 6,
   "metadata": {},
   "outputs": [
    {
     "data": {
      "text/plain": [
       "CAD_EVNT_ID            0\n",
       "CREATE_DATE            0\n",
       "INCIDENT_DATE          0\n",
       "INCIDENT_TIME          0\n",
       "NYPD_PCT_CD            4\n",
       "BORO_NM                0\n",
       "PATRL_BORO_NM          0\n",
       "GEO_CD_X               0\n",
       "GEO_CD_Y               0\n",
       "RADIO_CODE             0\n",
       "TYP_DESC               0\n",
       "CIP_JOBS               0\n",
       "ADD_TS                 0\n",
       "DISP_TS                0\n",
       "ARRIVD_TS        1503133\n",
       "CLOSNG_TS             20\n",
       "Latitude               0\n",
       "Longitude              0\n",
       "dtype: int64"
      ]
     },
     "execution_count": 6,
     "metadata": {},
     "output_type": "execute_result"
    }
   ],
   "source": [
    "# Checking for missing values\n",
    "df.isna().sum()"
   ]
  },
  {
   "cell_type": "code",
   "execution_count": 7,
   "metadata": {},
   "outputs": [
    {
     "data": {
      "text/plain": [
       "ARRIVD_TS        21.320651\n",
       "CLOSNG_TS         0.000284\n",
       "NYPD_PCT_CD       0.000057\n",
       "CAD_EVNT_ID       0.000000\n",
       "TYP_DESC          0.000000\n",
       "Latitude          0.000000\n",
       "DISP_TS           0.000000\n",
       "ADD_TS            0.000000\n",
       "CIP_JOBS          0.000000\n",
       "RADIO_CODE        0.000000\n",
       "CREATE_DATE       0.000000\n",
       "GEO_CD_Y          0.000000\n",
       "GEO_CD_X          0.000000\n",
       "PATRL_BORO_NM     0.000000\n",
       "BORO_NM           0.000000\n",
       "INCIDENT_TIME     0.000000\n",
       "INCIDENT_DATE     0.000000\n",
       "Longitude         0.000000\n",
       "dtype: float64"
      ]
     },
     "execution_count": 7,
     "metadata": {},
     "output_type": "execute_result"
    }
   ],
   "source": [
    "# Checking the percentage of missing values to determine missing values handling strategy i.e. if we should drop it, fill or not\n",
    "(df.isna().sum()/df.shape[0]*100).sort_values(ascending=False)"
   ]
  },
  {
   "cell_type": "code",
   "execution_count": 8,
   "metadata": {},
   "outputs": [
    {
     "data": {
      "text/plain": [
       "0"
      ]
     },
     "execution_count": 8,
     "metadata": {},
     "output_type": "execute_result"
    }
   ],
   "source": [
    "# Checking for number duplicate records\n",
    "df.duplicated().sum()"
   ]
  },
  {
   "cell_type": "code",
   "execution_count": 9,
   "metadata": {},
   "outputs": [
    {
     "data": {
      "text/plain": [
       "CAD_EVNT_ID        int64\n",
       "CREATE_DATE       object\n",
       "INCIDENT_DATE     object\n",
       "INCIDENT_TIME     object\n",
       "NYPD_PCT_CD      float64\n",
       "BORO_NM           object\n",
       "PATRL_BORO_NM     object\n",
       "GEO_CD_X           int64\n",
       "GEO_CD_Y           int64\n",
       "RADIO_CODE        object\n",
       "TYP_DESC          object\n",
       "CIP_JOBS          object\n",
       "ADD_TS            object\n",
       "DISP_TS           object\n",
       "ARRIVD_TS         object\n",
       "CLOSNG_TS         object\n",
       "Latitude         float64\n",
       "Longitude        float64\n",
       "dtype: object"
      ]
     },
     "execution_count": 9,
     "metadata": {},
     "output_type": "execute_result"
    }
   ],
   "source": [
    "# Display columns datatypes\n",
    "df.dtypes"
   ]
  },
  {
   "cell_type": "markdown",
   "metadata": {},
   "source": [
    "### Explore Numerical Columns "
   ]
  },
  {
   "cell_type": "code",
   "execution_count": 10,
   "metadata": {
    "scrolled": true
   },
   "outputs": [
    {
     "data": {
      "text/html": [
       "<div>\n",
       "<style scoped>\n",
       "    .dataframe tbody tr th:only-of-type {\n",
       "        vertical-align: middle;\n",
       "    }\n",
       "\n",
       "    .dataframe tbody tr th {\n",
       "        vertical-align: top;\n",
       "    }\n",
       "\n",
       "    .dataframe thead th {\n",
       "        text-align: right;\n",
       "    }\n",
       "</style>\n",
       "<table border=\"1\" class=\"dataframe\">\n",
       "  <thead>\n",
       "    <tr style=\"text-align: right;\">\n",
       "      <th></th>\n",
       "      <th>CAD_EVNT_ID</th>\n",
       "      <th>NYPD_PCT_CD</th>\n",
       "      <th>GEO_CD_X</th>\n",
       "      <th>GEO_CD_Y</th>\n",
       "      <th>Latitude</th>\n",
       "      <th>Longitude</th>\n",
       "    </tr>\n",
       "  </thead>\n",
       "  <tbody>\n",
       "    <tr>\n",
       "      <th>count</th>\n",
       "      <td>7.050127e+06</td>\n",
       "      <td>7.050123e+06</td>\n",
       "      <td>7.050127e+06</td>\n",
       "      <td>7.050127e+06</td>\n",
       "      <td>7.050127e+06</td>\n",
       "      <td>7.050127e+06</td>\n",
       "    </tr>\n",
       "    <tr>\n",
       "      <th>mean</th>\n",
       "      <td>9.551869e+07</td>\n",
       "      <td>6.063233e+01</td>\n",
       "      <td>1.003626e+06</td>\n",
       "      <td>2.074859e+05</td>\n",
       "      <td>4.073614e+01</td>\n",
       "      <td>-7.393006e+01</td>\n",
       "    </tr>\n",
       "    <tr>\n",
       "      <th>std</th>\n",
       "      <td>2.487523e+06</td>\n",
       "      <td>3.481665e+01</td>\n",
       "      <td>2.035810e+04</td>\n",
       "      <td>2.961937e+04</td>\n",
       "      <td>8.130092e-02</td>\n",
       "      <td>7.342417e-02</td>\n",
       "    </tr>\n",
       "    <tr>\n",
       "      <th>min</th>\n",
       "      <td>9.125018e+07</td>\n",
       "      <td>0.000000e+00</td>\n",
       "      <td>9.134110e+05</td>\n",
       "      <td>1.211310e+05</td>\n",
       "      <td>4.049891e+01</td>\n",
       "      <td>-7.425474e+01</td>\n",
       "    </tr>\n",
       "    <tr>\n",
       "      <th>25%</th>\n",
       "      <td>9.335395e+07</td>\n",
       "      <td>3.200000e+01</td>\n",
       "      <td>9.900280e+05</td>\n",
       "      <td>1.856010e+05</td>\n",
       "      <td>4.067605e+01</td>\n",
       "      <td>-7.397917e+01</td>\n",
       "    </tr>\n",
       "    <tr>\n",
       "      <th>50%</th>\n",
       "      <td>9.549693e+07</td>\n",
       "      <td>6.100000e+01</td>\n",
       "      <td>1.001732e+06</td>\n",
       "      <td>2.071380e+05</td>\n",
       "      <td>4.073523e+01</td>\n",
       "      <td>-7.393692e+01</td>\n",
       "    </tr>\n",
       "    <tr>\n",
       "      <th>75%</th>\n",
       "      <td>9.768264e+07</td>\n",
       "      <td>8.800000e+01</td>\n",
       "      <td>1.014683e+06</td>\n",
       "      <td>2.337910e+05</td>\n",
       "      <td>4.080837e+01</td>\n",
       "      <td>-7.389013e+01</td>\n",
       "    </tr>\n",
       "    <tr>\n",
       "      <th>max</th>\n",
       "      <td>9.984406e+07</td>\n",
       "      <td>1.230000e+02</td>\n",
       "      <td>1.067305e+06</td>\n",
       "      <td>2.723070e+05</td>\n",
       "      <td>4.091407e+01</td>\n",
       "      <td>-7.370029e+01</td>\n",
       "    </tr>\n",
       "  </tbody>\n",
       "</table>\n",
       "</div>"
      ],
      "text/plain": [
       "        CAD_EVNT_ID   NYPD_PCT_CD      GEO_CD_X      GEO_CD_Y      Latitude  \\\n",
       "count  7.050127e+06  7.050123e+06  7.050127e+06  7.050127e+06  7.050127e+06   \n",
       "mean   9.551869e+07  6.063233e+01  1.003626e+06  2.074859e+05  4.073614e+01   \n",
       "std    2.487523e+06  3.481665e+01  2.035810e+04  2.961937e+04  8.130092e-02   \n",
       "min    9.125018e+07  0.000000e+00  9.134110e+05  1.211310e+05  4.049891e+01   \n",
       "25%    9.335395e+07  3.200000e+01  9.900280e+05  1.856010e+05  4.067605e+01   \n",
       "50%    9.549693e+07  6.100000e+01  1.001732e+06  2.071380e+05  4.073523e+01   \n",
       "75%    9.768264e+07  8.800000e+01  1.014683e+06  2.337910e+05  4.080837e+01   \n",
       "max    9.984406e+07  1.230000e+02  1.067305e+06  2.723070e+05  4.091407e+01   \n",
       "\n",
       "          Longitude  \n",
       "count  7.050127e+06  \n",
       "mean  -7.393006e+01  \n",
       "std    7.342417e-02  \n",
       "min   -7.425474e+01  \n",
       "25%   -7.397917e+01  \n",
       "50%   -7.393692e+01  \n",
       "75%   -7.389013e+01  \n",
       "max   -7.370029e+01  "
      ]
     },
     "execution_count": 10,
     "metadata": {},
     "output_type": "execute_result"
    }
   ],
   "source": [
    "# Display basic statistics, including counts, average, standard deviation etc. \n",
    "df.describe()"
   ]
  },
  {
   "cell_type": "code",
   "execution_count": 11,
   "metadata": {},
   "outputs": [
    {
     "data": {
      "text/html": [
       "<div>\n",
       "<style scoped>\n",
       "    .dataframe tbody tr th:only-of-type {\n",
       "        vertical-align: middle;\n",
       "    }\n",
       "\n",
       "    .dataframe tbody tr th {\n",
       "        vertical-align: top;\n",
       "    }\n",
       "\n",
       "    .dataframe thead th {\n",
       "        text-align: right;\n",
       "    }\n",
       "</style>\n",
       "<table border=\"1\" class=\"dataframe\">\n",
       "  <thead>\n",
       "    <tr style=\"text-align: right;\">\n",
       "      <th></th>\n",
       "      <th>CAD_EVNT_ID</th>\n",
       "      <th>NYPD_PCT_CD</th>\n",
       "      <th>GEO_CD_X</th>\n",
       "      <th>GEO_CD_Y</th>\n",
       "      <th>Latitude</th>\n",
       "      <th>Longitude</th>\n",
       "    </tr>\n",
       "  </thead>\n",
       "  <tbody>\n",
       "    <tr>\n",
       "      <th>count</th>\n",
       "      <td>7050127</td>\n",
       "      <td>7050123.00</td>\n",
       "      <td>7050127.00</td>\n",
       "      <td>7050127.00</td>\n",
       "      <td>7050127.000000</td>\n",
       "      <td>7050127.000000</td>\n",
       "    </tr>\n",
       "    <tr>\n",
       "      <th>mean</th>\n",
       "      <td>95518689</td>\n",
       "      <td>60.63</td>\n",
       "      <td>1003625.95</td>\n",
       "      <td>207485.85</td>\n",
       "      <td>40.736141</td>\n",
       "      <td>-73.930059</td>\n",
       "    </tr>\n",
       "    <tr>\n",
       "      <th>std</th>\n",
       "      <td>2487523</td>\n",
       "      <td>34.82</td>\n",
       "      <td>20358.10</td>\n",
       "      <td>29619.37</td>\n",
       "      <td>0.081301</td>\n",
       "      <td>0.073424</td>\n",
       "    </tr>\n",
       "    <tr>\n",
       "      <th>min</th>\n",
       "      <td>91250176</td>\n",
       "      <td>0.00</td>\n",
       "      <td>913411.00</td>\n",
       "      <td>121131.00</td>\n",
       "      <td>40.498905</td>\n",
       "      <td>-74.254743</td>\n",
       "    </tr>\n",
       "    <tr>\n",
       "      <th>25%</th>\n",
       "      <td>93353953</td>\n",
       "      <td>32.00</td>\n",
       "      <td>990028.00</td>\n",
       "      <td>185601.00</td>\n",
       "      <td>40.676051</td>\n",
       "      <td>-73.979174</td>\n",
       "    </tr>\n",
       "    <tr>\n",
       "      <th>50%</th>\n",
       "      <td>95496929</td>\n",
       "      <td>61.00</td>\n",
       "      <td>1001732.00</td>\n",
       "      <td>207138.00</td>\n",
       "      <td>40.735230</td>\n",
       "      <td>-73.936918</td>\n",
       "    </tr>\n",
       "    <tr>\n",
       "      <th>75%</th>\n",
       "      <td>97682638</td>\n",
       "      <td>88.00</td>\n",
       "      <td>1014683.00</td>\n",
       "      <td>233791.00</td>\n",
       "      <td>40.808374</td>\n",
       "      <td>-73.890132</td>\n",
       "    </tr>\n",
       "    <tr>\n",
       "      <th>max</th>\n",
       "      <td>99844062</td>\n",
       "      <td>123.00</td>\n",
       "      <td>1067305.00</td>\n",
       "      <td>272307.00</td>\n",
       "      <td>40.914065</td>\n",
       "      <td>-73.700291</td>\n",
       "    </tr>\n",
       "  </tbody>\n",
       "</table>\n",
       "</div>"
      ],
      "text/plain": [
       "      CAD_EVNT_ID NYPD_PCT_CD    GEO_CD_X    GEO_CD_Y        Latitude  \\\n",
       "count     7050127  7050123.00  7050127.00  7050127.00  7050127.000000   \n",
       "mean     95518689       60.63  1003625.95   207485.85       40.736141   \n",
       "std       2487523       34.82    20358.10    29619.37        0.081301   \n",
       "min      91250176        0.00   913411.00   121131.00       40.498905   \n",
       "25%      93353953       32.00   990028.00   185601.00       40.676051   \n",
       "50%      95496929       61.00  1001732.00   207138.00       40.735230   \n",
       "75%      97682638       88.00  1014683.00   233791.00       40.808374   \n",
       "max      99844062      123.00  1067305.00   272307.00       40.914065   \n",
       "\n",
       "            Longitude  \n",
       "count  7050127.000000  \n",
       "mean       -73.930059  \n",
       "std          0.073424  \n",
       "min        -74.254743  \n",
       "25%        -73.979174  \n",
       "50%        -73.936918  \n",
       "75%        -73.890132  \n",
       "max        -73.700291  "
      ]
     },
     "execution_count": 11,
     "metadata": {},
     "output_type": "execute_result"
    }
   ],
   "source": [
    "# Format the dataset summary for readability\n",
    "df_describe = df.describe()\n",
    "df_summary = df_describe.copy() # create a copy to retain the original data frame summary\n",
    "\n",
    "# Display CAD_EVNT_ID as number instead of scientific notation\n",
    "df_summary['CAD_EVNT_ID'] = df_summary['CAD_EVNT_ID'].apply(lambda x: '{:.0f}'.format(x))\n",
    "\n",
    "# Display the NYPD_PCT_CD columns with 2 decimal places\n",
    "df_summary['NYPD_PCT_CD'] = df_summary['NYPD_PCT_CD'].apply(lambda x: f\"{x:.2f}\")\n",
    "\n",
    "# Display the GEO_CD_X and GEO_PCT_Y columns with 2 decimal places\n",
    "df_summary['GEO_CD_X'] = df_summary['GEO_CD_X'].apply(lambda x: f\"{x:.2f}\") \n",
    "df_summary['GEO_CD_Y'] = df_summary['GEO_CD_Y'].apply(lambda x: f\"{x:.2f}\") \n",
    "\n",
    "# Display the Latitude and Longitude columns with 6 decimal places\n",
    "df_summary['Latitude'] = df_summary['Latitude'].apply(lambda x: f\"{x:.6f}\") \n",
    "df_summary['Longitude'] = df_summary['Longitude'].apply(lambda x: f\"{x:.6f}\") \n",
    "\n",
    "df_summary"
   ]
  },
  {
   "cell_type": "code",
   "execution_count": 12,
   "metadata": {},
   "outputs": [
    {
     "name": "stdout",
     "output_type": "stream",
     "text": [
      "Unique Values for each categorical fields:\n"
     ]
    },
    {
     "data": {
      "text/plain": [
       "('Incident Types: 501', 'Boroughs: 6', 'Precincts: 78', 'Radio Codes: 504')"
      ]
     },
     "execution_count": 12,
     "metadata": {},
     "output_type": "execute_result"
    }
   ],
   "source": [
    "# Exploring unique values in categorical fields\n",
    "incident_types = df['TYP_DESC'].nunique()\n",
    "boroughs = df['BORO_NM'].nunique()\n",
    "precincts = df['NYPD_PCT_CD'].nunique()\n",
    "radio_codes = df['RADIO_CODE'].nunique()\n",
    "\n",
    "# Display unique values for category fields\n",
    "print('Unique Values for each categorical fields:')\n",
    "f\"Incident Types: {incident_types}\", f\"Boroughs: {boroughs}\", f\"Precincts: {precincts}\", f\"Radio Codes: {radio_codes}\""
   ]
  },
  {
   "cell_type": "markdown",
   "metadata": {},
   "source": [
    "#### Numerical Data Summary:\n",
    "The dataset contains 7,050,127 incidents with various metrics such as NYPD_PCT_CD (precinct code), GEO_CD_X and GEO_CD_Y (Incidents geographical coordinates), and latitudes and longitudes. The latitude and longitude values suggest that the incidents cover a wide area across the reported boroughs.\n",
    "\n",
    "#### Missing / Duplicate Values:\n",
    " There are three (3) columns with null or missing values that are not MNAR (missing not at random):\n",
    " - Officer arrival time stamp (\"Arrivd_Ts\") has 1,503,133 missing values i.e 21% of the entire dataset,\n",
    " - Incident closing timestamp (\"Closng_Ts\") has 20 missing values less than 1% \n",
    " - Precincts call in (Nypd_Pct_Cd) has 4 less than 0.5%.\n",
    "\n",
    "#### Unique Values:\n",
    " -  There are 501 unique incident types, indicating a wide variety of incidents reported.\n",
    " -  There are 6 unique boroughs represented, however this does not align with New York City's five boroughs, indicating there maybe null string present in the data (subject to further investigation and cleaning).\n",
    " -  The dataset includes incidents from 78 unique precincts, showing a broad coverage across different NYPD precincts.\n",
    " - There are 504 unique radio codes, matching the number of unique incident types, which may suggest a one-to-one mapping between incident types and radio codes.\n",
    " -  The numeric columns we have are geographical coordinates and called event index, while the other objects represented as numeric are datetime objects. Hence, we have to review the dataset, convert its datatypes to their correct format, and then drop columns that are not needed."
   ]
  },
  {
   "cell_type": "markdown",
   "metadata": {},
   "source": [
    "### Data Preparation and Cleaning"
   ]
  },
  {
   "cell_type": "markdown",
   "metadata": {},
   "source": [
    "Review, clean and adjust the dataframe's datatype(s) for analysis. This involves verifying that each column's data type accurately reflects its content. For details on what each column represents, see the <a href=\"https://github.com/RaphRivers/Analysis-of-NYPD-911-Calls-Data-for-Enhanced-Public-Safety/blob/main/dataset-desc.ipynb\" target=_blank>dataset columns description here</a>. Apply the appropriate data type to every column to enhance data consistency, quality, and reliability. Make sure all columns have the correct data type, such as converting object timestamps to datetime, integers to float, etc. Identify and address any NaN or null values to maintain data integrity."
   ]
  },
  {
   "cell_type": "code",
   "execution_count": 13,
   "metadata": {},
   "outputs": [
    {
     "data": {
      "text/plain": [
       "CAD_EVNT_ID        int64\n",
       "CREATE_DATE       object\n",
       "INCIDENT_DATE     object\n",
       "INCIDENT_TIME     object\n",
       "NYPD_PCT_CD      float64\n",
       "BORO_NM           object\n",
       "PATRL_BORO_NM     object\n",
       "GEO_CD_X           int64\n",
       "GEO_CD_Y           int64\n",
       "RADIO_CODE        object\n",
       "TYP_DESC          object\n",
       "CIP_JOBS          object\n",
       "ADD_TS            object\n",
       "DISP_TS           object\n",
       "ARRIVD_TS         object\n",
       "CLOSNG_TS         object\n",
       "Latitude         float64\n",
       "Longitude        float64\n",
       "dtype: object"
      ]
     },
     "execution_count": 13,
     "metadata": {},
     "output_type": "execute_result"
    }
   ],
   "source": [
    "# Verify columns datatypes conversion\n",
    "df.dtypes"
   ]
  },
  {
   "cell_type": "code",
   "execution_count": 14,
   "metadata": {
    "scrolled": true
   },
   "outputs": [
    {
     "data": {
      "text/html": [
       "<div>\n",
       "<style scoped>\n",
       "    .dataframe tbody tr th:only-of-type {\n",
       "        vertical-align: middle;\n",
       "    }\n",
       "\n",
       "    .dataframe tbody tr th {\n",
       "        vertical-align: top;\n",
       "    }\n",
       "\n",
       "    .dataframe thead th {\n",
       "        text-align: right;\n",
       "    }\n",
       "</style>\n",
       "<table border=\"1\" class=\"dataframe\">\n",
       "  <thead>\n",
       "    <tr style=\"text-align: right;\">\n",
       "      <th></th>\n",
       "      <th>CAD_EVNT_ID</th>\n",
       "      <th>CREATE_DATE</th>\n",
       "      <th>INCIDENT_DATE</th>\n",
       "      <th>INCIDENT_TIME</th>\n",
       "      <th>NYPD_PCT_CD</th>\n",
       "      <th>BORO_NM</th>\n",
       "      <th>PATRL_BORO_NM</th>\n",
       "      <th>GEO_CD_X</th>\n",
       "      <th>GEO_CD_Y</th>\n",
       "      <th>RADIO_CODE</th>\n",
       "      <th>TYP_DESC</th>\n",
       "      <th>CIP_JOBS</th>\n",
       "      <th>ADD_TS</th>\n",
       "      <th>DISP_TS</th>\n",
       "      <th>ARRIVD_TS</th>\n",
       "      <th>CLOSNG_TS</th>\n",
       "      <th>Latitude</th>\n",
       "      <th>Longitude</th>\n",
       "    </tr>\n",
       "  </thead>\n",
       "  <tbody>\n",
       "    <tr>\n",
       "      <th>0</th>\n",
       "      <td>91250176</td>\n",
       "      <td>01/01/2023</td>\n",
       "      <td>12/31/2022</td>\n",
       "      <td>23:24:39</td>\n",
       "      <td>67.0</td>\n",
       "      <td>BROOKLYN</td>\n",
       "      <td>PATROL BORO BKLYN SOUTH</td>\n",
       "      <td>1001878</td>\n",
       "      <td>175994</td>\n",
       "      <td>53I</td>\n",
       "      <td>VEHICLE ACCIDENT: INJURY</td>\n",
       "      <td>Non CIP</td>\n",
       "      <td>01/01/2023 01:08:21 AM</td>\n",
       "      <td>01/01/2023 01:09:57 AM</td>\n",
       "      <td>NaN</td>\n",
       "      <td>01/01/2023 01:57:44 AM</td>\n",
       "      <td>40.649730</td>\n",
       "      <td>-73.936475</td>\n",
       "    </tr>\n",
       "    <tr>\n",
       "      <th>1</th>\n",
       "      <td>91250180</td>\n",
       "      <td>01/01/2023</td>\n",
       "      <td>12/31/2022</td>\n",
       "      <td>23:24:47</td>\n",
       "      <td>75.0</td>\n",
       "      <td>BROOKLYN</td>\n",
       "      <td>PATROL BORO BKLYN NORTH</td>\n",
       "      <td>1017204</td>\n",
       "      <td>180778</td>\n",
       "      <td>11C4</td>\n",
       "      <td>ALARMS: COMMERCIAL/BURGLARY</td>\n",
       "      <td>Non CIP</td>\n",
       "      <td>01/01/2023 12:38:00 AM</td>\n",
       "      <td>01/01/2023 12:38:34 AM</td>\n",
       "      <td>01/01/2023 12:44:33 AM</td>\n",
       "      <td>01/01/2023 01:45:21 AM</td>\n",
       "      <td>40.662817</td>\n",
       "      <td>-73.881221</td>\n",
       "    </tr>\n",
       "    <tr>\n",
       "      <th>2</th>\n",
       "      <td>91250681</td>\n",
       "      <td>01/01/2023</td>\n",
       "      <td>12/31/2022</td>\n",
       "      <td>23:55:56</td>\n",
       "      <td>114.0</td>\n",
       "      <td>QUEENS</td>\n",
       "      <td>PATROL BORO QUEENS NORTH</td>\n",
       "      <td>1008573</td>\n",
       "      <td>217117</td>\n",
       "      <td>11R4</td>\n",
       "      <td>ALARMS: RESIDENTIAL/BURGLARY</td>\n",
       "      <td>Non CIP</td>\n",
       "      <td>01/01/2023 12:01:26 AM</td>\n",
       "      <td>01/01/2023 12:06:18 AM</td>\n",
       "      <td>NaN</td>\n",
       "      <td>01/01/2023 12:06:27 AM</td>\n",
       "      <td>40.762587</td>\n",
       "      <td>-73.912199</td>\n",
       "    </tr>\n",
       "    <tr>\n",
       "      <th>3</th>\n",
       "      <td>91250683</td>\n",
       "      <td>01/01/2023</td>\n",
       "      <td>12/31/2022</td>\n",
       "      <td>23:55:59</td>\n",
       "      <td>66.0</td>\n",
       "      <td>BROOKLYN</td>\n",
       "      <td>PATROL BORO BKLYN SOUTH</td>\n",
       "      <td>993234</td>\n",
       "      <td>161780</td>\n",
       "      <td>11R4</td>\n",
       "      <td>ALARMS: RESIDENTIAL/BURGLARY</td>\n",
       "      <td>Non CIP</td>\n",
       "      <td>01/01/2023 12:01:34 AM</td>\n",
       "      <td>01/01/2023 12:37:14 AM</td>\n",
       "      <td>01/01/2023 01:09:32 AM</td>\n",
       "      <td>01/01/2023 01:21:14 AM</td>\n",
       "      <td>40.610729</td>\n",
       "      <td>-73.967644</td>\n",
       "    </tr>\n",
       "    <tr>\n",
       "      <th>4</th>\n",
       "      <td>91250700</td>\n",
       "      <td>01/01/2023</td>\n",
       "      <td>12/31/2022</td>\n",
       "      <td>23:57:08</td>\n",
       "      <td>115.0</td>\n",
       "      <td>QUEENS</td>\n",
       "      <td>PATROL BORO QUEENS NORTH</td>\n",
       "      <td>1014264</td>\n",
       "      <td>211852</td>\n",
       "      <td>11C4</td>\n",
       "      <td>ALARMS: COMMERCIAL/BURGLARY</td>\n",
       "      <td>Non CIP</td>\n",
       "      <td>01/01/2023 12:01:29 AM</td>\n",
       "      <td>01/01/2023 12:14:28 AM</td>\n",
       "      <td>01/01/2023 12:21:59 AM</td>\n",
       "      <td>01/01/2023 01:24:22 AM</td>\n",
       "      <td>40.748119</td>\n",
       "      <td>-73.891679</td>\n",
       "    </tr>\n",
       "  </tbody>\n",
       "</table>\n",
       "</div>"
      ],
      "text/plain": [
       "   CAD_EVNT_ID CREATE_DATE INCIDENT_DATE INCIDENT_TIME  NYPD_PCT_CD   BORO_NM  \\\n",
       "0     91250176  01/01/2023    12/31/2022      23:24:39         67.0  BROOKLYN   \n",
       "1     91250180  01/01/2023    12/31/2022      23:24:47         75.0  BROOKLYN   \n",
       "2     91250681  01/01/2023    12/31/2022      23:55:56        114.0    QUEENS   \n",
       "3     91250683  01/01/2023    12/31/2022      23:55:59         66.0  BROOKLYN   \n",
       "4     91250700  01/01/2023    12/31/2022      23:57:08        115.0    QUEENS   \n",
       "\n",
       "              PATRL_BORO_NM  GEO_CD_X  GEO_CD_Y RADIO_CODE  \\\n",
       "0   PATROL BORO BKLYN SOUTH   1001878    175994        53I   \n",
       "1   PATROL BORO BKLYN NORTH   1017204    180778       11C4   \n",
       "2  PATROL BORO QUEENS NORTH   1008573    217117       11R4   \n",
       "3   PATROL BORO BKLYN SOUTH    993234    161780       11R4   \n",
       "4  PATROL BORO QUEENS NORTH   1014264    211852       11C4   \n",
       "\n",
       "                       TYP_DESC CIP_JOBS                  ADD_TS  \\\n",
       "0      VEHICLE ACCIDENT: INJURY  Non CIP  01/01/2023 01:08:21 AM   \n",
       "1   ALARMS: COMMERCIAL/BURGLARY  Non CIP  01/01/2023 12:38:00 AM   \n",
       "2  ALARMS: RESIDENTIAL/BURGLARY  Non CIP  01/01/2023 12:01:26 AM   \n",
       "3  ALARMS: RESIDENTIAL/BURGLARY  Non CIP  01/01/2023 12:01:34 AM   \n",
       "4   ALARMS: COMMERCIAL/BURGLARY  Non CIP  01/01/2023 12:01:29 AM   \n",
       "\n",
       "                  DISP_TS               ARRIVD_TS               CLOSNG_TS  \\\n",
       "0  01/01/2023 01:09:57 AM                     NaN  01/01/2023 01:57:44 AM   \n",
       "1  01/01/2023 12:38:34 AM  01/01/2023 12:44:33 AM  01/01/2023 01:45:21 AM   \n",
       "2  01/01/2023 12:06:18 AM                     NaN  01/01/2023 12:06:27 AM   \n",
       "3  01/01/2023 12:37:14 AM  01/01/2023 01:09:32 AM  01/01/2023 01:21:14 AM   \n",
       "4  01/01/2023 12:14:28 AM  01/01/2023 12:21:59 AM  01/01/2023 01:24:22 AM   \n",
       "\n",
       "    Latitude  Longitude  \n",
       "0  40.649730 -73.936475  \n",
       "1  40.662817 -73.881221  \n",
       "2  40.762587 -73.912199  \n",
       "3  40.610729 -73.967644  \n",
       "4  40.748119 -73.891679  "
      ]
     },
     "execution_count": 14,
     "metadata": {},
     "output_type": "execute_result"
    }
   ],
   "source": [
    "df.head()"
   ]
  },
  {
   "cell_type": "code",
   "execution_count": 15,
   "metadata": {},
   "outputs": [
    {
     "data": {
      "text/plain": [
       "Index(['Cad_Evnt_Id', 'Create_Date', 'Incident_Date', 'Incident_Time',\n",
       "       'Nypd_Pct_Cd', 'Boro_Nm', 'Patrl_Boro_Nm', 'Geo_Cd_X', 'Geo_Cd_Y',\n",
       "       'Radio_Code', 'Typ_Desc', 'Cip_Jobs', 'Add_Ts', 'Disp_Ts', 'Arrivd_Ts',\n",
       "       'Closng_Ts', 'Latitude', 'Longitude'],\n",
       "      dtype='object')"
      ]
     },
     "execution_count": 15,
     "metadata": {},
     "output_type": "execute_result"
    }
   ],
   "source": [
    "# Converting all columns title to titleccase\n",
    "df.columns = df.columns.str.title()\n",
    "df.columns"
   ]
  },
  {
   "cell_type": "code",
   "execution_count": 16,
   "metadata": {},
   "outputs": [],
   "source": [
    "# Convert the text objects column to string \n",
    "str_columns = ['Boro_Nm','Patrl_Boro_Nm','Typ_Desc','Cip_Jobs']\n",
    "df[str_columns] = df[str_columns].astype(str)"
   ]
  },
  {
   "cell_type": "markdown",
   "metadata": {},
   "source": [
    "For a thorough temporal analysis and to study the pattern of incidents over time, including how 911 call distributions vary throughout the day, I will merge the Incident_Date and Incident_Time columns into a single column named Incident_Datetime, thereby creating a complete incident timestamp. This step is crucial because, without a specific date, the times listed in Incident_Time cannot be effectively transformed into timestamps necessary for temporal analysis, which requires precise moments in time that encompass both date and time."
   ]
  },
  {
   "cell_type": "code",
   "execution_count": 17,
   "metadata": {},
   "outputs": [],
   "source": [
    "# Combine both incident date and incident time into a single datetime column \n",
    "df['Incident_Datetime'] = pd.to_datetime(df['Incident_Date'] + ' ' + df['Incident_Time'], format='%m/%d/%Y %H:%M:%S')\n",
    "# Create Incident Timestamp column from Incident_Datetime to perform time only operations\n",
    "df['Incident_Ts'] = df['Incident_Datetime'].dt.time # use datetime accessor to keep only the time in 24 hrs format"
   ]
  },
  {
   "cell_type": "code",
   "execution_count": 18,
   "metadata": {},
   "outputs": [],
   "source": [
    "# Convert the date and timestamp objects column to datetime in their corresponding formats\n",
    "# Note! There may be ambiguous date strings that may throw a dateutil warning. Ensure to use format parameters to overcome this. \n",
    "df['Create_Date'] = pd.to_datetime(df['Create_Date'], format='%m/%d/%Y', errors='coerce')\n",
    "df['Add_Ts'] = pd.to_datetime(df['Add_Ts'], format='%m/%d/%Y %I:%M:%S %p', errors='coerce')\n",
    "df['Disp_Ts'] = pd.to_datetime(df['Disp_Ts'], format='%m/%d/%Y %I:%M:%S %p', errors='coerce')\n",
    "df['Arrivd_Ts'] = pd.to_datetime(df['Arrivd_Ts'], format='%m/%d/%Y %I:%M:%S %p', errors='coerce')\n",
    "df['Closng_Ts'] = pd.to_datetime(df['Closng_Ts'], format='%m/%d/%Y %I:%M:%S %p', errors='coerce')"
   ]
  },
  {
   "cell_type": "code",
   "execution_count": 19,
   "metadata": {},
   "outputs": [
    {
     "name": "stdout",
     "output_type": "stream",
     "text": [
      "<class 'pandas.core.frame.DataFrame'>\n",
      "RangeIndex: 7050127 entries, 0 to 7050126\n",
      "Data columns (total 20 columns):\n",
      " #   Column             Dtype         \n",
      "---  ------             -----         \n",
      " 0   Cad_Evnt_Id        int64         \n",
      " 1   Create_Date        datetime64[ns]\n",
      " 2   Incident_Date      object        \n",
      " 3   Incident_Time      object        \n",
      " 4   Nypd_Pct_Cd        float64       \n",
      " 5   Boro_Nm            object        \n",
      " 6   Patrl_Boro_Nm      object        \n",
      " 7   Geo_Cd_X           int64         \n",
      " 8   Geo_Cd_Y           int64         \n",
      " 9   Radio_Code         object        \n",
      " 10  Typ_Desc           object        \n",
      " 11  Cip_Jobs           object        \n",
      " 12  Add_Ts             datetime64[ns]\n",
      " 13  Disp_Ts            datetime64[ns]\n",
      " 14  Arrivd_Ts          datetime64[ns]\n",
      " 15  Closng_Ts          datetime64[ns]\n",
      " 16  Latitude           float64       \n",
      " 17  Longitude          float64       \n",
      " 18  Incident_Datetime  datetime64[ns]\n",
      " 19  Incident_Ts        object        \n",
      "dtypes: datetime64[ns](6), float64(3), int64(3), object(8)\n",
      "memory usage: 1.1+ GB\n"
     ]
    }
   ],
   "source": [
    "# Evaluate the changes in datatypes\n",
    "df.info()"
   ]
  },
  {
   "cell_type": "code",
   "execution_count": 20,
   "metadata": {},
   "outputs": [
    {
     "data": {
      "text/html": [
       "<div>\n",
       "<style scoped>\n",
       "    .dataframe tbody tr th:only-of-type {\n",
       "        vertical-align: middle;\n",
       "    }\n",
       "\n",
       "    .dataframe tbody tr th {\n",
       "        vertical-align: top;\n",
       "    }\n",
       "\n",
       "    .dataframe thead th {\n",
       "        text-align: right;\n",
       "    }\n",
       "</style>\n",
       "<table border=\"1\" class=\"dataframe\">\n",
       "  <thead>\n",
       "    <tr style=\"text-align: right;\">\n",
       "      <th></th>\n",
       "      <th>Cad_Evnt_Id</th>\n",
       "      <th>Create_Date</th>\n",
       "      <th>Incident_Date</th>\n",
       "      <th>Incident_Time</th>\n",
       "      <th>Nypd_Pct_Cd</th>\n",
       "      <th>Boro_Nm</th>\n",
       "      <th>Patrl_Boro_Nm</th>\n",
       "      <th>Geo_Cd_X</th>\n",
       "      <th>Geo_Cd_Y</th>\n",
       "      <th>Radio_Code</th>\n",
       "      <th>Typ_Desc</th>\n",
       "      <th>Cip_Jobs</th>\n",
       "      <th>Add_Ts</th>\n",
       "      <th>Disp_Ts</th>\n",
       "      <th>Arrivd_Ts</th>\n",
       "      <th>Closng_Ts</th>\n",
       "      <th>Latitude</th>\n",
       "      <th>Longitude</th>\n",
       "      <th>Incident_Datetime</th>\n",
       "      <th>Incident_Ts</th>\n",
       "    </tr>\n",
       "  </thead>\n",
       "  <tbody>\n",
       "    <tr>\n",
       "      <th>0</th>\n",
       "      <td>91250176</td>\n",
       "      <td>2023-01-01</td>\n",
       "      <td>12/31/2022</td>\n",
       "      <td>23:24:39</td>\n",
       "      <td>67.0</td>\n",
       "      <td>BROOKLYN</td>\n",
       "      <td>PATROL BORO BKLYN SOUTH</td>\n",
       "      <td>1001878</td>\n",
       "      <td>175994</td>\n",
       "      <td>53I</td>\n",
       "      <td>VEHICLE ACCIDENT: INJURY</td>\n",
       "      <td>Non CIP</td>\n",
       "      <td>2023-01-01 01:08:21</td>\n",
       "      <td>2023-01-01 01:09:57</td>\n",
       "      <td>NaT</td>\n",
       "      <td>2023-01-01 01:57:44</td>\n",
       "      <td>40.649730</td>\n",
       "      <td>-73.936475</td>\n",
       "      <td>2022-12-31 23:24:39</td>\n",
       "      <td>23:24:39</td>\n",
       "    </tr>\n",
       "    <tr>\n",
       "      <th>1</th>\n",
       "      <td>91250180</td>\n",
       "      <td>2023-01-01</td>\n",
       "      <td>12/31/2022</td>\n",
       "      <td>23:24:47</td>\n",
       "      <td>75.0</td>\n",
       "      <td>BROOKLYN</td>\n",
       "      <td>PATROL BORO BKLYN NORTH</td>\n",
       "      <td>1017204</td>\n",
       "      <td>180778</td>\n",
       "      <td>11C4</td>\n",
       "      <td>ALARMS: COMMERCIAL/BURGLARY</td>\n",
       "      <td>Non CIP</td>\n",
       "      <td>2023-01-01 00:38:00</td>\n",
       "      <td>2023-01-01 00:38:34</td>\n",
       "      <td>2023-01-01 00:44:33</td>\n",
       "      <td>2023-01-01 01:45:21</td>\n",
       "      <td>40.662817</td>\n",
       "      <td>-73.881221</td>\n",
       "      <td>2022-12-31 23:24:47</td>\n",
       "      <td>23:24:47</td>\n",
       "    </tr>\n",
       "    <tr>\n",
       "      <th>2</th>\n",
       "      <td>91250681</td>\n",
       "      <td>2023-01-01</td>\n",
       "      <td>12/31/2022</td>\n",
       "      <td>23:55:56</td>\n",
       "      <td>114.0</td>\n",
       "      <td>QUEENS</td>\n",
       "      <td>PATROL BORO QUEENS NORTH</td>\n",
       "      <td>1008573</td>\n",
       "      <td>217117</td>\n",
       "      <td>11R4</td>\n",
       "      <td>ALARMS: RESIDENTIAL/BURGLARY</td>\n",
       "      <td>Non CIP</td>\n",
       "      <td>2023-01-01 00:01:26</td>\n",
       "      <td>2023-01-01 00:06:18</td>\n",
       "      <td>NaT</td>\n",
       "      <td>2023-01-01 00:06:27</td>\n",
       "      <td>40.762587</td>\n",
       "      <td>-73.912199</td>\n",
       "      <td>2022-12-31 23:55:56</td>\n",
       "      <td>23:55:56</td>\n",
       "    </tr>\n",
       "    <tr>\n",
       "      <th>3</th>\n",
       "      <td>91250683</td>\n",
       "      <td>2023-01-01</td>\n",
       "      <td>12/31/2022</td>\n",
       "      <td>23:55:59</td>\n",
       "      <td>66.0</td>\n",
       "      <td>BROOKLYN</td>\n",
       "      <td>PATROL BORO BKLYN SOUTH</td>\n",
       "      <td>993234</td>\n",
       "      <td>161780</td>\n",
       "      <td>11R4</td>\n",
       "      <td>ALARMS: RESIDENTIAL/BURGLARY</td>\n",
       "      <td>Non CIP</td>\n",
       "      <td>2023-01-01 00:01:34</td>\n",
       "      <td>2023-01-01 00:37:14</td>\n",
       "      <td>2023-01-01 01:09:32</td>\n",
       "      <td>2023-01-01 01:21:14</td>\n",
       "      <td>40.610729</td>\n",
       "      <td>-73.967644</td>\n",
       "      <td>2022-12-31 23:55:59</td>\n",
       "      <td>23:55:59</td>\n",
       "    </tr>\n",
       "    <tr>\n",
       "      <th>4</th>\n",
       "      <td>91250700</td>\n",
       "      <td>2023-01-01</td>\n",
       "      <td>12/31/2022</td>\n",
       "      <td>23:57:08</td>\n",
       "      <td>115.0</td>\n",
       "      <td>QUEENS</td>\n",
       "      <td>PATROL BORO QUEENS NORTH</td>\n",
       "      <td>1014264</td>\n",
       "      <td>211852</td>\n",
       "      <td>11C4</td>\n",
       "      <td>ALARMS: COMMERCIAL/BURGLARY</td>\n",
       "      <td>Non CIP</td>\n",
       "      <td>2023-01-01 00:01:29</td>\n",
       "      <td>2023-01-01 00:14:28</td>\n",
       "      <td>2023-01-01 00:21:59</td>\n",
       "      <td>2023-01-01 01:24:22</td>\n",
       "      <td>40.748119</td>\n",
       "      <td>-73.891679</td>\n",
       "      <td>2022-12-31 23:57:08</td>\n",
       "      <td>23:57:08</td>\n",
       "    </tr>\n",
       "  </tbody>\n",
       "</table>\n",
       "</div>"
      ],
      "text/plain": [
       "   Cad_Evnt_Id Create_Date Incident_Date Incident_Time  Nypd_Pct_Cd   Boro_Nm  \\\n",
       "0     91250176  2023-01-01    12/31/2022      23:24:39         67.0  BROOKLYN   \n",
       "1     91250180  2023-01-01    12/31/2022      23:24:47         75.0  BROOKLYN   \n",
       "2     91250681  2023-01-01    12/31/2022      23:55:56        114.0    QUEENS   \n",
       "3     91250683  2023-01-01    12/31/2022      23:55:59         66.0  BROOKLYN   \n",
       "4     91250700  2023-01-01    12/31/2022      23:57:08        115.0    QUEENS   \n",
       "\n",
       "              Patrl_Boro_Nm  Geo_Cd_X  Geo_Cd_Y Radio_Code  \\\n",
       "0   PATROL BORO BKLYN SOUTH   1001878    175994        53I   \n",
       "1   PATROL BORO BKLYN NORTH   1017204    180778       11C4   \n",
       "2  PATROL BORO QUEENS NORTH   1008573    217117       11R4   \n",
       "3   PATROL BORO BKLYN SOUTH    993234    161780       11R4   \n",
       "4  PATROL BORO QUEENS NORTH   1014264    211852       11C4   \n",
       "\n",
       "                       Typ_Desc Cip_Jobs              Add_Ts  \\\n",
       "0      VEHICLE ACCIDENT: INJURY  Non CIP 2023-01-01 01:08:21   \n",
       "1   ALARMS: COMMERCIAL/BURGLARY  Non CIP 2023-01-01 00:38:00   \n",
       "2  ALARMS: RESIDENTIAL/BURGLARY  Non CIP 2023-01-01 00:01:26   \n",
       "3  ALARMS: RESIDENTIAL/BURGLARY  Non CIP 2023-01-01 00:01:34   \n",
       "4   ALARMS: COMMERCIAL/BURGLARY  Non CIP 2023-01-01 00:01:29   \n",
       "\n",
       "              Disp_Ts           Arrivd_Ts           Closng_Ts   Latitude  \\\n",
       "0 2023-01-01 01:09:57                 NaT 2023-01-01 01:57:44  40.649730   \n",
       "1 2023-01-01 00:38:34 2023-01-01 00:44:33 2023-01-01 01:45:21  40.662817   \n",
       "2 2023-01-01 00:06:18                 NaT 2023-01-01 00:06:27  40.762587   \n",
       "3 2023-01-01 00:37:14 2023-01-01 01:09:32 2023-01-01 01:21:14  40.610729   \n",
       "4 2023-01-01 00:14:28 2023-01-01 00:21:59 2023-01-01 01:24:22  40.748119   \n",
       "\n",
       "   Longitude   Incident_Datetime Incident_Ts  \n",
       "0 -73.936475 2022-12-31 23:24:39    23:24:39  \n",
       "1 -73.881221 2022-12-31 23:24:47    23:24:47  \n",
       "2 -73.912199 2022-12-31 23:55:56    23:55:56  \n",
       "3 -73.967644 2022-12-31 23:55:59    23:55:59  \n",
       "4 -73.891679 2022-12-31 23:57:08    23:57:08  "
      ]
     },
     "execution_count": 20,
     "metadata": {},
     "output_type": "execute_result"
    }
   ],
   "source": [
    "df.head()"
   ]
  },
  {
   "cell_type": "code",
   "execution_count": 21,
   "metadata": {},
   "outputs": [],
   "source": [
    "# Create a dataframe subset for data manipulation\n",
    "df_subset = df"
   ]
  },
  {
   "cell_type": "code",
   "execution_count": 22,
   "metadata": {},
   "outputs": [
    {
     "data": {
      "text/plain": [
       "Index(['Cad_Evnt_Id', 'Create_Date', 'Incident_Date', 'Incident_Time',\n",
       "       'Nypd_Pct_Cd', 'Boro_Nm', 'Patrl_Boro_Nm', 'Geo_Cd_X', 'Geo_Cd_Y',\n",
       "       'Radio_Code', 'Typ_Desc', 'Cip_Jobs', 'Add_Ts', 'Disp_Ts', 'Arrivd_Ts',\n",
       "       'Closng_Ts', 'Latitude', 'Longitude', 'Incident_Datetime',\n",
       "       'Incident_Ts'],\n",
       "      dtype='object')"
      ]
     },
     "execution_count": 22,
     "metadata": {},
     "output_type": "execute_result"
    }
   ],
   "source": [
    "df_subset.columns"
   ]
  },
  {
   "cell_type": "markdown",
   "metadata": {},
   "source": [
    "Observe that some column names are not immediately clear, so I will be renaming and reorganizing the columns to ensure they are more understandable and logically arranged. Additionally, the NYPD 911 call response identifier and radio code columns (Nypd_Pct_Cd, and Radio_Code) will not be necessary for this project, so I will remove them."
   ]
  },
  {
   "cell_type": "code",
   "execution_count": 23,
   "metadata": {},
   "outputs": [],
   "source": [
    "# Drop unwanted columns and drop unwanted columns including Nypd_Pct_Cd, and Radio_Code\n",
    "df_subset = df_subset.drop(columns=['Incident_Date','Incident_Time', 'Nypd_Pct_Cd', 'Radio_Code'])\n",
    "# Reset dataframe index\n",
    "df_subset = df_subset.reset_index(drop=True)"
   ]
  },
  {
   "cell_type": "code",
   "execution_count": 24,
   "metadata": {},
   "outputs": [],
   "source": [
    "# Renaming selected columns titles \n",
    "df_subset = df_subset.rename(columns={'Cad_Evnt_Id':'Event_Id', 'Boro_Nm':'Borough', 'Patrl_Boro_Nm':'Neighborhood', 'Geo_Cd_X':'Block_X_Coordinate', 'Geo_Cd_Y':'Block_Y_Coordinate',\n",
    "                                'Typ_Desc':'Type_Description', 'Cip_Jobs':'Call_Flag','Add_Ts':'Time_Call_Added', 'Arrivd_Ts':'Time_Arrived','Disp_Ts':'Dispatch_Time', \n",
    "                                'Closng_Ts':'Closing_Time'}).copy()"
   ]
  },
  {
   "cell_type": "code",
   "execution_count": 25,
   "metadata": {},
   "outputs": [],
   "source": [
    "# Re arrange dataframe columns\n",
    "df_subset = df_subset[['Event_Id', 'Create_Date', 'Incident_Datetime', 'Incident_Ts', 'Type_Description', 'Call_Flag', 'Borough', 'Neighborhood', \n",
    "         'Time_Call_Added', 'Dispatch_Time', 'Time_Arrived', 'Closing_Time', 'Block_X_Coordinate', 'Block_Y_Coordinate', 'Latitude', 'Longitude']]       "
   ]
  },
  {
   "cell_type": "code",
   "execution_count": 26,
   "metadata": {},
   "outputs": [
    {
     "data": {
      "text/plain": [
       "Index(['Event_Id', 'Create_Date', 'Incident_Datetime', 'Incident_Ts',\n",
       "       'Type_Description', 'Call_Flag', 'Borough', 'Neighborhood',\n",
       "       'Time_Call_Added', 'Dispatch_Time', 'Time_Arrived', 'Closing_Time',\n",
       "       'Block_X_Coordinate', 'Block_Y_Coordinate', 'Latitude', 'Longitude'],\n",
       "      dtype='object')"
      ]
     },
     "execution_count": 26,
     "metadata": {},
     "output_type": "execute_result"
    }
   ],
   "source": [
    "# Verify columns\n",
    "df_subset.columns"
   ]
  },
  {
   "cell_type": "code",
   "execution_count": 27,
   "metadata": {},
   "outputs": [
    {
     "data": {
      "text/html": [
       "<div>\n",
       "<style scoped>\n",
       "    .dataframe tbody tr th:only-of-type {\n",
       "        vertical-align: middle;\n",
       "    }\n",
       "\n",
       "    .dataframe tbody tr th {\n",
       "        vertical-align: top;\n",
       "    }\n",
       "\n",
       "    .dataframe thead th {\n",
       "        text-align: right;\n",
       "    }\n",
       "</style>\n",
       "<table border=\"1\" class=\"dataframe\">\n",
       "  <thead>\n",
       "    <tr style=\"text-align: right;\">\n",
       "      <th></th>\n",
       "      <th>Event_Id</th>\n",
       "      <th>Create_Date</th>\n",
       "      <th>Incident_Datetime</th>\n",
       "      <th>Incident_Ts</th>\n",
       "      <th>Type_Description</th>\n",
       "      <th>Call_Flag</th>\n",
       "      <th>Borough</th>\n",
       "      <th>Neighborhood</th>\n",
       "      <th>Time_Call_Added</th>\n",
       "      <th>Dispatch_Time</th>\n",
       "      <th>Time_Arrived</th>\n",
       "      <th>Closing_Time</th>\n",
       "      <th>Block_X_Coordinate</th>\n",
       "      <th>Block_Y_Coordinate</th>\n",
       "      <th>Latitude</th>\n",
       "      <th>Longitude</th>\n",
       "    </tr>\n",
       "  </thead>\n",
       "  <tbody>\n",
       "    <tr>\n",
       "      <th>0</th>\n",
       "      <td>91250176</td>\n",
       "      <td>2023-01-01</td>\n",
       "      <td>2022-12-31 23:24:39</td>\n",
       "      <td>23:24:39</td>\n",
       "      <td>VEHICLE ACCIDENT: INJURY</td>\n",
       "      <td>Non CIP</td>\n",
       "      <td>BROOKLYN</td>\n",
       "      <td>PATROL BORO BKLYN SOUTH</td>\n",
       "      <td>2023-01-01 01:08:21</td>\n",
       "      <td>2023-01-01 01:09:57</td>\n",
       "      <td>NaT</td>\n",
       "      <td>2023-01-01 01:57:44</td>\n",
       "      <td>1001878</td>\n",
       "      <td>175994</td>\n",
       "      <td>40.649730</td>\n",
       "      <td>-73.936475</td>\n",
       "    </tr>\n",
       "    <tr>\n",
       "      <th>1</th>\n",
       "      <td>91250180</td>\n",
       "      <td>2023-01-01</td>\n",
       "      <td>2022-12-31 23:24:47</td>\n",
       "      <td>23:24:47</td>\n",
       "      <td>ALARMS: COMMERCIAL/BURGLARY</td>\n",
       "      <td>Non CIP</td>\n",
       "      <td>BROOKLYN</td>\n",
       "      <td>PATROL BORO BKLYN NORTH</td>\n",
       "      <td>2023-01-01 00:38:00</td>\n",
       "      <td>2023-01-01 00:38:34</td>\n",
       "      <td>2023-01-01 00:44:33</td>\n",
       "      <td>2023-01-01 01:45:21</td>\n",
       "      <td>1017204</td>\n",
       "      <td>180778</td>\n",
       "      <td>40.662817</td>\n",
       "      <td>-73.881221</td>\n",
       "    </tr>\n",
       "  </tbody>\n",
       "</table>\n",
       "</div>"
      ],
      "text/plain": [
       "   Event_Id Create_Date   Incident_Datetime Incident_Ts  \\\n",
       "0  91250176  2023-01-01 2022-12-31 23:24:39    23:24:39   \n",
       "1  91250180  2023-01-01 2022-12-31 23:24:47    23:24:47   \n",
       "\n",
       "              Type_Description Call_Flag   Borough             Neighborhood  \\\n",
       "0     VEHICLE ACCIDENT: INJURY   Non CIP  BROOKLYN  PATROL BORO BKLYN SOUTH   \n",
       "1  ALARMS: COMMERCIAL/BURGLARY   Non CIP  BROOKLYN  PATROL BORO BKLYN NORTH   \n",
       "\n",
       "      Time_Call_Added       Dispatch_Time        Time_Arrived  \\\n",
       "0 2023-01-01 01:08:21 2023-01-01 01:09:57                 NaT   \n",
       "1 2023-01-01 00:38:00 2023-01-01 00:38:34 2023-01-01 00:44:33   \n",
       "\n",
       "         Closing_Time  Block_X_Coordinate  Block_Y_Coordinate   Latitude  \\\n",
       "0 2023-01-01 01:57:44             1001878              175994  40.649730   \n",
       "1 2023-01-01 01:45:21             1017204              180778  40.662817   \n",
       "\n",
       "   Longitude  \n",
       "0 -73.936475  \n",
       "1 -73.881221  "
      ]
     },
     "execution_count": 27,
     "metadata": {},
     "output_type": "execute_result"
    }
   ],
   "source": [
    "df_subset.head(2)"
   ]
  },
  {
   "cell_type": "markdown",
   "metadata": {},
   "source": [
    "Furthermore, notice the incident Type_Description and Neighborhood columns string values are in uppercase. Hence, I will change them to normal case to enhance readability and then preview the changes."
   ]
  },
  {
   "cell_type": "code",
   "execution_count": 28,
   "metadata": {},
   "outputs": [],
   "source": [
    "# Changing column contents string to title case to selected columns using a for loop\n",
    "col_titlecase = ['Type_Description','Borough','Neighborhood',]\n",
    "for i in col_titlecase:\n",
    "    if i in df_subset.columns:\n",
    "        df_subset[i] = df_subset[i].astype(str).str.title() # Check if the column exists to avoid errors"
   ]
  },
  {
   "cell_type": "markdown",
   "metadata": {},
   "source": [
    "Validate geospatial data to ensure these values are within valid ranges (Latitude between -90 and 90, Longitude between -180 and 180). "
   ]
  },
  {
   "cell_type": "code",
   "execution_count": 29,
   "metadata": {
    "scrolled": true
   },
   "outputs": [],
   "source": [
    "# Validate Latitude and Longitude\n",
    "df_subset = df_subset[(df_subset['Latitude'].between(-90, 90)) & (df_subset['Longitude'].between(-180, 180))]"
   ]
  },
  {
   "cell_type": "code",
   "execution_count": 30,
   "metadata": {
    "scrolled": true
   },
   "outputs": [
    {
     "data": {
      "text/html": [
       "<div>\n",
       "<style scoped>\n",
       "    .dataframe tbody tr th:only-of-type {\n",
       "        vertical-align: middle;\n",
       "    }\n",
       "\n",
       "    .dataframe tbody tr th {\n",
       "        vertical-align: top;\n",
       "    }\n",
       "\n",
       "    .dataframe thead th {\n",
       "        text-align: right;\n",
       "    }\n",
       "</style>\n",
       "<table border=\"1\" class=\"dataframe\">\n",
       "  <thead>\n",
       "    <tr style=\"text-align: right;\">\n",
       "      <th></th>\n",
       "      <th>Event_Id</th>\n",
       "      <th>Create_Date</th>\n",
       "      <th>Incident_Datetime</th>\n",
       "      <th>Incident_Ts</th>\n",
       "      <th>Type_Description</th>\n",
       "      <th>Call_Flag</th>\n",
       "      <th>Borough</th>\n",
       "      <th>Neighborhood</th>\n",
       "      <th>Time_Call_Added</th>\n",
       "      <th>Dispatch_Time</th>\n",
       "      <th>Time_Arrived</th>\n",
       "      <th>Closing_Time</th>\n",
       "      <th>Block_X_Coordinate</th>\n",
       "      <th>Block_Y_Coordinate</th>\n",
       "      <th>Latitude</th>\n",
       "      <th>Longitude</th>\n",
       "    </tr>\n",
       "  </thead>\n",
       "  <tbody>\n",
       "    <tr>\n",
       "      <th>0</th>\n",
       "      <td>91250176</td>\n",
       "      <td>2023-01-01</td>\n",
       "      <td>2022-12-31 23:24:39</td>\n",
       "      <td>23:24:39</td>\n",
       "      <td>Vehicle Accident: Injury</td>\n",
       "      <td>Non CIP</td>\n",
       "      <td>Brooklyn</td>\n",
       "      <td>Patrol Boro Bklyn South</td>\n",
       "      <td>2023-01-01 01:08:21</td>\n",
       "      <td>2023-01-01 01:09:57</td>\n",
       "      <td>NaT</td>\n",
       "      <td>2023-01-01 01:57:44</td>\n",
       "      <td>1001878</td>\n",
       "      <td>175994</td>\n",
       "      <td>40.649730</td>\n",
       "      <td>-73.936475</td>\n",
       "    </tr>\n",
       "    <tr>\n",
       "      <th>1</th>\n",
       "      <td>91250180</td>\n",
       "      <td>2023-01-01</td>\n",
       "      <td>2022-12-31 23:24:47</td>\n",
       "      <td>23:24:47</td>\n",
       "      <td>Alarms: Commercial/Burglary</td>\n",
       "      <td>Non CIP</td>\n",
       "      <td>Brooklyn</td>\n",
       "      <td>Patrol Boro Bklyn North</td>\n",
       "      <td>2023-01-01 00:38:00</td>\n",
       "      <td>2023-01-01 00:38:34</td>\n",
       "      <td>2023-01-01 00:44:33</td>\n",
       "      <td>2023-01-01 01:45:21</td>\n",
       "      <td>1017204</td>\n",
       "      <td>180778</td>\n",
       "      <td>40.662817</td>\n",
       "      <td>-73.881221</td>\n",
       "    </tr>\n",
       "  </tbody>\n",
       "</table>\n",
       "</div>"
      ],
      "text/plain": [
       "   Event_Id Create_Date   Incident_Datetime Incident_Ts  \\\n",
       "0  91250176  2023-01-01 2022-12-31 23:24:39    23:24:39   \n",
       "1  91250180  2023-01-01 2022-12-31 23:24:47    23:24:47   \n",
       "\n",
       "              Type_Description Call_Flag   Borough             Neighborhood  \\\n",
       "0     Vehicle Accident: Injury   Non CIP  Brooklyn  Patrol Boro Bklyn South   \n",
       "1  Alarms: Commercial/Burglary   Non CIP  Brooklyn  Patrol Boro Bklyn North   \n",
       "\n",
       "      Time_Call_Added       Dispatch_Time        Time_Arrived  \\\n",
       "0 2023-01-01 01:08:21 2023-01-01 01:09:57                 NaT   \n",
       "1 2023-01-01 00:38:00 2023-01-01 00:38:34 2023-01-01 00:44:33   \n",
       "\n",
       "         Closing_Time  Block_X_Coordinate  Block_Y_Coordinate   Latitude  \\\n",
       "0 2023-01-01 01:57:44             1001878              175994  40.649730   \n",
       "1 2023-01-01 01:45:21             1017204              180778  40.662817   \n",
       "\n",
       "   Longitude  \n",
       "0 -73.936475  \n",
       "1 -73.881221  "
      ]
     },
     "execution_count": 30,
     "metadata": {},
     "output_type": "execute_result"
    }
   ],
   "source": [
    "# Preview changes\n",
    "df_subset.head(2)"
   ]
  },
  {
   "cell_type": "code",
   "execution_count": 31,
   "metadata": {},
   "outputs": [
    {
     "name": "stdout",
     "output_type": "stream",
     "text": [
      "<class 'pandas.core.frame.DataFrame'>\n",
      "RangeIndex: 7050127 entries, 0 to 7050126\n",
      "Data columns (total 16 columns):\n",
      " #   Column              Dtype         \n",
      "---  ------              -----         \n",
      " 0   Event_Id            int64         \n",
      " 1   Create_Date         datetime64[ns]\n",
      " 2   Incident_Datetime   datetime64[ns]\n",
      " 3   Incident_Ts         object        \n",
      " 4   Type_Description    object        \n",
      " 5   Call_Flag           object        \n",
      " 6   Borough             object        \n",
      " 7   Neighborhood        object        \n",
      " 8   Time_Call_Added     datetime64[ns]\n",
      " 9   Dispatch_Time       datetime64[ns]\n",
      " 10  Time_Arrived        datetime64[ns]\n",
      " 11  Closing_Time        datetime64[ns]\n",
      " 12  Block_X_Coordinate  int64         \n",
      " 13  Block_Y_Coordinate  int64         \n",
      " 14  Latitude            float64       \n",
      " 15  Longitude           float64       \n",
      "dtypes: datetime64[ns](6), float64(2), int64(3), object(5)\n",
      "memory usage: 860.6+ MB\n"
     ]
    }
   ],
   "source": [
    "df_subset.info()"
   ]
  },
  {
   "cell_type": "markdown",
   "metadata": {},
   "source": [
    "### Handle Missing Values and Validate Data:\n",
    "Now that we've rearrange the data frame and cast datatypes to their correct format. Let's identify missing values we noticed and decide on a strategy for handling them (e.g., imputation or removal) and validate the geo spatial data columns (Longitude and Latitude). \n",
    "\n",
    "There are upto 21% volume of missing data that are correlated with other important variables in the dataset. Hence, if we drop these NaN rows, we will have about 78% total sample size for our analysis. As a rule of thumb, you need about 80% - 90% volume of the data for a reliable data analysis. For this reason I will use imputation to fill, in the missing time columns with neam match timestamps to retain other important values."
   ]
  },
  {
   "cell_type": "code",
   "execution_count": 32,
   "metadata": {},
   "outputs": [
    {
     "data": {
      "text/plain": [
       "Event_Id                    0\n",
       "Create_Date                 0\n",
       "Incident_Datetime           0\n",
       "Incident_Ts                 0\n",
       "Type_Description            0\n",
       "Call_Flag                   0\n",
       "Borough                     0\n",
       "Neighborhood                0\n",
       "Time_Call_Added             0\n",
       "Dispatch_Time               0\n",
       "Time_Arrived          1503133\n",
       "Closing_Time               20\n",
       "Block_X_Coordinate          0\n",
       "Block_Y_Coordinate          0\n",
       "Latitude                    0\n",
       "Longitude                   0\n",
       "dtype: int64"
      ]
     },
     "execution_count": 32,
     "metadata": {},
     "output_type": "execute_result"
    }
   ],
   "source": [
    "# Checking for missing values\n",
    "df_subset.isna().sum()\n",
    "# sns.heatmap(df_subset.isnull(),cbar=False,cmap='viridis')"
   ]
  },
  {
   "cell_type": "code",
   "execution_count": 33,
   "metadata": {},
   "outputs": [],
   "source": [
    "# Perform forward and backward fill to preserve the temporal order of observations, making them suitable for time series with consistent intervals.\n",
    "df_subset['Time_Arrived'].ffill(inplace=True)\n",
    "df_subset['Time_Arrived'].bfill(inplace=True)\n",
    "df_subset['Closing_Time'].ffill(inplace=True)\n",
    "df_subset['Closing_Time'].bfill(inplace=True)"
   ]
  },
  {
   "cell_type": "code",
   "execution_count": 34,
   "metadata": {},
   "outputs": [
    {
     "data": {
      "text/plain": [
       "Event_Id              0\n",
       "Create_Date           0\n",
       "Incident_Datetime     0\n",
       "Incident_Ts           0\n",
       "Type_Description      0\n",
       "Call_Flag             0\n",
       "Borough               0\n",
       "Neighborhood          0\n",
       "Time_Call_Added       0\n",
       "Dispatch_Time         0\n",
       "Time_Arrived          0\n",
       "Closing_Time          0\n",
       "Block_X_Coordinate    0\n",
       "Block_Y_Coordinate    0\n",
       "Latitude              0\n",
       "Longitude             0\n",
       "dtype: int64"
      ]
     },
     "execution_count": 34,
     "metadata": {},
     "output_type": "execute_result"
    }
   ],
   "source": [
    "# Checking for missing values\n",
    "df_subset.isna().sum()\n",
    "# sns.heatmap(df_subset.isnull(),cbar=False,cmap='viridis')"
   ]
  },
  {
   "cell_type": "markdown",
   "metadata": {},
   "source": [
    "### Call Frequency Analysis\n",
    "For exploratory analysis, I will conduct a frequency analysis to determine the most common types of incidents reported in the dataset and their location. Then consider grouping similar types of incidents together if necessary. This will help in simplifying the analysis by focusing on broader categories of incidents."
   ]
  },
  {
   "cell_type": "code",
   "execution_count": 35,
   "metadata": {},
   "outputs": [
    {
     "data": {
      "text/plain": [
       "Text(0, 0.5, 'Type of Incident')"
      ]
     },
     "execution_count": 35,
     "metadata": {},
     "output_type": "execute_result"
    },
    {
     "data": {
      "image/png": "[encoded data removed]",
      "text/plain": [
       "<Figure size 640x480 with 1 Axes>"
      ]
     },
     "metadata": {},
     "output_type": "display_data"
    }
   ],
   "source": [
    "# Fequency of 911 calls by type between in 2023\n",
    "plt.figure()\n",
    "df_subset['Type_Description'].value_counts().head(20).sort_values(ascending=True).plot(kind='barh')\n",
    "plt.title('Top 20 call Reasons')\n",
    "plt.xlabel('Number of Calls')\n",
    "plt.ylabel('Type of Incident')"
   ]
  },
  {
   "cell_type": "code",
   "execution_count": 36,
   "metadata": {},
   "outputs": [
    {
     "data": {
      "text/plain": [
       "Text(0, 0.5, 'Frequency of calls (in millions)')"
      ]
     },
     "execution_count": 36,
     "metadata": {},
     "output_type": "execute_result"
    },
    {
     "data": {
      "image/png": "[encoded data removed]",
      "text/plain": [
       "<Figure size 640x480 with 1 Axes>"
      ]
     },
     "metadata": {},
     "output_type": "display_data"
    }
   ],
   "source": [
    "# Fequency of emergency calls by Borough\n",
    "df_subset['Borough'].value_counts().plot(kind='bar')\n",
    "plt.title('NYPD 911 calls frequency by Boroughs')\n",
    "plt.xlabel('Boroughs')\n",
    "plt.ylabel('Frequency of calls (in millions)')"
   ]
  },
  {
   "cell_type": "markdown",
   "metadata": {},
   "source": [
    "Notice the (Null) values represented in the Boroughs column. Hence, Let's investigate why we have (Null) in the dataframe and take care of it."
   ]
  },
  {
   "cell_type": "code",
   "execution_count": 37,
   "metadata": {},
   "outputs": [
    {
     "data": {
      "text/html": [
       "<div>\n",
       "<style scoped>\n",
       "    .dataframe tbody tr th:only-of-type {\n",
       "        vertical-align: middle;\n",
       "    }\n",
       "\n",
       "    .dataframe tbody tr th {\n",
       "        vertical-align: top;\n",
       "    }\n",
       "\n",
       "    .dataframe thead th {\n",
       "        text-align: right;\n",
       "    }\n",
       "</style>\n",
       "<table border=\"1\" class=\"dataframe\">\n",
       "  <thead>\n",
       "    <tr style=\"text-align: right;\">\n",
       "      <th></th>\n",
       "      <th>Event_Id</th>\n",
       "      <th>Create_Date</th>\n",
       "      <th>Incident_Datetime</th>\n",
       "      <th>Incident_Ts</th>\n",
       "      <th>Type_Description</th>\n",
       "      <th>Call_Flag</th>\n",
       "      <th>Borough</th>\n",
       "      <th>Neighborhood</th>\n",
       "      <th>Time_Call_Added</th>\n",
       "      <th>Dispatch_Time</th>\n",
       "      <th>Time_Arrived</th>\n",
       "      <th>Closing_Time</th>\n",
       "      <th>Block_X_Coordinate</th>\n",
       "      <th>Block_Y_Coordinate</th>\n",
       "      <th>Latitude</th>\n",
       "      <th>Longitude</th>\n",
       "    </tr>\n",
       "  </thead>\n",
       "  <tbody>\n",
       "    <tr>\n",
       "      <th>23635</th>\n",
       "      <td>91279467</td>\n",
       "      <td>2023-01-02</td>\n",
       "      <td>2023-01-02 09:21:13</td>\n",
       "      <td>09:21:13</td>\n",
       "      <td>Investigate/Possible Crime: Calls For Help/Inside</td>\n",
       "      <td>Non CIP</td>\n",
       "      <td>(Null)</td>\n",
       "      <td>(Null)</td>\n",
       "      <td>2023-01-02 09:21:13</td>\n",
       "      <td>2023-01-02 09:23:32</td>\n",
       "      <td>2023-01-02 09:21:05</td>\n",
       "      <td>2023-01-02 10:27:13</td>\n",
       "      <td>1029877</td>\n",
       "      <td>264537</td>\n",
       "      <td>40.892657</td>\n",
       "      <td>-73.834973</td>\n",
       "    </tr>\n",
       "    <tr>\n",
       "      <th>48791</th>\n",
       "      <td>91310217</td>\n",
       "      <td>2023-01-03</td>\n",
       "      <td>2023-01-03 15:55:39</td>\n",
       "      <td>15:55:39</td>\n",
       "      <td>See Complainant: Other/Inside</td>\n",
       "      <td>Non CIP</td>\n",
       "      <td>(Null)</td>\n",
       "      <td>(Null)</td>\n",
       "      <td>2023-01-03 15:55:39</td>\n",
       "      <td>2023-01-03 15:55:42</td>\n",
       "      <td>2023-01-03 15:55:44</td>\n",
       "      <td>2023-01-03 17:02:47</td>\n",
       "      <td>1065145</td>\n",
       "      <td>204561</td>\n",
       "      <td>40.727788</td>\n",
       "      <td>-73.708135</td>\n",
       "    </tr>\n",
       "    <tr>\n",
       "      <th>144967</th>\n",
       "      <td>91424805</td>\n",
       "      <td>2023-01-08</td>\n",
       "      <td>2023-01-08 03:05:23</td>\n",
       "      <td>03:05:23</td>\n",
       "      <td>See Complainant: Other/Inside</td>\n",
       "      <td>Non CIP</td>\n",
       "      <td>(Null)</td>\n",
       "      <td>(Null)</td>\n",
       "      <td>2023-01-08 03:05:23</td>\n",
       "      <td>2023-01-08 03:05:30</td>\n",
       "      <td>2023-01-08 03:05:33</td>\n",
       "      <td>2023-01-08 04:38:06</td>\n",
       "      <td>1060344</td>\n",
       "      <td>186954</td>\n",
       "      <td>40.679503</td>\n",
       "      <td>-73.725656</td>\n",
       "    </tr>\n",
       "    <tr>\n",
       "      <th>166766</th>\n",
       "      <td>91450828</td>\n",
       "      <td>2023-01-09</td>\n",
       "      <td>2023-01-09 08:35:18</td>\n",
       "      <td>08:35:18</td>\n",
       "      <td>Vehicle Accident: Special Condition</td>\n",
       "      <td>Non CIP</td>\n",
       "      <td>(Null)</td>\n",
       "      <td>(Null)</td>\n",
       "      <td>2023-01-09 08:35:18</td>\n",
       "      <td>2023-01-09 08:39:13</td>\n",
       "      <td>2023-01-09 08:35:16</td>\n",
       "      <td>2023-01-09 08:39:20</td>\n",
       "      <td>1056417</td>\n",
       "      <td>170820</td>\n",
       "      <td>40.635252</td>\n",
       "      <td>-73.739987</td>\n",
       "    </tr>\n",
       "    <tr>\n",
       "      <th>441369</th>\n",
       "      <td>91776286</td>\n",
       "      <td>2023-01-22</td>\n",
       "      <td>2023-01-22 04:06:42</td>\n",
       "      <td>04:06:42</td>\n",
       "      <td>See Complainant: Other/Inside</td>\n",
       "      <td>Non CIP</td>\n",
       "      <td>(Null)</td>\n",
       "      <td>(Null)</td>\n",
       "      <td>2023-01-22 04:06:42</td>\n",
       "      <td>2023-01-22 04:06:42</td>\n",
       "      <td>2023-01-22 04:06:42</td>\n",
       "      <td>2023-01-22 04:21:44</td>\n",
       "      <td>1060344</td>\n",
       "      <td>186954</td>\n",
       "      <td>40.679503</td>\n",
       "      <td>-73.725656</td>\n",
       "    </tr>\n",
       "  </tbody>\n",
       "</table>\n",
       "</div>"
      ],
      "text/plain": [
       "        Event_Id Create_Date   Incident_Datetime Incident_Ts  \\\n",
       "23635   91279467  2023-01-02 2023-01-02 09:21:13    09:21:13   \n",
       "48791   91310217  2023-01-03 2023-01-03 15:55:39    15:55:39   \n",
       "144967  91424805  2023-01-08 2023-01-08 03:05:23    03:05:23   \n",
       "166766  91450828  2023-01-09 2023-01-09 08:35:18    08:35:18   \n",
       "441369  91776286  2023-01-22 2023-01-22 04:06:42    04:06:42   \n",
       "\n",
       "                                         Type_Description Call_Flag Borough  \\\n",
       "23635   Investigate/Possible Crime: Calls For Help/Inside   Non CIP  (Null)   \n",
       "48791                       See Complainant: Other/Inside   Non CIP  (Null)   \n",
       "144967                      See Complainant: Other/Inside   Non CIP  (Null)   \n",
       "166766                Vehicle Accident: Special Condition   Non CIP  (Null)   \n",
       "441369                      See Complainant: Other/Inside   Non CIP  (Null)   \n",
       "\n",
       "       Neighborhood     Time_Call_Added       Dispatch_Time  \\\n",
       "23635        (Null) 2023-01-02 09:21:13 2023-01-02 09:23:32   \n",
       "48791        (Null) 2023-01-03 15:55:39 2023-01-03 15:55:42   \n",
       "144967       (Null) 2023-01-08 03:05:23 2023-01-08 03:05:30   \n",
       "166766       (Null) 2023-01-09 08:35:18 2023-01-09 08:39:13   \n",
       "441369       (Null) 2023-01-22 04:06:42 2023-01-22 04:06:42   \n",
       "\n",
       "              Time_Arrived        Closing_Time  Block_X_Coordinate  \\\n",
       "23635  2023-01-02 09:21:05 2023-01-02 10:27:13             1029877   \n",
       "48791  2023-01-03 15:55:44 2023-01-03 17:02:47             1065145   \n",
       "144967 2023-01-08 03:05:33 2023-01-08 04:38:06             1060344   \n",
       "166766 2023-01-09 08:35:16 2023-01-09 08:39:20             1056417   \n",
       "441369 2023-01-22 04:06:42 2023-01-22 04:21:44             1060344   \n",
       "\n",
       "        Block_Y_Coordinate   Latitude  Longitude  \n",
       "23635               264537  40.892657 -73.834973  \n",
       "48791               204561  40.727788 -73.708135  \n",
       "144967              186954  40.679503 -73.725656  \n",
       "166766              170820  40.635252 -73.739987  \n",
       "441369              186954  40.679503 -73.725656  "
      ]
     },
     "execution_count": 37,
     "metadata": {},
     "output_type": "execute_result"
    }
   ],
   "source": [
    "df_subset_null = df_subset[df_subset['Neighborhood'] == '(Null)']\n",
    "df_subset_null.head()"
   ]
  },
  {
   "cell_type": "code",
   "execution_count": 38,
   "metadata": {},
   "outputs": [
    {
     "name": "stdout",
     "output_type": "stream",
     "text": [
      "Borough\n",
      "(Null)    153\n",
      "Name: count, dtype: int64\n",
      "Neighborhood\n",
      "(Null)    153\n",
      "Name: count, dtype: int64\n"
     ]
    }
   ],
   "source": [
    "print (df_subset_null['Borough'].value_counts(),df_subset_null['Neighborhood'].value_counts(), sep='\\n')"
   ]
  },
  {
   "cell_type": "markdown",
   "metadata": {},
   "source": [
    "The dataframe contains 153 'Null' string values as a consequence of imputation. Given that these represent less than 1% of the total dataset, I will exclude them from the dataframe."
   ]
  },
  {
   "cell_type": "code",
   "execution_count": 39,
   "metadata": {},
   "outputs": [],
   "source": [
    "# Filter out (Null) string values\n",
    "df_subset = df_subset[df_subset['Neighborhood'] != '(Null)']"
   ]
  },
  {
   "cell_type": "code",
   "execution_count": 40,
   "metadata": {},
   "outputs": [
    {
     "data": {
      "text/plain": [
       "Series([], Name: count, dtype: int64)"
      ]
     },
     "execution_count": 40,
     "metadata": {},
     "output_type": "execute_result"
    }
   ],
   "source": [
    "df_subset_null = df_subset[df_subset['Neighborhood'] == '(Null)']\n",
    "df_subset_null.value_counts()"
   ]
  },
  {
   "cell_type": "markdown",
   "metadata": {},
   "source": [
    "Now we do not have (Null) values anymore let's plot the columns side by side"
   ]
  },
  {
   "cell_type": "code",
   "execution_count": 41,
   "metadata": {},
   "outputs": [
    {
     "data": {
      "image/png": "[encoded data removed]",
      "text/plain": [
       "<Figure size 1500x600 with 2 Axes>"
      ]
     },
     "metadata": {},
     "output_type": "display_data"
    }
   ],
   "source": [
    "# Plt the Fequency of emergency calls by Boroughs \n",
    "b = df_subset['Borough'].value_counts()\n",
    "n = df_subset['Neighborhood'].value_counts()\n",
    "# figure and axes\n",
    "fig, axes = plt.subplots(1,2, figsize=(15, 6))\n",
    "# Plot value counts for Neighboorhood\n",
    "axes[0].barh(n.index, n.values)\n",
    "axes[0].set_title('Calls frequency by Neighborhood')\n",
    "axes[0].set_ylabel('Neighborhood')\n",
    "axes[0].set_xlabel('Frequency of calls')\n",
    "# Plot value counts for Borough\n",
    "axes[1].barh(b.index, b.values)\n",
    "axes[1].set_title('Calls frequency by Boroughs')\n",
    "axes[1].set_ylabel('Boroughs')\n",
    "axes[1].set_xlabel('Frequency of calls')\n",
    "\n",
    "# Display the plot automatically adjusting the layout with increased padding\n",
    "plt.tight_layout(pad=2.0)"
   ]
  },
  {
   "cell_type": "markdown",
   "metadata": {},
   "source": [
    "\n",
    "The \"Neighborhood\" column features information on the patrolled areas, specifically **The Boroughs of New York**. These are the five major administrative divisions: ***The Bronx, Brooklyn, Manhattan, Queens, and Staten Island***. For further details, refer to [The Boroughs of New York](https://en.wikipedia.org/wiki/Boroughs_of_New_York_City). Consequently, I will update the names in the Neighborhood column to better represent the locations of the 911 calls."
   ]
  },
  {
   "cell_type": "code",
   "execution_count": 42,
   "metadata": {},
   "outputs": [],
   "source": [
    "# Extract everything after \"Patrol Boro\" and assign it to a new column 'neighborhood.' \n",
    "df_subset['Neighborhood'] = df_subset['Neighborhood'].str.extract('Patrol Boro (.*)')"
   ]
  },
  {
   "cell_type": "code",
   "execution_count": 43,
   "metadata": {},
   "outputs": [],
   "source": [
    "# Replace neighborhoods abbreviations with their full name for clarity\n",
    "df_subset['Neighborhood'] = df_subset['Neighborhood'].str.replace('Bklyn', 'Brooklyn').str.replace('Man', 'Manhattan')"
   ]
  },
  {
   "cell_type": "code",
   "execution_count": 44,
   "metadata": {},
   "outputs": [
    {
     "data": {
      "text/plain": [
       "Neighborhood\n",
       "Bronx              1372403\n",
       "Brooklyn North     1060348\n",
       "Brooklyn South     1042241\n",
       "Manhattan South    1029134\n",
       "Manhattan North     984443\n",
       "Queens North        695478\n",
       "Queens South        603501\n",
       "Staten Island       262426\n",
       "Name: count, dtype: int64"
      ]
     },
     "execution_count": 44,
     "metadata": {},
     "output_type": "execute_result"
    }
   ],
   "source": [
    "# Preview dataframe \n",
    "df_subset['Neighborhood'].value_counts(dropna=False)"
   ]
  },
  {
   "cell_type": "code",
   "execution_count": 45,
   "metadata": {},
   "outputs": [
    {
     "data": {
      "text/plain": [
       "Text(0, 0.5, 'Neighborhoods')"
      ]
     },
     "execution_count": 45,
     "metadata": {},
     "output_type": "execute_result"
    },
    {
     "data": {
      "image/png": "[encoded data removed]",
      "text/plain": [
       "<Figure size 640x480 with 1 Axes>"
      ]
     },
     "metadata": {},
     "output_type": "display_data"
    }
   ],
   "source": [
    "# Fequency of emergency calls by Boroughs and Neighborhood\n",
    "df_subset['Neighborhood'].value_counts().plot(kind='barh')\n",
    "plt.title('NYPD 911 calls frequency by Neighborhood')\n",
    "plt.xlabel('Call Volumn(s) in millions')\n",
    "plt.ylabel('Neighborhoods')"
   ]
  },
  {
   "cell_type": "code",
   "execution_count": 46,
   "metadata": {},
   "outputs": [
    {
     "data": {
      "text/plain": [
       "Event_Id              0\n",
       "Create_Date           0\n",
       "Incident_Datetime     0\n",
       "Incident_Ts           0\n",
       "Type_Description      0\n",
       "Call_Flag             0\n",
       "Borough               0\n",
       "Neighborhood          0\n",
       "Time_Call_Added       0\n",
       "Dispatch_Time         0\n",
       "Time_Arrived          0\n",
       "Closing_Time          0\n",
       "Block_X_Coordinate    0\n",
       "Block_Y_Coordinate    0\n",
       "Latitude              0\n",
       "Longitude             0\n",
       "dtype: int64"
      ]
     },
     "execution_count": 46,
     "metadata": {},
     "output_type": "execute_result"
    }
   ],
   "source": [
    "# Preview the dataset for null values\n",
    "df_subset.isnull().sum()"
   ]
  },
  {
   "cell_type": "code",
   "execution_count": 47,
   "metadata": {},
   "outputs": [
    {
     "name": "stdout",
     "output_type": "stream",
     "text": [
      "<class 'pandas.core.frame.DataFrame'>\n",
      "Index: 7049974 entries, 0 to 7050126\n",
      "Data columns (total 16 columns):\n",
      " #   Column              Dtype         \n",
      "---  ------              -----         \n",
      " 0   Event_Id            int64         \n",
      " 1   Create_Date         datetime64[ns]\n",
      " 2   Incident_Datetime   datetime64[ns]\n",
      " 3   Incident_Ts         object        \n",
      " 4   Type_Description    object        \n",
      " 5   Call_Flag           object        \n",
      " 6   Borough             object        \n",
      " 7   Neighborhood        object        \n",
      " 8   Time_Call_Added     datetime64[ns]\n",
      " 9   Dispatch_Time       datetime64[ns]\n",
      " 10  Time_Arrived        datetime64[ns]\n",
      " 11  Closing_Time        datetime64[ns]\n",
      " 12  Block_X_Coordinate  int64         \n",
      " 13  Block_Y_Coordinate  int64         \n",
      " 14  Latitude            float64       \n",
      " 15  Longitude           float64       \n",
      "dtypes: datetime64[ns](6), float64(2), int64(3), object(5)\n",
      "memory usage: 914.4+ MB\n"
     ]
    }
   ],
   "source": [
    "df_subset.info()"
   ]
  },
  {
   "cell_type": "code",
   "execution_count": 48,
   "metadata": {},
   "outputs": [
    {
     "data": {
      "text/html": [
       "<div>\n",
       "<style scoped>\n",
       "    .dataframe tbody tr th:only-of-type {\n",
       "        vertical-align: middle;\n",
       "    }\n",
       "\n",
       "    .dataframe tbody tr th {\n",
       "        vertical-align: top;\n",
       "    }\n",
       "\n",
       "    .dataframe thead th {\n",
       "        text-align: right;\n",
       "    }\n",
       "</style>\n",
       "<table border=\"1\" class=\"dataframe\">\n",
       "  <thead>\n",
       "    <tr style=\"text-align: right;\">\n",
       "      <th></th>\n",
       "      <th>Event_Id</th>\n",
       "      <th>Create_Date</th>\n",
       "      <th>Incident_Datetime</th>\n",
       "      <th>Incident_Ts</th>\n",
       "      <th>Type_Description</th>\n",
       "      <th>Call_Flag</th>\n",
       "      <th>Borough</th>\n",
       "      <th>Neighborhood</th>\n",
       "      <th>Time_Call_Added</th>\n",
       "      <th>Dispatch_Time</th>\n",
       "      <th>Time_Arrived</th>\n",
       "      <th>Closing_Time</th>\n",
       "      <th>Block_X_Coordinate</th>\n",
       "      <th>Block_Y_Coordinate</th>\n",
       "      <th>Latitude</th>\n",
       "      <th>Longitude</th>\n",
       "    </tr>\n",
       "  </thead>\n",
       "  <tbody>\n",
       "    <tr>\n",
       "      <th>0</th>\n",
       "      <td>91250176</td>\n",
       "      <td>2023-01-01</td>\n",
       "      <td>2022-12-31 23:24:39</td>\n",
       "      <td>23:24:39</td>\n",
       "      <td>Vehicle Accident: Injury</td>\n",
       "      <td>Non CIP</td>\n",
       "      <td>Brooklyn</td>\n",
       "      <td>Brooklyn South</td>\n",
       "      <td>2023-01-01 01:08:21</td>\n",
       "      <td>2023-01-01 01:09:57</td>\n",
       "      <td>2023-01-01 00:44:33</td>\n",
       "      <td>2023-01-01 01:57:44</td>\n",
       "      <td>1001878</td>\n",
       "      <td>175994</td>\n",
       "      <td>40.649730</td>\n",
       "      <td>-73.936475</td>\n",
       "    </tr>\n",
       "    <tr>\n",
       "      <th>1</th>\n",
       "      <td>91250180</td>\n",
       "      <td>2023-01-01</td>\n",
       "      <td>2022-12-31 23:24:47</td>\n",
       "      <td>23:24:47</td>\n",
       "      <td>Alarms: Commercial/Burglary</td>\n",
       "      <td>Non CIP</td>\n",
       "      <td>Brooklyn</td>\n",
       "      <td>Brooklyn North</td>\n",
       "      <td>2023-01-01 00:38:00</td>\n",
       "      <td>2023-01-01 00:38:34</td>\n",
       "      <td>2023-01-01 00:44:33</td>\n",
       "      <td>2023-01-01 01:45:21</td>\n",
       "      <td>1017204</td>\n",
       "      <td>180778</td>\n",
       "      <td>40.662817</td>\n",
       "      <td>-73.881221</td>\n",
       "    </tr>\n",
       "    <tr>\n",
       "      <th>2</th>\n",
       "      <td>91250681</td>\n",
       "      <td>2023-01-01</td>\n",
       "      <td>2022-12-31 23:55:56</td>\n",
       "      <td>23:55:56</td>\n",
       "      <td>Alarms: Residential/Burglary</td>\n",
       "      <td>Non CIP</td>\n",
       "      <td>Queens</td>\n",
       "      <td>Queens North</td>\n",
       "      <td>2023-01-01 00:01:26</td>\n",
       "      <td>2023-01-01 00:06:18</td>\n",
       "      <td>2023-01-01 00:44:33</td>\n",
       "      <td>2023-01-01 00:06:27</td>\n",
       "      <td>1008573</td>\n",
       "      <td>217117</td>\n",
       "      <td>40.762587</td>\n",
       "      <td>-73.912199</td>\n",
       "    </tr>\n",
       "    <tr>\n",
       "      <th>3</th>\n",
       "      <td>91250683</td>\n",
       "      <td>2023-01-01</td>\n",
       "      <td>2022-12-31 23:55:59</td>\n",
       "      <td>23:55:59</td>\n",
       "      <td>Alarms: Residential/Burglary</td>\n",
       "      <td>Non CIP</td>\n",
       "      <td>Brooklyn</td>\n",
       "      <td>Brooklyn South</td>\n",
       "      <td>2023-01-01 00:01:34</td>\n",
       "      <td>2023-01-01 00:37:14</td>\n",
       "      <td>2023-01-01 01:09:32</td>\n",
       "      <td>2023-01-01 01:21:14</td>\n",
       "      <td>993234</td>\n",
       "      <td>161780</td>\n",
       "      <td>40.610729</td>\n",
       "      <td>-73.967644</td>\n",
       "    </tr>\n",
       "    <tr>\n",
       "      <th>4</th>\n",
       "      <td>91250700</td>\n",
       "      <td>2023-01-01</td>\n",
       "      <td>2022-12-31 23:57:08</td>\n",
       "      <td>23:57:08</td>\n",
       "      <td>Alarms: Commercial/Burglary</td>\n",
       "      <td>Non CIP</td>\n",
       "      <td>Queens</td>\n",
       "      <td>Queens North</td>\n",
       "      <td>2023-01-01 00:01:29</td>\n",
       "      <td>2023-01-01 00:14:28</td>\n",
       "      <td>2023-01-01 00:21:59</td>\n",
       "      <td>2023-01-01 01:24:22</td>\n",
       "      <td>1014264</td>\n",
       "      <td>211852</td>\n",
       "      <td>40.748119</td>\n",
       "      <td>-73.891679</td>\n",
       "    </tr>\n",
       "  </tbody>\n",
       "</table>\n",
       "</div>"
      ],
      "text/plain": [
       "   Event_Id Create_Date   Incident_Datetime Incident_Ts  \\\n",
       "0  91250176  2023-01-01 2022-12-31 23:24:39    23:24:39   \n",
       "1  91250180  2023-01-01 2022-12-31 23:24:47    23:24:47   \n",
       "2  91250681  2023-01-01 2022-12-31 23:55:56    23:55:56   \n",
       "3  91250683  2023-01-01 2022-12-31 23:55:59    23:55:59   \n",
       "4  91250700  2023-01-01 2022-12-31 23:57:08    23:57:08   \n",
       "\n",
       "               Type_Description Call_Flag   Borough    Neighborhood  \\\n",
       "0      Vehicle Accident: Injury   Non CIP  Brooklyn  Brooklyn South   \n",
       "1   Alarms: Commercial/Burglary   Non CIP  Brooklyn  Brooklyn North   \n",
       "2  Alarms: Residential/Burglary   Non CIP    Queens    Queens North   \n",
       "3  Alarms: Residential/Burglary   Non CIP  Brooklyn  Brooklyn South   \n",
       "4   Alarms: Commercial/Burglary   Non CIP    Queens    Queens North   \n",
       "\n",
       "      Time_Call_Added       Dispatch_Time        Time_Arrived  \\\n",
       "0 2023-01-01 01:08:21 2023-01-01 01:09:57 2023-01-01 00:44:33   \n",
       "1 2023-01-01 00:38:00 2023-01-01 00:38:34 2023-01-01 00:44:33   \n",
       "2 2023-01-01 00:01:26 2023-01-01 00:06:18 2023-01-01 00:44:33   \n",
       "3 2023-01-01 00:01:34 2023-01-01 00:37:14 2023-01-01 01:09:32   \n",
       "4 2023-01-01 00:01:29 2023-01-01 00:14:28 2023-01-01 00:21:59   \n",
       "\n",
       "         Closing_Time  Block_X_Coordinate  Block_Y_Coordinate   Latitude  \\\n",
       "0 2023-01-01 01:57:44             1001878              175994  40.649730   \n",
       "1 2023-01-01 01:45:21             1017204              180778  40.662817   \n",
       "2 2023-01-01 00:06:27             1008573              217117  40.762587   \n",
       "3 2023-01-01 01:21:14              993234              161780  40.610729   \n",
       "4 2023-01-01 01:24:22             1014264              211852  40.748119   \n",
       "\n",
       "   Longitude  \n",
       "0 -73.936475  \n",
       "1 -73.881221  \n",
       "2 -73.912199  \n",
       "3 -73.967644  \n",
       "4 -73.891679  "
      ]
     },
     "execution_count": 48,
     "metadata": {},
     "output_type": "execute_result"
    }
   ],
   "source": [
    "df_subset.head()"
   ]
  },
  {
   "cell_type": "markdown",
   "metadata": {},
   "source": [
    "At this stage, the dataset has been meticulously cleaned, with missing values in the Officer Arrival time column addressed through forward and backward filling to reduce bias, although it's important to note that these imputed values will still influence the analysis to some extent. The data has been transformed, reorganized, and normalized, ready for detailed examination, and  the formation of specific subsets. Moreover, the geospatial data has been verified to confirm that the latitude and longitude values fall within acceptable ranges (Latitude between -90 and 90, Longitude between -180 and 180), which is crucial for accurate visualization. My next steps involve conducting exploratory data analysis (EDA) to delve into the data's details, pinpoint outliers, recognize unique values in categories such as types of incidents and locations, and uncover patterns in the frequency and geographical distribution of 911 calls, particularly focusing on neighborhoods with high incident rates. This process also includes identifying any anomalies or inaccurate entries that might suggest errors in data entry. After these steps, the data will be ready for advanced analysis, including Temporal Analysis, Geographical Distribution, Correlation, Pattern Identification, and Visualization, to derive meaningful insights. Now let's export the cleaned dataset."
   ]
  },
  {
   "cell_type": "code",
   "execution_count": 49,
   "metadata": {},
   "outputs": [],
   "source": [
    "# Export the cleaned data frame to a pickle file to serialize, save space, and retain datatypes\n",
    "df_subset.to_pickle('~/Datasets/CLEANED/nypd_911_calls_clean.pkl')\n",
    "# `index=False` means the DataFrame's index will not be written to the file.\n",
    "# Optionally to include in export, set `index=True`."
   ]
  }
 ],
 "metadata": {
  "kernelspec": {
   "display_name": "Python 3 (ipykernel)",
   "language": "python",
   "name": "python3"
  },
  "language_info": {
   "codemirror_mode": {
    "name": "ipython",
    "version": 3
   },
   "file_extension": ".py",
   "mimetype": "text/x-python",
   "name": "python",
   "nbconvert_exporter": "python",
   "pygments_lexer": "ipython3",
   "version": "3.10.10"
  }
 },
 "nbformat": 4,
 "nbformat_minor": 4
}
