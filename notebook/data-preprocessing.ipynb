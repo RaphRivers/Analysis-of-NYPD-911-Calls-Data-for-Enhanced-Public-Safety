{
 "cells": [
  {
   "cell_type": "markdown",
   "metadata": {},
   "source": [
    "# Data Preprocessing and Cleaning"
   ]
  },
  {
   "cell_type": "markdown",
   "metadata": {},
   "source": [
    "Data Source: [Data.gov](https://catalog.data.gov/dataset/nypd-calls-for-service) a non-federal dataset for public use. \n",
    "License: City of New York - NYC.gov see [Terms of Use](https://www.nyc.gov/home/terms-of-use.page)"
   ]
  },
  {
   "cell_type": "markdown",
   "metadata": {},
   "source": [
    "Install required libraries using ****\"pip install library_name\"****, set environment variables and import the packages"
   ]
  },
  {
   "cell_type": "code",
   "execution_count": 1,
   "metadata": {},
   "outputs": [],
   "source": [
    "import os #module used to provide a way of utilizing operating system dependent functionality like reading or setting environments \n",
    "import tempfile # module used for creating temporary storage locations \n",
    "os.environ[\"MPLCONFIGDIR\"] = tempfile.gettempdir() # sets the MPLCONFIGDIR environment variable to the path returned by tempfile for Maatplotlib to store its config files"
   ]
  },
  {
   "cell_type": "markdown",
   "metadata": {},
   "source": [
    "This can be particularly useful in scenarios where the user does not have the permission to write to the default Matplotlib configuration directory, or when you want to avoid cluttering the user's home directory with Matplotlib configuration files. It's also beneficial in a multi-user environment or in situations where you want to ensure that Matplotlib's configuration does not persist between program executions."
   ]
  },
  {
   "cell_type": "code",
   "execution_count": 2,
   "metadata": {},
   "outputs": [],
   "source": [
    "# import packages\n",
    "import numpy as np\n",
    "import pandas as pd\n",
    "import seaborn as sns\n",
    "import matplotlib.pylab as plt\n",
    "%matplotlib inline \n",
    "plt.style.use('ggplot') # Use to style data visualization\n",
    "pd.set_option('display.max.columns', 200) # Set the data frame display option to show all columns up to 200 columns "
   ]
  },
  {
   "cell_type": "code",
   "execution_count": 3,
   "metadata": {},
   "outputs": [],
   "source": [
    "# Import and load the dataset using Padas to store as df\n",
    "nypdData = '~/Datasets/RAW/NYPD_Calls_for_Service__Year_to_Date_.csv'\n",
    "df = pd.read_csv(nypdData)"
   ]
  },
  {
   "cell_type": "markdown",
   "metadata": {},
   "source": [
    "### Data Exploration "
   ]
  },
  {
   "cell_type": "markdown",
   "metadata": {},
   "source": [
    "#### 1. Dataset understanding"
   ]
  },
  {
   "cell_type": "markdown",
   "metadata": {},
   "source": [
    "Check the shape of the data frame,\n",
    "head and tail,\n",
    "datatypes,\n",
    "and statistical description"
   ]
  },
  {
   "cell_type": "code",
   "execution_count": 4,
   "metadata": {},
   "outputs": [
    {
     "name": "stdout",
     "output_type": "stream",
     "text": [
      "Rows: 7050127\n",
      "Columns: 18\n"
     ]
    }
   ],
   "source": [
    "# Check how many rows and columns exist in the dataset\n",
    "print ('Rows:', df.shape[0])\n",
    "print ('Columns:', df.shape[1])"
   ]
  },
  {
   "cell_type": "code",
   "execution_count": 5,
   "metadata": {},
   "outputs": [
    {
     "data": {
      "text/html": [
       "<div>\n",
       "<style scoped>\n",
       "    .dataframe tbody tr th:only-of-type {\n",
       "        vertical-align: middle;\n",
       "    }\n",
       "\n",
       "    .dataframe tbody tr th {\n",
       "        vertical-align: top;\n",
       "    }\n",
       "\n",
       "    .dataframe thead th {\n",
       "        text-align: right;\n",
       "    }\n",
       "</style>\n",
       "<table border=\"1\" class=\"dataframe\">\n",
       "  <thead>\n",
       "    <tr style=\"text-align: right;\">\n",
       "      <th></th>\n",
       "      <th>CAD_EVNT_ID</th>\n",
       "      <th>CREATE_DATE</th>\n",
       "      <th>INCIDENT_DATE</th>\n",
       "      <th>INCIDENT_TIME</th>\n",
       "      <th>NYPD_PCT_CD</th>\n",
       "      <th>BORO_NM</th>\n",
       "      <th>PATRL_BORO_NM</th>\n",
       "      <th>GEO_CD_X</th>\n",
       "      <th>GEO_CD_Y</th>\n",
       "      <th>RADIO_CODE</th>\n",
       "      <th>TYP_DESC</th>\n",
       "      <th>CIP_JOBS</th>\n",
       "      <th>ADD_TS</th>\n",
       "      <th>DISP_TS</th>\n",
       "      <th>ARRIVD_TS</th>\n",
       "      <th>CLOSNG_TS</th>\n",
       "      <th>Latitude</th>\n",
       "      <th>Longitude</th>\n",
       "    </tr>\n",
       "  </thead>\n",
       "  <tbody>\n",
       "    <tr>\n",
       "      <th>0</th>\n",
       "      <td>91250176</td>\n",
       "      <td>01/01/2023</td>\n",
       "      <td>12/31/2022</td>\n",
       "      <td>23:24:39</td>\n",
       "      <td>67.0</td>\n",
       "      <td>BROOKLYN</td>\n",
       "      <td>PATROL BORO BKLYN SOUTH</td>\n",
       "      <td>1001878</td>\n",
       "      <td>175994</td>\n",
       "      <td>53I</td>\n",
       "      <td>VEHICLE ACCIDENT: INJURY</td>\n",
       "      <td>Non CIP</td>\n",
       "      <td>01/01/2023 01:08:21 AM</td>\n",
       "      <td>01/01/2023 01:09:57 AM</td>\n",
       "      <td>NaN</td>\n",
       "      <td>01/01/2023 01:57:44 AM</td>\n",
       "      <td>40.649730</td>\n",
       "      <td>-73.936475</td>\n",
       "    </tr>\n",
       "    <tr>\n",
       "      <th>1</th>\n",
       "      <td>91250180</td>\n",
       "      <td>01/01/2023</td>\n",
       "      <td>12/31/2022</td>\n",
       "      <td>23:24:47</td>\n",
       "      <td>75.0</td>\n",
       "      <td>BROOKLYN</td>\n",
       "      <td>PATROL BORO BKLYN NORTH</td>\n",
       "      <td>1017204</td>\n",
       "      <td>180778</td>\n",
       "      <td>11C4</td>\n",
       "      <td>ALARMS: COMMERCIAL/BURGLARY</td>\n",
       "      <td>Non CIP</td>\n",
       "      <td>01/01/2023 12:38:00 AM</td>\n",
       "      <td>01/01/2023 12:38:34 AM</td>\n",
       "      <td>01/01/2023 12:44:33 AM</td>\n",
       "      <td>01/01/2023 01:45:21 AM</td>\n",
       "      <td>40.662817</td>\n",
       "      <td>-73.881221</td>\n",
       "    </tr>\n",
       "    <tr>\n",
       "      <th>2</th>\n",
       "      <td>91250681</td>\n",
       "      <td>01/01/2023</td>\n",
       "      <td>12/31/2022</td>\n",
       "      <td>23:55:56</td>\n",
       "      <td>114.0</td>\n",
       "      <td>QUEENS</td>\n",
       "      <td>PATROL BORO QUEENS NORTH</td>\n",
       "      <td>1008573</td>\n",
       "      <td>217117</td>\n",
       "      <td>11R4</td>\n",
       "      <td>ALARMS: RESIDENTIAL/BURGLARY</td>\n",
       "      <td>Non CIP</td>\n",
       "      <td>01/01/2023 12:01:26 AM</td>\n",
       "      <td>01/01/2023 12:06:18 AM</td>\n",
       "      <td>NaN</td>\n",
       "      <td>01/01/2023 12:06:27 AM</td>\n",
       "      <td>40.762587</td>\n",
       "      <td>-73.912199</td>\n",
       "    </tr>\n",
       "    <tr>\n",
       "      <th>3</th>\n",
       "      <td>91250683</td>\n",
       "      <td>01/01/2023</td>\n",
       "      <td>12/31/2022</td>\n",
       "      <td>23:55:59</td>\n",
       "      <td>66.0</td>\n",
       "      <td>BROOKLYN</td>\n",
       "      <td>PATROL BORO BKLYN SOUTH</td>\n",
       "      <td>993234</td>\n",
       "      <td>161780</td>\n",
       "      <td>11R4</td>\n",
       "      <td>ALARMS: RESIDENTIAL/BURGLARY</td>\n",
       "      <td>Non CIP</td>\n",
       "      <td>01/01/2023 12:01:34 AM</td>\n",
       "      <td>01/01/2023 12:37:14 AM</td>\n",
       "      <td>01/01/2023 01:09:32 AM</td>\n",
       "      <td>01/01/2023 01:21:14 AM</td>\n",
       "      <td>40.610729</td>\n",
       "      <td>-73.967644</td>\n",
       "    </tr>\n",
       "    <tr>\n",
       "      <th>4</th>\n",
       "      <td>91250700</td>\n",
       "      <td>01/01/2023</td>\n",
       "      <td>12/31/2022</td>\n",
       "      <td>23:57:08</td>\n",
       "      <td>115.0</td>\n",
       "      <td>QUEENS</td>\n",
       "      <td>PATROL BORO QUEENS NORTH</td>\n",
       "      <td>1014264</td>\n",
       "      <td>211852</td>\n",
       "      <td>11C4</td>\n",
       "      <td>ALARMS: COMMERCIAL/BURGLARY</td>\n",
       "      <td>Non CIP</td>\n",
       "      <td>01/01/2023 12:01:29 AM</td>\n",
       "      <td>01/01/2023 12:14:28 AM</td>\n",
       "      <td>01/01/2023 12:21:59 AM</td>\n",
       "      <td>01/01/2023 01:24:22 AM</td>\n",
       "      <td>40.748119</td>\n",
       "      <td>-73.891679</td>\n",
       "    </tr>\n",
       "  </tbody>\n",
       "</table>\n",
       "</div>"
      ],
      "text/plain": [
       "   CAD_EVNT_ID CREATE_DATE INCIDENT_DATE INCIDENT_TIME  NYPD_PCT_CD   BORO_NM  \\\n",
       "0     91250176  01/01/2023    12/31/2022      23:24:39         67.0  BROOKLYN   \n",
       "1     91250180  01/01/2023    12/31/2022      23:24:47         75.0  BROOKLYN   \n",
       "2     91250681  01/01/2023    12/31/2022      23:55:56        114.0    QUEENS   \n",
       "3     91250683  01/01/2023    12/31/2022      23:55:59         66.0  BROOKLYN   \n",
       "4     91250700  01/01/2023    12/31/2022      23:57:08        115.0    QUEENS   \n",
       "\n",
       "              PATRL_BORO_NM  GEO_CD_X  GEO_CD_Y RADIO_CODE  \\\n",
       "0   PATROL BORO BKLYN SOUTH   1001878    175994        53I   \n",
       "1   PATROL BORO BKLYN NORTH   1017204    180778       11C4   \n",
       "2  PATROL BORO QUEENS NORTH   1008573    217117       11R4   \n",
       "3   PATROL BORO BKLYN SOUTH    993234    161780       11R4   \n",
       "4  PATROL BORO QUEENS NORTH   1014264    211852       11C4   \n",
       "\n",
       "                       TYP_DESC CIP_JOBS                  ADD_TS  \\\n",
       "0      VEHICLE ACCIDENT: INJURY  Non CIP  01/01/2023 01:08:21 AM   \n",
       "1   ALARMS: COMMERCIAL/BURGLARY  Non CIP  01/01/2023 12:38:00 AM   \n",
       "2  ALARMS: RESIDENTIAL/BURGLARY  Non CIP  01/01/2023 12:01:26 AM   \n",
       "3  ALARMS: RESIDENTIAL/BURGLARY  Non CIP  01/01/2023 12:01:34 AM   \n",
       "4   ALARMS: COMMERCIAL/BURGLARY  Non CIP  01/01/2023 12:01:29 AM   \n",
       "\n",
       "                  DISP_TS               ARRIVD_TS               CLOSNG_TS  \\\n",
       "0  01/01/2023 01:09:57 AM                     NaN  01/01/2023 01:57:44 AM   \n",
       "1  01/01/2023 12:38:34 AM  01/01/2023 12:44:33 AM  01/01/2023 01:45:21 AM   \n",
       "2  01/01/2023 12:06:18 AM                     NaN  01/01/2023 12:06:27 AM   \n",
       "3  01/01/2023 12:37:14 AM  01/01/2023 01:09:32 AM  01/01/2023 01:21:14 AM   \n",
       "4  01/01/2023 12:14:28 AM  01/01/2023 12:21:59 AM  01/01/2023 01:24:22 AM   \n",
       "\n",
       "    Latitude  Longitude  \n",
       "0  40.649730 -73.936475  \n",
       "1  40.662817 -73.881221  \n",
       "2  40.762587 -73.912199  \n",
       "3  40.610729 -73.967644  \n",
       "4  40.748119 -73.891679  "
      ]
     },
     "execution_count": 5,
     "metadata": {},
     "output_type": "execute_result"
    }
   ],
   "source": [
    "# Check the data frame in tabular form\n",
    "df.head()"
   ]
  },
  {
   "cell_type": "code",
   "execution_count": 6,
   "metadata": {},
   "outputs": [
    {
     "data": {
      "text/html": [
       "<div>\n",
       "<style scoped>\n",
       "    .dataframe tbody tr th:only-of-type {\n",
       "        vertical-align: middle;\n",
       "    }\n",
       "\n",
       "    .dataframe tbody tr th {\n",
       "        vertical-align: top;\n",
       "    }\n",
       "\n",
       "    .dataframe thead th {\n",
       "        text-align: right;\n",
       "    }\n",
       "</style>\n",
       "<table border=\"1\" class=\"dataframe\">\n",
       "  <thead>\n",
       "    <tr style=\"text-align: right;\">\n",
       "      <th></th>\n",
       "      <th>CAD_EVNT_ID</th>\n",
       "      <th>CREATE_DATE</th>\n",
       "      <th>INCIDENT_DATE</th>\n",
       "      <th>INCIDENT_TIME</th>\n",
       "      <th>NYPD_PCT_CD</th>\n",
       "      <th>BORO_NM</th>\n",
       "      <th>PATRL_BORO_NM</th>\n",
       "      <th>GEO_CD_X</th>\n",
       "      <th>GEO_CD_Y</th>\n",
       "      <th>RADIO_CODE</th>\n",
       "      <th>TYP_DESC</th>\n",
       "      <th>CIP_JOBS</th>\n",
       "      <th>ADD_TS</th>\n",
       "      <th>DISP_TS</th>\n",
       "      <th>ARRIVD_TS</th>\n",
       "      <th>CLOSNG_TS</th>\n",
       "      <th>Latitude</th>\n",
       "      <th>Longitude</th>\n",
       "    </tr>\n",
       "  </thead>\n",
       "  <tbody>\n",
       "    <tr>\n",
       "      <th>7050122</th>\n",
       "      <td>99844053</td>\n",
       "      <td>12/31/2023</td>\n",
       "      <td>12/31/2023</td>\n",
       "      <td>23:59:06</td>\n",
       "      <td>10.0</td>\n",
       "      <td>MANHATTAN</td>\n",
       "      <td>PATROL BORO MAN SOUTH</td>\n",
       "      <td>986426</td>\n",
       "      <td>214907</td>\n",
       "      <td>30Q2</td>\n",
       "      <td>ROBBERY (IN PROGRESS): OTHER/OUTSIDE</td>\n",
       "      <td>Critical</td>\n",
       "      <td>12/31/2023 11:59:06 PM</td>\n",
       "      <td>01/01/2024 12:00:04 AM</td>\n",
       "      <td>01/01/2024 12:25:46 AM</td>\n",
       "      <td>01/01/2024 07:17:52 AM</td>\n",
       "      <td>40.756555</td>\n",
       "      <td>-73.992147</td>\n",
       "    </tr>\n",
       "    <tr>\n",
       "      <th>7050123</th>\n",
       "      <td>99844054</td>\n",
       "      <td>12/31/2023</td>\n",
       "      <td>12/31/2023</td>\n",
       "      <td>23:59:06</td>\n",
       "      <td>114.0</td>\n",
       "      <td>QUEENS</td>\n",
       "      <td>PATROL BORO QUEENS NORTH</td>\n",
       "      <td>1000362</td>\n",
       "      <td>215109</td>\n",
       "      <td>75D</td>\n",
       "      <td>VISIBILITY PATROL: DIRECTED</td>\n",
       "      <td>Non CIP</td>\n",
       "      <td>12/31/2023 11:59:06 PM</td>\n",
       "      <td>12/31/2023 11:59:06 PM</td>\n",
       "      <td>12/31/2023 11:59:06 PM</td>\n",
       "      <td>01/01/2024 05:16:22 AM</td>\n",
       "      <td>40.757095</td>\n",
       "      <td>-73.941844</td>\n",
       "    </tr>\n",
       "    <tr>\n",
       "      <th>7050124</th>\n",
       "      <td>99844058</td>\n",
       "      <td>12/31/2023</td>\n",
       "      <td>12/31/2023</td>\n",
       "      <td>23:59:21</td>\n",
       "      <td>94.0</td>\n",
       "      <td>BROOKLYN</td>\n",
       "      <td>PATROL BORO BKLYN NORTH</td>\n",
       "      <td>998365</td>\n",
       "      <td>200621</td>\n",
       "      <td>10H1</td>\n",
       "      <td>INVESTIGATE/POSSIBLE CRIME: CALLS FOR HELP/INSIDE</td>\n",
       "      <td>Non CIP</td>\n",
       "      <td>12/31/2023 11:59:21 PM</td>\n",
       "      <td>01/01/2024 12:24:28 AM</td>\n",
       "      <td>01/01/2024 02:16:36 AM</td>\n",
       "      <td>01/01/2024 02:18:06 AM</td>\n",
       "      <td>40.717332</td>\n",
       "      <td>-73.949083</td>\n",
       "    </tr>\n",
       "    <tr>\n",
       "      <th>7050125</th>\n",
       "      <td>99844059</td>\n",
       "      <td>12/31/2023</td>\n",
       "      <td>12/31/2023</td>\n",
       "      <td>23:59:29</td>\n",
       "      <td>13.0</td>\n",
       "      <td>MANHATTAN</td>\n",
       "      <td>PATROL BORO MAN SOUTH</td>\n",
       "      <td>987981</td>\n",
       "      <td>208816</td>\n",
       "      <td>50P9</td>\n",
       "      <td>DISORDERLY: PERSON/TRANSIT</td>\n",
       "      <td>Non CIP</td>\n",
       "      <td>12/31/2023 11:59:29 PM</td>\n",
       "      <td>01/01/2024 12:05:38 AM</td>\n",
       "      <td>01/01/2024 12:30:08 AM</td>\n",
       "      <td>01/01/2024 12:30:14 AM</td>\n",
       "      <td>40.739836</td>\n",
       "      <td>-73.986538</td>\n",
       "    </tr>\n",
       "    <tr>\n",
       "      <th>7050126</th>\n",
       "      <td>99844062</td>\n",
       "      <td>12/31/2023</td>\n",
       "      <td>12/31/2023</td>\n",
       "      <td>23:59:57</td>\n",
       "      <td>66.0</td>\n",
       "      <td>BROOKLYN</td>\n",
       "      <td>PATROL BORO BKLYN SOUTH</td>\n",
       "      <td>988601</td>\n",
       "      <td>173493</td>\n",
       "      <td>10Y3</td>\n",
       "      <td>INVESTIGATE/POSSIBLE CRIME: SERIOUS/OTHER</td>\n",
       "      <td>Non CIP</td>\n",
       "      <td>12/31/2023 11:59:58 PM</td>\n",
       "      <td>01/01/2024 12:03:05 AM</td>\n",
       "      <td>NaN</td>\n",
       "      <td>01/01/2024 02:04:27 AM</td>\n",
       "      <td>40.642882</td>\n",
       "      <td>-73.984323</td>\n",
       "    </tr>\n",
       "  </tbody>\n",
       "</table>\n",
       "</div>"
      ],
      "text/plain": [
       "         CAD_EVNT_ID CREATE_DATE INCIDENT_DATE INCIDENT_TIME  NYPD_PCT_CD  \\\n",
       "7050122     99844053  12/31/2023    12/31/2023      23:59:06         10.0   \n",
       "7050123     99844054  12/31/2023    12/31/2023      23:59:06        114.0   \n",
       "7050124     99844058  12/31/2023    12/31/2023      23:59:21         94.0   \n",
       "7050125     99844059  12/31/2023    12/31/2023      23:59:29         13.0   \n",
       "7050126     99844062  12/31/2023    12/31/2023      23:59:57         66.0   \n",
       "\n",
       "           BORO_NM             PATRL_BORO_NM  GEO_CD_X  GEO_CD_Y RADIO_CODE  \\\n",
       "7050122  MANHATTAN     PATROL BORO MAN SOUTH    986426    214907       30Q2   \n",
       "7050123     QUEENS  PATROL BORO QUEENS NORTH   1000362    215109        75D   \n",
       "7050124   BROOKLYN   PATROL BORO BKLYN NORTH    998365    200621       10H1   \n",
       "7050125  MANHATTAN     PATROL BORO MAN SOUTH    987981    208816       50P9   \n",
       "7050126   BROOKLYN   PATROL BORO BKLYN SOUTH    988601    173493       10Y3   \n",
       "\n",
       "                                                  TYP_DESC  CIP_JOBS  \\\n",
       "7050122               ROBBERY (IN PROGRESS): OTHER/OUTSIDE  Critical   \n",
       "7050123                        VISIBILITY PATROL: DIRECTED   Non CIP   \n",
       "7050124  INVESTIGATE/POSSIBLE CRIME: CALLS FOR HELP/INSIDE   Non CIP   \n",
       "7050125                         DISORDERLY: PERSON/TRANSIT   Non CIP   \n",
       "7050126          INVESTIGATE/POSSIBLE CRIME: SERIOUS/OTHER   Non CIP   \n",
       "\n",
       "                         ADD_TS                 DISP_TS  \\\n",
       "7050122  12/31/2023 11:59:06 PM  01/01/2024 12:00:04 AM   \n",
       "7050123  12/31/2023 11:59:06 PM  12/31/2023 11:59:06 PM   \n",
       "7050124  12/31/2023 11:59:21 PM  01/01/2024 12:24:28 AM   \n",
       "7050125  12/31/2023 11:59:29 PM  01/01/2024 12:05:38 AM   \n",
       "7050126  12/31/2023 11:59:58 PM  01/01/2024 12:03:05 AM   \n",
       "\n",
       "                      ARRIVD_TS               CLOSNG_TS   Latitude  Longitude  \n",
       "7050122  01/01/2024 12:25:46 AM  01/01/2024 07:17:52 AM  40.756555 -73.992147  \n",
       "7050123  12/31/2023 11:59:06 PM  01/01/2024 05:16:22 AM  40.757095 -73.941844  \n",
       "7050124  01/01/2024 02:16:36 AM  01/01/2024 02:18:06 AM  40.717332 -73.949083  \n",
       "7050125  01/01/2024 12:30:08 AM  01/01/2024 12:30:14 AM  40.739836 -73.986538  \n",
       "7050126                     NaN  01/01/2024 02:04:27 AM  40.642882 -73.984323  "
      ]
     },
     "execution_count": 6,
     "metadata": {},
     "output_type": "execute_result"
    }
   ],
   "source": [
    "# Check the tail of the data frame\n",
    "df.tail()"
   ]
  },
  {
   "cell_type": "code",
   "execution_count": 7,
   "metadata": {
    "scrolled": true
   },
   "outputs": [
    {
     "data": {
      "text/html": [
       "<div>\n",
       "<style scoped>\n",
       "    .dataframe tbody tr th:only-of-type {\n",
       "        vertical-align: middle;\n",
       "    }\n",
       "\n",
       "    .dataframe tbody tr th {\n",
       "        vertical-align: top;\n",
       "    }\n",
       "\n",
       "    .dataframe thead th {\n",
       "        text-align: right;\n",
       "    }\n",
       "</style>\n",
       "<table border=\"1\" class=\"dataframe\">\n",
       "  <thead>\n",
       "    <tr style=\"text-align: right;\">\n",
       "      <th></th>\n",
       "      <th>CAD_EVNT_ID</th>\n",
       "      <th>NYPD_PCT_CD</th>\n",
       "      <th>GEO_CD_X</th>\n",
       "      <th>GEO_CD_Y</th>\n",
       "      <th>Latitude</th>\n",
       "      <th>Longitude</th>\n",
       "    </tr>\n",
       "  </thead>\n",
       "  <tbody>\n",
       "    <tr>\n",
       "      <th>count</th>\n",
       "      <td>7.050127e+06</td>\n",
       "      <td>7.050123e+06</td>\n",
       "      <td>7.050127e+06</td>\n",
       "      <td>7.050127e+06</td>\n",
       "      <td>7.050127e+06</td>\n",
       "      <td>7.050127e+06</td>\n",
       "    </tr>\n",
       "    <tr>\n",
       "      <th>mean</th>\n",
       "      <td>9.551869e+07</td>\n",
       "      <td>6.063233e+01</td>\n",
       "      <td>1.003626e+06</td>\n",
       "      <td>2.074859e+05</td>\n",
       "      <td>4.073614e+01</td>\n",
       "      <td>-7.393006e+01</td>\n",
       "    </tr>\n",
       "    <tr>\n",
       "      <th>std</th>\n",
       "      <td>2.487523e+06</td>\n",
       "      <td>3.481665e+01</td>\n",
       "      <td>2.035810e+04</td>\n",
       "      <td>2.961937e+04</td>\n",
       "      <td>8.130092e-02</td>\n",
       "      <td>7.342417e-02</td>\n",
       "    </tr>\n",
       "    <tr>\n",
       "      <th>min</th>\n",
       "      <td>9.125018e+07</td>\n",
       "      <td>0.000000e+00</td>\n",
       "      <td>9.134110e+05</td>\n",
       "      <td>1.211310e+05</td>\n",
       "      <td>4.049891e+01</td>\n",
       "      <td>-7.425474e+01</td>\n",
       "    </tr>\n",
       "    <tr>\n",
       "      <th>25%</th>\n",
       "      <td>9.335395e+07</td>\n",
       "      <td>3.200000e+01</td>\n",
       "      <td>9.900280e+05</td>\n",
       "      <td>1.856010e+05</td>\n",
       "      <td>4.067605e+01</td>\n",
       "      <td>-7.397917e+01</td>\n",
       "    </tr>\n",
       "    <tr>\n",
       "      <th>50%</th>\n",
       "      <td>9.549693e+07</td>\n",
       "      <td>6.100000e+01</td>\n",
       "      <td>1.001732e+06</td>\n",
       "      <td>2.071380e+05</td>\n",
       "      <td>4.073523e+01</td>\n",
       "      <td>-7.393692e+01</td>\n",
       "    </tr>\n",
       "    <tr>\n",
       "      <th>75%</th>\n",
       "      <td>9.768264e+07</td>\n",
       "      <td>8.800000e+01</td>\n",
       "      <td>1.014683e+06</td>\n",
       "      <td>2.337910e+05</td>\n",
       "      <td>4.080837e+01</td>\n",
       "      <td>-7.389013e+01</td>\n",
       "    </tr>\n",
       "    <tr>\n",
       "      <th>max</th>\n",
       "      <td>9.984406e+07</td>\n",
       "      <td>1.230000e+02</td>\n",
       "      <td>1.067305e+06</td>\n",
       "      <td>2.723070e+05</td>\n",
       "      <td>4.091407e+01</td>\n",
       "      <td>-7.370029e+01</td>\n",
       "    </tr>\n",
       "  </tbody>\n",
       "</table>\n",
       "</div>"
      ],
      "text/plain": [
       "        CAD_EVNT_ID   NYPD_PCT_CD      GEO_CD_X      GEO_CD_Y      Latitude  \\\n",
       "count  7.050127e+06  7.050123e+06  7.050127e+06  7.050127e+06  7.050127e+06   \n",
       "mean   9.551869e+07  6.063233e+01  1.003626e+06  2.074859e+05  4.073614e+01   \n",
       "std    2.487523e+06  3.481665e+01  2.035810e+04  2.961937e+04  8.130092e-02   \n",
       "min    9.125018e+07  0.000000e+00  9.134110e+05  1.211310e+05  4.049891e+01   \n",
       "25%    9.335395e+07  3.200000e+01  9.900280e+05  1.856010e+05  4.067605e+01   \n",
       "50%    9.549693e+07  6.100000e+01  1.001732e+06  2.071380e+05  4.073523e+01   \n",
       "75%    9.768264e+07  8.800000e+01  1.014683e+06  2.337910e+05  4.080837e+01   \n",
       "max    9.984406e+07  1.230000e+02  1.067305e+06  2.723070e+05  4.091407e+01   \n",
       "\n",
       "          Longitude  \n",
       "count  7.050127e+06  \n",
       "mean  -7.393006e+01  \n",
       "std    7.342417e-02  \n",
       "min   -7.425474e+01  \n",
       "25%   -7.397917e+01  \n",
       "50%   -7.393692e+01  \n",
       "75%   -7.389013e+01  \n",
       "max   -7.370029e+01  "
      ]
     },
     "execution_count": 7,
     "metadata": {},
     "output_type": "execute_result"
    }
   ],
   "source": [
    "# Show basic statistics about the numeric series of the dataset, including counts, average, standard deviation etc. \n",
    "df.describe()"
   ]
  },
  {
   "cell_type": "markdown",
   "metadata": {},
   "source": [
    "It seems that the numeric columns we have are geographical coordinates and called event index, while the other objects represented as numeric are datetime objects. Hence, we have to review the dataset, convert its datatypes to their correct format, and then drop columns that are not needed."
   ]
  },
  {
   "cell_type": "markdown",
   "metadata": {},
   "source": [
    "### Review Column Lists and Data Type(s): \n",
    "Inspect and ensure that each column is of the correct data type "
   ]
  },
  {
   "cell_type": "code",
   "execution_count": 8,
   "metadata": {},
   "outputs": [
    {
     "data": {
      "text/plain": [
       "Index(['CAD_EVNT_ID', 'CREATE_DATE', 'INCIDENT_DATE', 'INCIDENT_TIME',\n",
       "       'NYPD_PCT_CD', 'BORO_NM', 'PATRL_BORO_NM', 'GEO_CD_X', 'GEO_CD_Y',\n",
       "       'RADIO_CODE', 'TYP_DESC', 'CIP_JOBS', 'ADD_TS', 'DISP_TS', 'ARRIVD_TS',\n",
       "       'CLOSNG_TS', 'Latitude', 'Longitude'],\n",
       "      dtype='object')"
      ]
     },
     "execution_count": 8,
     "metadata": {},
     "output_type": "execute_result"
    }
   ],
   "source": [
    "# Show a list of all the columns that we can later use to subset the data frame\n",
    "df.columns"
   ]
  },
  {
   "cell_type": "code",
   "execution_count": 9,
   "metadata": {},
   "outputs": [],
   "source": [
    "# Converting all columns title to titleccase\n",
    "df.columns = df.columns.str.title()"
   ]
  },
  {
   "cell_type": "code",
   "execution_count": 10,
   "metadata": {},
   "outputs": [
    {
     "data": {
      "text/plain": [
       "Cad_Evnt_Id        int64\n",
       "Create_Date       object\n",
       "Incident_Date     object\n",
       "Incident_Time     object\n",
       "Nypd_Pct_Cd      float64\n",
       "Boro_Nm           object\n",
       "Patrl_Boro_Nm     object\n",
       "Geo_Cd_X           int64\n",
       "Geo_Cd_Y           int64\n",
       "Radio_Code        object\n",
       "Typ_Desc          object\n",
       "Cip_Jobs          object\n",
       "Add_Ts            object\n",
       "Disp_Ts           object\n",
       "Arrivd_Ts         object\n",
       "Closng_Ts         object\n",
       "Latitude         float64\n",
       "Longitude        float64\n",
       "dtype: object"
      ]
     },
     "execution_count": 10,
     "metadata": {},
     "output_type": "execute_result"
    }
   ],
   "source": [
    "# Let's check the data types\n",
    "df.dtypes"
   ]
  },
  {
   "cell_type": "markdown",
   "metadata": {},
   "source": [
    "### Cast Data Type(s)\n",
    "Cast the right data type to each column to ensure consistency and improve data quality and reliability. Ensure that each column is of the correct data type \n",
    "\n",
    "(e.g., convert object timestamps to datetime, integers, float, etc.). Check for and fill or remove NaN or null values to ensure data integrity.\n"
   ]
  },
  {
   "cell_type": "code",
   "execution_count": 11,
   "metadata": {},
   "outputs": [],
   "source": [
    "# Convert create date, incident date, and incident time columns to datetime format, month, day, and year \n",
    "df['Create_Date'] = pd.to_datetime(df['Create_Date'], format='%m/%d/%Y')\n",
    "df['Incident_Date'] = pd.to_datetime(df['Incident_Date'], format='%m/%d/%Y')\n",
    "df['Incident_Time'] = pd.to_datetime(df['Incident_Time'], format='%H:%M:%S').dt.time # use datetime accessor to keep only the time in 24 hrs format"
   ]
  },
  {
   "cell_type": "code",
   "execution_count": 12,
   "metadata": {},
   "outputs": [
    {
     "data": {
      "text/html": [
       "<div>\n",
       "<style scoped>\n",
       "    .dataframe tbody tr th:only-of-type {\n",
       "        vertical-align: middle;\n",
       "    }\n",
       "\n",
       "    .dataframe tbody tr th {\n",
       "        vertical-align: top;\n",
       "    }\n",
       "\n",
       "    .dataframe thead th {\n",
       "        text-align: right;\n",
       "    }\n",
       "</style>\n",
       "<table border=\"1\" class=\"dataframe\">\n",
       "  <thead>\n",
       "    <tr style=\"text-align: right;\">\n",
       "      <th></th>\n",
       "      <th>Cad_Evnt_Id</th>\n",
       "      <th>Create_Date</th>\n",
       "      <th>Incident_Date</th>\n",
       "      <th>Incident_Time</th>\n",
       "      <th>Nypd_Pct_Cd</th>\n",
       "      <th>Boro_Nm</th>\n",
       "      <th>Patrl_Boro_Nm</th>\n",
       "      <th>Geo_Cd_X</th>\n",
       "      <th>Geo_Cd_Y</th>\n",
       "      <th>Radio_Code</th>\n",
       "      <th>Typ_Desc</th>\n",
       "      <th>Cip_Jobs</th>\n",
       "      <th>Add_Ts</th>\n",
       "      <th>Disp_Ts</th>\n",
       "      <th>Arrivd_Ts</th>\n",
       "      <th>Closng_Ts</th>\n",
       "      <th>Latitude</th>\n",
       "      <th>Longitude</th>\n",
       "    </tr>\n",
       "  </thead>\n",
       "  <tbody>\n",
       "    <tr>\n",
       "      <th>0</th>\n",
       "      <td>91250176</td>\n",
       "      <td>2023-01-01</td>\n",
       "      <td>2022-12-31</td>\n",
       "      <td>23:24:39</td>\n",
       "      <td>67.0</td>\n",
       "      <td>BROOKLYN</td>\n",
       "      <td>PATROL BORO BKLYN SOUTH</td>\n",
       "      <td>1001878</td>\n",
       "      <td>175994</td>\n",
       "      <td>53I</td>\n",
       "      <td>VEHICLE ACCIDENT: INJURY</td>\n",
       "      <td>Non CIP</td>\n",
       "      <td>01/01/2023 01:08:21 AM</td>\n",
       "      <td>01/01/2023 01:09:57 AM</td>\n",
       "      <td>NaN</td>\n",
       "      <td>01/01/2023 01:57:44 AM</td>\n",
       "      <td>40.649730</td>\n",
       "      <td>-73.936475</td>\n",
       "    </tr>\n",
       "    <tr>\n",
       "      <th>1</th>\n",
       "      <td>91250180</td>\n",
       "      <td>2023-01-01</td>\n",
       "      <td>2022-12-31</td>\n",
       "      <td>23:24:47</td>\n",
       "      <td>75.0</td>\n",
       "      <td>BROOKLYN</td>\n",
       "      <td>PATROL BORO BKLYN NORTH</td>\n",
       "      <td>1017204</td>\n",
       "      <td>180778</td>\n",
       "      <td>11C4</td>\n",
       "      <td>ALARMS: COMMERCIAL/BURGLARY</td>\n",
       "      <td>Non CIP</td>\n",
       "      <td>01/01/2023 12:38:00 AM</td>\n",
       "      <td>01/01/2023 12:38:34 AM</td>\n",
       "      <td>01/01/2023 12:44:33 AM</td>\n",
       "      <td>01/01/2023 01:45:21 AM</td>\n",
       "      <td>40.662817</td>\n",
       "      <td>-73.881221</td>\n",
       "    </tr>\n",
       "  </tbody>\n",
       "</table>\n",
       "</div>"
      ],
      "text/plain": [
       "   Cad_Evnt_Id Create_Date Incident_Date Incident_Time  Nypd_Pct_Cd   Boro_Nm  \\\n",
       "0     91250176  2023-01-01    2022-12-31      23:24:39         67.0  BROOKLYN   \n",
       "1     91250180  2023-01-01    2022-12-31      23:24:47         75.0  BROOKLYN   \n",
       "\n",
       "             Patrl_Boro_Nm  Geo_Cd_X  Geo_Cd_Y Radio_Code  \\\n",
       "0  PATROL BORO BKLYN SOUTH   1001878    175994        53I   \n",
       "1  PATROL BORO BKLYN NORTH   1017204    180778       11C4   \n",
       "\n",
       "                      Typ_Desc Cip_Jobs                  Add_Ts  \\\n",
       "0     VEHICLE ACCIDENT: INJURY  Non CIP  01/01/2023 01:08:21 AM   \n",
       "1  ALARMS: COMMERCIAL/BURGLARY  Non CIP  01/01/2023 12:38:00 AM   \n",
       "\n",
       "                  Disp_Ts               Arrivd_Ts               Closng_Ts  \\\n",
       "0  01/01/2023 01:09:57 AM                     NaN  01/01/2023 01:57:44 AM   \n",
       "1  01/01/2023 12:38:34 AM  01/01/2023 12:44:33 AM  01/01/2023 01:45:21 AM   \n",
       "\n",
       "    Latitude  Longitude  \n",
       "0  40.649730 -73.936475  \n",
       "1  40.662817 -73.881221  "
      ]
     },
     "execution_count": 12,
     "metadata": {},
     "output_type": "execute_result"
    }
   ],
   "source": [
    "df.head(2)"
   ]
  },
  {
   "cell_type": "code",
   "execution_count": 13,
   "metadata": {},
   "outputs": [],
   "source": [
    "# Convert the timestamp objects column to datetime \n",
    "# Note! There may be ambiguous date strings that may throw a dateutil warning. Ensure to use format parameters to overcome this. \n",
    "df['Add_Ts'] = pd.to_datetime(df['Add_Ts'], format='%m/%d/%Y %I:%M:%S %p', errors='coerce')\n",
    "df['Disp_Ts'] = pd.to_datetime(df['Disp_Ts'], format='%m/%d/%Y %I:%M:%S %p', errors='coerce')\n",
    "df['Arrivd_Ts'] = pd.to_datetime(df['Arrivd_Ts'], format='%m/%d/%Y %I:%M:%S %p', errors='coerce')\n",
    "df['Closng_Ts'] = pd.to_datetime(df['Closng_Ts'], format='%m/%d/%Y %I:%M:%S %p', errors='coerce')"
   ]
  },
  {
   "cell_type": "code",
   "execution_count": 14,
   "metadata": {},
   "outputs": [],
   "source": [
    "# Convert the text objects column to string \n",
    "str_columns = ['Boro_Nm','Patrl_Boro_Nm','Typ_Desc','Cip_Jobs']\n",
    "df[str_columns] = df[str_columns].astype(str)"
   ]
  },
  {
   "cell_type": "code",
   "execution_count": null,
   "metadata": {},
   "outputs": [],
   "source": []
  },
  {
   "cell_type": "code",
   "execution_count": 15,
   "metadata": {},
   "outputs": [
    {
     "data": {
      "text/plain": [
       "Cad_Evnt_Id               int64\n",
       "Create_Date      datetime64[ns]\n",
       "Incident_Date    datetime64[ns]\n",
       "Incident_Time            object\n",
       "Nypd_Pct_Cd             float64\n",
       "Boro_Nm                  object\n",
       "Patrl_Boro_Nm            object\n",
       "Geo_Cd_X                  int64\n",
       "Geo_Cd_Y                  int64\n",
       "Radio_Code               object\n",
       "Typ_Desc                 object\n",
       "Cip_Jobs                 object\n",
       "Add_Ts           datetime64[ns]\n",
       "Disp_Ts          datetime64[ns]\n",
       "Arrivd_Ts        datetime64[ns]\n",
       "Closng_Ts        datetime64[ns]\n",
       "Latitude                float64\n",
       "Longitude               float64\n",
       "dtype: object"
      ]
     },
     "execution_count": 15,
     "metadata": {},
     "output_type": "execute_result"
    }
   ],
   "source": [
    "# Verify columns datatypes conversion\n",
    "df.dtypes"
   ]
  },
  {
   "cell_type": "markdown",
   "metadata": {},
   "source": [
    "### Handle Missing Values and Validate Data:\n",
    "Now that we've cast datatypes to their correct format. Let's identify missing values we noticed and decide on a strategy for handling them (e.g., imputation or removal) and validate geo spatial data."
   ]
  },
  {
   "cell_type": "code",
   "execution_count": 16,
   "metadata": {},
   "outputs": [
    {
     "data": {
      "text/plain": [
       "Cad_Evnt_Id            0\n",
       "Create_Date            0\n",
       "Incident_Date          0\n",
       "Incident_Time          0\n",
       "Nypd_Pct_Cd            4\n",
       "Boro_Nm                0\n",
       "Patrl_Boro_Nm          0\n",
       "Geo_Cd_X               0\n",
       "Geo_Cd_Y               0\n",
       "Radio_Code             0\n",
       "Typ_Desc               0\n",
       "Cip_Jobs               0\n",
       "Add_Ts                 0\n",
       "Disp_Ts                0\n",
       "Arrivd_Ts        1503133\n",
       "Closng_Ts             20\n",
       "Latitude               0\n",
       "Longitude              0\n",
       "dtype: int64"
      ]
     },
     "execution_count": 16,
     "metadata": {},
     "output_type": "execute_result"
    }
   ],
   "source": [
    "# Check for the number of NaN or null values in each column\n",
    "df.isna().sum()"
   ]
  },
  {
   "cell_type": "code",
   "execution_count": 17,
   "metadata": {},
   "outputs": [
    {
     "data": {
      "text/plain": [
       "0          False\n",
       "1          False\n",
       "2          False\n",
       "3          False\n",
       "4          False\n",
       "           ...  \n",
       "7050122    False\n",
       "7050123    False\n",
       "7050124    False\n",
       "7050125    False\n",
       "7050126    False\n",
       "Length: 7050127, dtype: bool"
      ]
     },
     "execution_count": 17,
     "metadata": {},
     "output_type": "execute_result"
    }
   ],
   "source": [
    "# Check for duplicate values\n",
    "df.duplicated()"
   ]
  },
  {
   "cell_type": "code",
   "execution_count": 18,
   "metadata": {
    "scrolled": true
   },
   "outputs": [
    {
     "data": {
      "text/plain": [
       "Arrivd_Ts        21.320651\n",
       "Closng_Ts         0.000284\n",
       "Nypd_Pct_Cd       0.000057\n",
       "Cad_Evnt_Id       0.000000\n",
       "Typ_Desc          0.000000\n",
       "Latitude          0.000000\n",
       "Disp_Ts           0.000000\n",
       "Add_Ts            0.000000\n",
       "Cip_Jobs          0.000000\n",
       "Radio_Code        0.000000\n",
       "Create_Date       0.000000\n",
       "Geo_Cd_Y          0.000000\n",
       "Geo_Cd_X          0.000000\n",
       "Patrl_Boro_Nm     0.000000\n",
       "Boro_Nm           0.000000\n",
       "Incident_Time     0.000000\n",
       "Incident_Date     0.000000\n",
       "Longitude         0.000000\n",
       "dtype: float64"
      ]
     },
     "execution_count": 18,
     "metadata": {},
     "output_type": "execute_result"
    }
   ],
   "source": [
    "# Checking the percentage of missing values to determine missing values handling strategy i.e. if we should drop it, fill or not\n",
    "(df.isna().sum()/df.shape[0]*100).sort_values(ascending=False)"
   ]
  },
  {
   "cell_type": "markdown",
   "metadata": {},
   "source": [
    "We can see the (3) columns contain null values, namely \"Arrivd_Ts\" with 21% missing values, \"Closng_Ts\" and Nypd_Pct_Cd with less than 1%. Hence, if we drop these, we will have about 78% total sample size for our analysis. As a rule of thumb, you need about 80% - 90% volume of the data for a reliable data analysis. For this reason I will use imputation to fill, in the missing time columns with neam match timestamps to retain other important values.  "
   ]
  },
  {
   "cell_type": "code",
   "execution_count": 19,
   "metadata": {},
   "outputs": [],
   "source": [
    "# Perform forward and backward fill to preserve the temporal order of observations, making them suitable for time series with consistent intervals.\n",
    "df['Arrivd_Ts'].ffill(inplace=True)\n",
    "df['Arrivd_Ts'].bfill(inplace=True)\n",
    "df['Closng_Ts'].ffill(inplace=True)\n",
    "df['Closng_Ts'].bfill(inplace=True)\n",
    "df['Nypd_Pct_Cd'].ffill(inplace=True)\n",
    "df['Nypd_Pct_Cd'].bfill(inplace=True)"
   ]
  },
  {
   "cell_type": "markdown",
   "metadata": {},
   "source": [
    "Validate geospatial data to ensure these values are within valid ranges (Latitude between -90 and 90, Longitude between -180 and 180). "
   ]
  },
  {
   "cell_type": "code",
   "execution_count": 20,
   "metadata": {
    "scrolled": true
   },
   "outputs": [],
   "source": [
    "# Validate Latitude and Longitude\n",
    "df = df[(df['Latitude'].between(-90, 90)) & (df['Longitude'].between(-180, 180))]"
   ]
  },
  {
   "cell_type": "markdown",
   "metadata": {},
   "source": [
    "### Restructure Data frame"
   ]
  },
  {
   "cell_type": "code",
   "execution_count": 21,
   "metadata": {},
   "outputs": [
    {
     "data": {
      "text/html": [
       "<div>\n",
       "<style scoped>\n",
       "    .dataframe tbody tr th:only-of-type {\n",
       "        vertical-align: middle;\n",
       "    }\n",
       "\n",
       "    .dataframe tbody tr th {\n",
       "        vertical-align: top;\n",
       "    }\n",
       "\n",
       "    .dataframe thead th {\n",
       "        text-align: right;\n",
       "    }\n",
       "</style>\n",
       "<table border=\"1\" class=\"dataframe\">\n",
       "  <thead>\n",
       "    <tr style=\"text-align: right;\">\n",
       "      <th></th>\n",
       "      <th>Cad_Evnt_Id</th>\n",
       "      <th>Create_Date</th>\n",
       "      <th>Incident_Date</th>\n",
       "      <th>Incident_Time</th>\n",
       "      <th>Nypd_Pct_Cd</th>\n",
       "      <th>Boro_Nm</th>\n",
       "      <th>Patrl_Boro_Nm</th>\n",
       "      <th>Geo_Cd_X</th>\n",
       "      <th>Geo_Cd_Y</th>\n",
       "      <th>Radio_Code</th>\n",
       "      <th>Typ_Desc</th>\n",
       "      <th>Cip_Jobs</th>\n",
       "      <th>Add_Ts</th>\n",
       "      <th>Disp_Ts</th>\n",
       "      <th>Arrivd_Ts</th>\n",
       "      <th>Closng_Ts</th>\n",
       "      <th>Latitude</th>\n",
       "      <th>Longitude</th>\n",
       "    </tr>\n",
       "  </thead>\n",
       "  <tbody>\n",
       "    <tr>\n",
       "      <th>0</th>\n",
       "      <td>91250176</td>\n",
       "      <td>2023-01-01</td>\n",
       "      <td>2022-12-31</td>\n",
       "      <td>23:24:39</td>\n",
       "      <td>67.0</td>\n",
       "      <td>BROOKLYN</td>\n",
       "      <td>PATROL BORO BKLYN SOUTH</td>\n",
       "      <td>1001878</td>\n",
       "      <td>175994</td>\n",
       "      <td>53I</td>\n",
       "      <td>VEHICLE ACCIDENT: INJURY</td>\n",
       "      <td>Non CIP</td>\n",
       "      <td>2023-01-01 01:08:21</td>\n",
       "      <td>2023-01-01 01:09:57</td>\n",
       "      <td>2023-01-01 00:44:33</td>\n",
       "      <td>2023-01-01 01:57:44</td>\n",
       "      <td>40.649730</td>\n",
       "      <td>-73.936475</td>\n",
       "    </tr>\n",
       "    <tr>\n",
       "      <th>1</th>\n",
       "      <td>91250180</td>\n",
       "      <td>2023-01-01</td>\n",
       "      <td>2022-12-31</td>\n",
       "      <td>23:24:47</td>\n",
       "      <td>75.0</td>\n",
       "      <td>BROOKLYN</td>\n",
       "      <td>PATROL BORO BKLYN NORTH</td>\n",
       "      <td>1017204</td>\n",
       "      <td>180778</td>\n",
       "      <td>11C4</td>\n",
       "      <td>ALARMS: COMMERCIAL/BURGLARY</td>\n",
       "      <td>Non CIP</td>\n",
       "      <td>2023-01-01 00:38:00</td>\n",
       "      <td>2023-01-01 00:38:34</td>\n",
       "      <td>2023-01-01 00:44:33</td>\n",
       "      <td>2023-01-01 01:45:21</td>\n",
       "      <td>40.662817</td>\n",
       "      <td>-73.881221</td>\n",
       "    </tr>\n",
       "  </tbody>\n",
       "</table>\n",
       "</div>"
      ],
      "text/plain": [
       "   Cad_Evnt_Id Create_Date Incident_Date Incident_Time  Nypd_Pct_Cd   Boro_Nm  \\\n",
       "0     91250176  2023-01-01    2022-12-31      23:24:39         67.0  BROOKLYN   \n",
       "1     91250180  2023-01-01    2022-12-31      23:24:47         75.0  BROOKLYN   \n",
       "\n",
       "             Patrl_Boro_Nm  Geo_Cd_X  Geo_Cd_Y Radio_Code  \\\n",
       "0  PATROL BORO BKLYN SOUTH   1001878    175994        53I   \n",
       "1  PATROL BORO BKLYN NORTH   1017204    180778       11C4   \n",
       "\n",
       "                      Typ_Desc Cip_Jobs              Add_Ts  \\\n",
       "0     VEHICLE ACCIDENT: INJURY  Non CIP 2023-01-01 01:08:21   \n",
       "1  ALARMS: COMMERCIAL/BURGLARY  Non CIP 2023-01-01 00:38:00   \n",
       "\n",
       "              Disp_Ts           Arrivd_Ts           Closng_Ts   Latitude  \\\n",
       "0 2023-01-01 01:09:57 2023-01-01 00:44:33 2023-01-01 01:57:44  40.649730   \n",
       "1 2023-01-01 00:38:34 2023-01-01 00:44:33 2023-01-01 01:45:21  40.662817   \n",
       "\n",
       "   Longitude  \n",
       "0 -73.936475  \n",
       "1 -73.881221  "
      ]
     },
     "execution_count": 21,
     "metadata": {},
     "output_type": "execute_result"
    }
   ],
   "source": [
    "df.head(2)"
   ]
  },
  {
   "cell_type": "markdown",
   "metadata": {},
   "source": [
    "Now that we've filled a cell with missing or NaN values let's restructure the data frame and create a subset for the data frame we will use for analysis. Notice that not all column names are meaningful at a glance, and the incident type and description column (typ_desc) is in uppercase. Hence, let's remane the columns with legible names and change the type and description to title case to enhance readability."
   ]
  },
  {
   "cell_type": "code",
   "execution_count": 22,
   "metadata": {},
   "outputs": [],
   "source": [
    "# Creating data frame subset, renaming selected columns titles, and dropping unwanted columns (Nypd_Pct_Cd) NYPD Pricent Code and Radio_Code\n",
    "df_subset = df.rename(columns={'Cad_Evnt_Id':'Event_Id', 'Boro_Nm':'Borough', 'Patrl_Boro_Nm':'Neighborhood', 'Geo_Cd_X':'Block_X_Coordinate', 'Geo_Cd_Y':'Block_Y_Coordinate',\n",
    "                                'Typ_Desc':'Type_Description', 'Cip_Jobs':'Call_Flag','Add_Ts':'Time_Call_Added', 'Arrivd_Ts':'Time_Arrived','Disp_Ts':'Dispatch_Time', \n",
    "                                'Closng_Ts':'Closing_Time'}).copy()"
   ]
  },
  {
   "cell_type": "code",
   "execution_count": 23,
   "metadata": {},
   "outputs": [],
   "source": [
    "# Dropping unwanted columns\n",
    "df_subset = df_subset.drop(columns=['Nypd_Pct_Cd','Radio_Code'])"
   ]
  },
  {
   "cell_type": "code",
   "execution_count": 24,
   "metadata": {},
   "outputs": [],
   "source": [
    "# Reset dataframe index\n",
    "df_subset = df_subset.reset_index(drop=True)"
   ]
  },
  {
   "cell_type": "code",
   "execution_count": 25,
   "metadata": {},
   "outputs": [
    {
     "data": {
      "text/plain": [
       "Index(['Event_Id', 'Create_Date', 'Incident_Date', 'Incident_Time', 'Borough',\n",
       "       'Neighborhood', 'Block_X_Coordinate', 'Block_Y_Coordinate',\n",
       "       'Type_Description', 'Call_Flag', 'Time_Call_Added', 'Dispatch_Time',\n",
       "       'Time_Arrived', 'Closing_Time', 'Latitude', 'Longitude'],\n",
       "      dtype='object')"
      ]
     },
     "execution_count": 25,
     "metadata": {},
     "output_type": "execute_result"
    }
   ],
   "source": [
    "df_subset.columns"
   ]
  },
  {
   "cell_type": "code",
   "execution_count": 26,
   "metadata": {},
   "outputs": [],
   "source": [
    "# Get rid of columns not required and rearrange dataframe into a new dataset\n",
    "df_subset = df_subset[['Event_Id', 'Create_Date', 'Incident_Date', 'Incident_Time', 'Type_Description', 'Call_Flag', 'Borough', 'Neighborhood', \n",
    "         'Time_Call_Added', 'Dispatch_Time', 'Time_Arrived', 'Closing_Time', 'Block_X_Coordinate', 'Block_Y_Coordinate', 'Latitude', 'Longitude']]       "
   ]
  },
  {
   "cell_type": "code",
   "execution_count": 27,
   "metadata": {},
   "outputs": [
    {
     "data": {
      "text/html": [
       "<div>\n",
       "<style scoped>\n",
       "    .dataframe tbody tr th:only-of-type {\n",
       "        vertical-align: middle;\n",
       "    }\n",
       "\n",
       "    .dataframe tbody tr th {\n",
       "        vertical-align: top;\n",
       "    }\n",
       "\n",
       "    .dataframe thead th {\n",
       "        text-align: right;\n",
       "    }\n",
       "</style>\n",
       "<table border=\"1\" class=\"dataframe\">\n",
       "  <thead>\n",
       "    <tr style=\"text-align: right;\">\n",
       "      <th></th>\n",
       "      <th>Event_Id</th>\n",
       "      <th>Create_Date</th>\n",
       "      <th>Incident_Date</th>\n",
       "      <th>Incident_Time</th>\n",
       "      <th>Type_Description</th>\n",
       "      <th>Call_Flag</th>\n",
       "      <th>Borough</th>\n",
       "      <th>Neighborhood</th>\n",
       "      <th>Time_Call_Added</th>\n",
       "      <th>Dispatch_Time</th>\n",
       "      <th>Time_Arrived</th>\n",
       "      <th>Closing_Time</th>\n",
       "      <th>Block_X_Coordinate</th>\n",
       "      <th>Block_Y_Coordinate</th>\n",
       "      <th>Latitude</th>\n",
       "      <th>Longitude</th>\n",
       "    </tr>\n",
       "  </thead>\n",
       "  <tbody>\n",
       "    <tr>\n",
       "      <th>0</th>\n",
       "      <td>91250176</td>\n",
       "      <td>2023-01-01</td>\n",
       "      <td>2022-12-31</td>\n",
       "      <td>23:24:39</td>\n",
       "      <td>VEHICLE ACCIDENT: INJURY</td>\n",
       "      <td>Non CIP</td>\n",
       "      <td>BROOKLYN</td>\n",
       "      <td>PATROL BORO BKLYN SOUTH</td>\n",
       "      <td>2023-01-01 01:08:21</td>\n",
       "      <td>2023-01-01 01:09:57</td>\n",
       "      <td>2023-01-01 00:44:33</td>\n",
       "      <td>2023-01-01 01:57:44</td>\n",
       "      <td>1001878</td>\n",
       "      <td>175994</td>\n",
       "      <td>40.649730</td>\n",
       "      <td>-73.936475</td>\n",
       "    </tr>\n",
       "    <tr>\n",
       "      <th>1</th>\n",
       "      <td>91250180</td>\n",
       "      <td>2023-01-01</td>\n",
       "      <td>2022-12-31</td>\n",
       "      <td>23:24:47</td>\n",
       "      <td>ALARMS: COMMERCIAL/BURGLARY</td>\n",
       "      <td>Non CIP</td>\n",
       "      <td>BROOKLYN</td>\n",
       "      <td>PATROL BORO BKLYN NORTH</td>\n",
       "      <td>2023-01-01 00:38:00</td>\n",
       "      <td>2023-01-01 00:38:34</td>\n",
       "      <td>2023-01-01 00:44:33</td>\n",
       "      <td>2023-01-01 01:45:21</td>\n",
       "      <td>1017204</td>\n",
       "      <td>180778</td>\n",
       "      <td>40.662817</td>\n",
       "      <td>-73.881221</td>\n",
       "    </tr>\n",
       "    <tr>\n",
       "      <th>2</th>\n",
       "      <td>91250681</td>\n",
       "      <td>2023-01-01</td>\n",
       "      <td>2022-12-31</td>\n",
       "      <td>23:55:56</td>\n",
       "      <td>ALARMS: RESIDENTIAL/BURGLARY</td>\n",
       "      <td>Non CIP</td>\n",
       "      <td>QUEENS</td>\n",
       "      <td>PATROL BORO QUEENS NORTH</td>\n",
       "      <td>2023-01-01 00:01:26</td>\n",
       "      <td>2023-01-01 00:06:18</td>\n",
       "      <td>2023-01-01 00:44:33</td>\n",
       "      <td>2023-01-01 00:06:27</td>\n",
       "      <td>1008573</td>\n",
       "      <td>217117</td>\n",
       "      <td>40.762587</td>\n",
       "      <td>-73.912199</td>\n",
       "    </tr>\n",
       "    <tr>\n",
       "      <th>3</th>\n",
       "      <td>91250683</td>\n",
       "      <td>2023-01-01</td>\n",
       "      <td>2022-12-31</td>\n",
       "      <td>23:55:59</td>\n",
       "      <td>ALARMS: RESIDENTIAL/BURGLARY</td>\n",
       "      <td>Non CIP</td>\n",
       "      <td>BROOKLYN</td>\n",
       "      <td>PATROL BORO BKLYN SOUTH</td>\n",
       "      <td>2023-01-01 00:01:34</td>\n",
       "      <td>2023-01-01 00:37:14</td>\n",
       "      <td>2023-01-01 01:09:32</td>\n",
       "      <td>2023-01-01 01:21:14</td>\n",
       "      <td>993234</td>\n",
       "      <td>161780</td>\n",
       "      <td>40.610729</td>\n",
       "      <td>-73.967644</td>\n",
       "    </tr>\n",
       "    <tr>\n",
       "      <th>4</th>\n",
       "      <td>91250700</td>\n",
       "      <td>2023-01-01</td>\n",
       "      <td>2022-12-31</td>\n",
       "      <td>23:57:08</td>\n",
       "      <td>ALARMS: COMMERCIAL/BURGLARY</td>\n",
       "      <td>Non CIP</td>\n",
       "      <td>QUEENS</td>\n",
       "      <td>PATROL BORO QUEENS NORTH</td>\n",
       "      <td>2023-01-01 00:01:29</td>\n",
       "      <td>2023-01-01 00:14:28</td>\n",
       "      <td>2023-01-01 00:21:59</td>\n",
       "      <td>2023-01-01 01:24:22</td>\n",
       "      <td>1014264</td>\n",
       "      <td>211852</td>\n",
       "      <td>40.748119</td>\n",
       "      <td>-73.891679</td>\n",
       "    </tr>\n",
       "  </tbody>\n",
       "</table>\n",
       "</div>"
      ],
      "text/plain": [
       "   Event_Id Create_Date Incident_Date Incident_Time  \\\n",
       "0  91250176  2023-01-01    2022-12-31      23:24:39   \n",
       "1  91250180  2023-01-01    2022-12-31      23:24:47   \n",
       "2  91250681  2023-01-01    2022-12-31      23:55:56   \n",
       "3  91250683  2023-01-01    2022-12-31      23:55:59   \n",
       "4  91250700  2023-01-01    2022-12-31      23:57:08   \n",
       "\n",
       "               Type_Description Call_Flag   Borough              Neighborhood  \\\n",
       "0      VEHICLE ACCIDENT: INJURY   Non CIP  BROOKLYN   PATROL BORO BKLYN SOUTH   \n",
       "1   ALARMS: COMMERCIAL/BURGLARY   Non CIP  BROOKLYN   PATROL BORO BKLYN NORTH   \n",
       "2  ALARMS: RESIDENTIAL/BURGLARY   Non CIP    QUEENS  PATROL BORO QUEENS NORTH   \n",
       "3  ALARMS: RESIDENTIAL/BURGLARY   Non CIP  BROOKLYN   PATROL BORO BKLYN SOUTH   \n",
       "4   ALARMS: COMMERCIAL/BURGLARY   Non CIP    QUEENS  PATROL BORO QUEENS NORTH   \n",
       "\n",
       "      Time_Call_Added       Dispatch_Time        Time_Arrived  \\\n",
       "0 2023-01-01 01:08:21 2023-01-01 01:09:57 2023-01-01 00:44:33   \n",
       "1 2023-01-01 00:38:00 2023-01-01 00:38:34 2023-01-01 00:44:33   \n",
       "2 2023-01-01 00:01:26 2023-01-01 00:06:18 2023-01-01 00:44:33   \n",
       "3 2023-01-01 00:01:34 2023-01-01 00:37:14 2023-01-01 01:09:32   \n",
       "4 2023-01-01 00:01:29 2023-01-01 00:14:28 2023-01-01 00:21:59   \n",
       "\n",
       "         Closing_Time  Block_X_Coordinate  Block_Y_Coordinate   Latitude  \\\n",
       "0 2023-01-01 01:57:44             1001878              175994  40.649730   \n",
       "1 2023-01-01 01:45:21             1017204              180778  40.662817   \n",
       "2 2023-01-01 00:06:27             1008573              217117  40.762587   \n",
       "3 2023-01-01 01:21:14              993234              161780  40.610729   \n",
       "4 2023-01-01 01:24:22             1014264              211852  40.748119   \n",
       "\n",
       "   Longitude  \n",
       "0 -73.936475  \n",
       "1 -73.881221  \n",
       "2 -73.912199  \n",
       "3 -73.967644  \n",
       "4 -73.891679  "
      ]
     },
     "execution_count": 27,
     "metadata": {},
     "output_type": "execute_result"
    }
   ],
   "source": [
    "df_subset.head()"
   ]
  },
  {
   "cell_type": "code",
   "execution_count": 28,
   "metadata": {},
   "outputs": [],
   "source": [
    "# Changing column contents string to title case to selected columns using a for loop\n",
    "col_titlecase = ['Type_Description','Borough','Neighborhood',]\n",
    "for i in col_titlecase:\n",
    "    if i in df_subset.columns:\n",
    "        df_subset[i] = df_subset[i].astype(str).str.title() # Check if the column exists to avoid errors"
   ]
  },
  {
   "cell_type": "code",
   "execution_count": 29,
   "metadata": {},
   "outputs": [
    {
     "data": {
      "text/html": [
       "<div>\n",
       "<style scoped>\n",
       "    .dataframe tbody tr th:only-of-type {\n",
       "        vertical-align: middle;\n",
       "    }\n",
       "\n",
       "    .dataframe tbody tr th {\n",
       "        vertical-align: top;\n",
       "    }\n",
       "\n",
       "    .dataframe thead th {\n",
       "        text-align: right;\n",
       "    }\n",
       "</style>\n",
       "<table border=\"1\" class=\"dataframe\">\n",
       "  <thead>\n",
       "    <tr style=\"text-align: right;\">\n",
       "      <th></th>\n",
       "      <th>Event_Id</th>\n",
       "      <th>Create_Date</th>\n",
       "      <th>Incident_Date</th>\n",
       "      <th>Incident_Time</th>\n",
       "      <th>Type_Description</th>\n",
       "      <th>Call_Flag</th>\n",
       "      <th>Borough</th>\n",
       "      <th>Neighborhood</th>\n",
       "      <th>Time_Call_Added</th>\n",
       "      <th>Dispatch_Time</th>\n",
       "      <th>Time_Arrived</th>\n",
       "      <th>Closing_Time</th>\n",
       "      <th>Block_X_Coordinate</th>\n",
       "      <th>Block_Y_Coordinate</th>\n",
       "      <th>Latitude</th>\n",
       "      <th>Longitude</th>\n",
       "    </tr>\n",
       "  </thead>\n",
       "  <tbody>\n",
       "    <tr>\n",
       "      <th>0</th>\n",
       "      <td>91250176</td>\n",
       "      <td>2023-01-01</td>\n",
       "      <td>2022-12-31</td>\n",
       "      <td>23:24:39</td>\n",
       "      <td>Vehicle Accident: Injury</td>\n",
       "      <td>Non CIP</td>\n",
       "      <td>Brooklyn</td>\n",
       "      <td>Patrol Boro Bklyn South</td>\n",
       "      <td>2023-01-01 01:08:21</td>\n",
       "      <td>2023-01-01 01:09:57</td>\n",
       "      <td>2023-01-01 00:44:33</td>\n",
       "      <td>2023-01-01 01:57:44</td>\n",
       "      <td>1001878</td>\n",
       "      <td>175994</td>\n",
       "      <td>40.649730</td>\n",
       "      <td>-73.936475</td>\n",
       "    </tr>\n",
       "    <tr>\n",
       "      <th>1</th>\n",
       "      <td>91250180</td>\n",
       "      <td>2023-01-01</td>\n",
       "      <td>2022-12-31</td>\n",
       "      <td>23:24:47</td>\n",
       "      <td>Alarms: Commercial/Burglary</td>\n",
       "      <td>Non CIP</td>\n",
       "      <td>Brooklyn</td>\n",
       "      <td>Patrol Boro Bklyn North</td>\n",
       "      <td>2023-01-01 00:38:00</td>\n",
       "      <td>2023-01-01 00:38:34</td>\n",
       "      <td>2023-01-01 00:44:33</td>\n",
       "      <td>2023-01-01 01:45:21</td>\n",
       "      <td>1017204</td>\n",
       "      <td>180778</td>\n",
       "      <td>40.662817</td>\n",
       "      <td>-73.881221</td>\n",
       "    </tr>\n",
       "    <tr>\n",
       "      <th>2</th>\n",
       "      <td>91250681</td>\n",
       "      <td>2023-01-01</td>\n",
       "      <td>2022-12-31</td>\n",
       "      <td>23:55:56</td>\n",
       "      <td>Alarms: Residential/Burglary</td>\n",
       "      <td>Non CIP</td>\n",
       "      <td>Queens</td>\n",
       "      <td>Patrol Boro Queens North</td>\n",
       "      <td>2023-01-01 00:01:26</td>\n",
       "      <td>2023-01-01 00:06:18</td>\n",
       "      <td>2023-01-01 00:44:33</td>\n",
       "      <td>2023-01-01 00:06:27</td>\n",
       "      <td>1008573</td>\n",
       "      <td>217117</td>\n",
       "      <td>40.762587</td>\n",
       "      <td>-73.912199</td>\n",
       "    </tr>\n",
       "    <tr>\n",
       "      <th>3</th>\n",
       "      <td>91250683</td>\n",
       "      <td>2023-01-01</td>\n",
       "      <td>2022-12-31</td>\n",
       "      <td>23:55:59</td>\n",
       "      <td>Alarms: Residential/Burglary</td>\n",
       "      <td>Non CIP</td>\n",
       "      <td>Brooklyn</td>\n",
       "      <td>Patrol Boro Bklyn South</td>\n",
       "      <td>2023-01-01 00:01:34</td>\n",
       "      <td>2023-01-01 00:37:14</td>\n",
       "      <td>2023-01-01 01:09:32</td>\n",
       "      <td>2023-01-01 01:21:14</td>\n",
       "      <td>993234</td>\n",
       "      <td>161780</td>\n",
       "      <td>40.610729</td>\n",
       "      <td>-73.967644</td>\n",
       "    </tr>\n",
       "    <tr>\n",
       "      <th>4</th>\n",
       "      <td>91250700</td>\n",
       "      <td>2023-01-01</td>\n",
       "      <td>2022-12-31</td>\n",
       "      <td>23:57:08</td>\n",
       "      <td>Alarms: Commercial/Burglary</td>\n",
       "      <td>Non CIP</td>\n",
       "      <td>Queens</td>\n",
       "      <td>Patrol Boro Queens North</td>\n",
       "      <td>2023-01-01 00:01:29</td>\n",
       "      <td>2023-01-01 00:14:28</td>\n",
       "      <td>2023-01-01 00:21:59</td>\n",
       "      <td>2023-01-01 01:24:22</td>\n",
       "      <td>1014264</td>\n",
       "      <td>211852</td>\n",
       "      <td>40.748119</td>\n",
       "      <td>-73.891679</td>\n",
       "    </tr>\n",
       "  </tbody>\n",
       "</table>\n",
       "</div>"
      ],
      "text/plain": [
       "   Event_Id Create_Date Incident_Date Incident_Time  \\\n",
       "0  91250176  2023-01-01    2022-12-31      23:24:39   \n",
       "1  91250180  2023-01-01    2022-12-31      23:24:47   \n",
       "2  91250681  2023-01-01    2022-12-31      23:55:56   \n",
       "3  91250683  2023-01-01    2022-12-31      23:55:59   \n",
       "4  91250700  2023-01-01    2022-12-31      23:57:08   \n",
       "\n",
       "               Type_Description Call_Flag   Borough              Neighborhood  \\\n",
       "0      Vehicle Accident: Injury   Non CIP  Brooklyn   Patrol Boro Bklyn South   \n",
       "1   Alarms: Commercial/Burglary   Non CIP  Brooklyn   Patrol Boro Bklyn North   \n",
       "2  Alarms: Residential/Burglary   Non CIP    Queens  Patrol Boro Queens North   \n",
       "3  Alarms: Residential/Burglary   Non CIP  Brooklyn   Patrol Boro Bklyn South   \n",
       "4   Alarms: Commercial/Burglary   Non CIP    Queens  Patrol Boro Queens North   \n",
       "\n",
       "      Time_Call_Added       Dispatch_Time        Time_Arrived  \\\n",
       "0 2023-01-01 01:08:21 2023-01-01 01:09:57 2023-01-01 00:44:33   \n",
       "1 2023-01-01 00:38:00 2023-01-01 00:38:34 2023-01-01 00:44:33   \n",
       "2 2023-01-01 00:01:26 2023-01-01 00:06:18 2023-01-01 00:44:33   \n",
       "3 2023-01-01 00:01:34 2023-01-01 00:37:14 2023-01-01 01:09:32   \n",
       "4 2023-01-01 00:01:29 2023-01-01 00:14:28 2023-01-01 00:21:59   \n",
       "\n",
       "         Closing_Time  Block_X_Coordinate  Block_Y_Coordinate   Latitude  \\\n",
       "0 2023-01-01 01:57:44             1001878              175994  40.649730   \n",
       "1 2023-01-01 01:45:21             1017204              180778  40.662817   \n",
       "2 2023-01-01 00:06:27             1008573              217117  40.762587   \n",
       "3 2023-01-01 01:21:14              993234              161780  40.610729   \n",
       "4 2023-01-01 01:24:22             1014264              211852  40.748119   \n",
       "\n",
       "   Longitude  \n",
       "0 -73.936475  \n",
       "1 -73.881221  \n",
       "2 -73.912199  \n",
       "3 -73.967644  \n",
       "4 -73.891679  "
      ]
     },
     "execution_count": 29,
     "metadata": {},
     "output_type": "execute_result"
    }
   ],
   "source": [
    "# Preview changes\n",
    "df_subset.head()"
   ]
  },
  {
   "cell_type": "markdown",
   "metadata": {},
   "source": [
    "We can see that the Neighborhood column contains data related to the area patrolled, named **The Boroughs of New York**, which comprise five major governmental districts including ***The Bronx, Brooklyn, Manhattan, Queens, and Staten Island***. Therefore, let's split these neighborhoods and assign them a new column to reflect areas where calls were made. Learn more about [The Boroughs of New York](https://en.wikipedia.org/wiki/Boroughs_of_New_York_City)."
   ]
  },
  {
   "cell_type": "code",
   "execution_count": 30,
   "metadata": {},
   "outputs": [
    {
     "data": {
      "text/plain": [
       "Neighborhood\n",
       "Patrol Boro Bronx            1372403\n",
       "Patrol Boro Bklyn North      1060348\n",
       "Patrol Boro Bklyn South      1042241\n",
       "Patrol Boro Man South        1029134\n",
       "Patrol Boro Man North         984443\n",
       "Patrol Boro Queens North      695478\n",
       "Patrol Boro Queens South      603501\n",
       "Patrol Boro Staten Island     262426\n",
       "(Null)                           153\n",
       "Name: count, dtype: int64"
      ]
     },
     "execution_count": 30,
     "metadata": {},
     "output_type": "execute_result"
    }
   ],
   "source": [
    "# Preview dataframe \n",
    "df_subset['Neighborhood'].value_counts(dropna=False)"
   ]
  },
  {
   "cell_type": "code",
   "execution_count": 31,
   "metadata": {},
   "outputs": [],
   "source": [
    "# Filter out (Null) string values\n",
    "df_subset = df_subset[df_subset['Neighborhood'] != '(Null)']"
   ]
  },
  {
   "cell_type": "code",
   "execution_count": 32,
   "metadata": {},
   "outputs": [],
   "source": [
    "# Extract everything after \"Patrol Boro\" and assign it to a new column 'neighborhood.' \n",
    "df_subset['Neighborhood'] = df_subset['Neighborhood'].str.extract('Patrol Boro (.*)')"
   ]
  },
  {
   "cell_type": "code",
   "execution_count": 33,
   "metadata": {},
   "outputs": [
    {
     "data": {
      "text/plain": [
       "Neighborhood\n",
       "Bronx            1372403\n",
       "Bklyn North      1060348\n",
       "Bklyn South      1042241\n",
       "Man South        1029134\n",
       "Man North         984443\n",
       "Queens North      695478\n",
       "Queens South      603501\n",
       "Staten Island     262426\n",
       "Name: count, dtype: int64"
      ]
     },
     "execution_count": 33,
     "metadata": {},
     "output_type": "execute_result"
    }
   ],
   "source": [
    "# Preview dataframe \n",
    "df_subset['Neighborhood'].value_counts(dropna=False)"
   ]
  },
  {
   "cell_type": "code",
   "execution_count": 34,
   "metadata": {},
   "outputs": [],
   "source": [
    "# Replace neighborhoods abbreviations with their full name for clarity\n",
    "df_subset['Neighborhood'] = df_subset['Neighborhood'].str.replace('Bklyn', 'Brooklyn').str.replace('Man', 'Manhattan')"
   ]
  },
  {
   "cell_type": "code",
   "execution_count": 35,
   "metadata": {},
   "outputs": [
    {
     "data": {
      "text/plain": [
       "Neighborhood\n",
       "Bronx              1372403\n",
       "Brooklyn North     1060348\n",
       "Brooklyn South     1042241\n",
       "Manhattan South    1029134\n",
       "Manhattan North     984443\n",
       "Queens North        695478\n",
       "Queens South        603501\n",
       "Staten Island       262426\n",
       "Name: count, dtype: int64"
      ]
     },
     "execution_count": 35,
     "metadata": {},
     "output_type": "execute_result"
    }
   ],
   "source": [
    "# Preview dataframe \n",
    "df_subset['Neighborhood'].value_counts(dropna=False)"
   ]
  },
  {
   "cell_type": "code",
   "execution_count": 36,
   "metadata": {},
   "outputs": [
    {
     "data": {
      "text/plain": [
       "Event_Id              0\n",
       "Create_Date           0\n",
       "Incident_Date         0\n",
       "Incident_Time         0\n",
       "Type_Description      0\n",
       "Call_Flag             0\n",
       "Borough               0\n",
       "Neighborhood          0\n",
       "Time_Call_Added       0\n",
       "Dispatch_Time         0\n",
       "Time_Arrived          0\n",
       "Closing_Time          0\n",
       "Block_X_Coordinate    0\n",
       "Block_Y_Coordinate    0\n",
       "Latitude              0\n",
       "Longitude             0\n",
       "dtype: int64"
      ]
     },
     "execution_count": 36,
     "metadata": {},
     "output_type": "execute_result"
    }
   ],
   "source": [
    "# Preview the dataset for null values\n",
    "df_subset.isnull().sum()"
   ]
  },
  {
   "cell_type": "code",
   "execution_count": 37,
   "metadata": {},
   "outputs": [
    {
     "data": {
      "text/plain": [
       "Event_Id                       int64\n",
       "Create_Date           datetime64[ns]\n",
       "Incident_Date         datetime64[ns]\n",
       "Incident_Time                 object\n",
       "Type_Description              object\n",
       "Call_Flag                     object\n",
       "Borough                       object\n",
       "Neighborhood                  object\n",
       "Time_Call_Added       datetime64[ns]\n",
       "Dispatch_Time         datetime64[ns]\n",
       "Time_Arrived          datetime64[ns]\n",
       "Closing_Time          datetime64[ns]\n",
       "Block_X_Coordinate             int64\n",
       "Block_Y_Coordinate             int64\n",
       "Latitude                     float64\n",
       "Longitude                    float64\n",
       "dtype: object"
      ]
     },
     "execution_count": 37,
     "metadata": {},
     "output_type": "execute_result"
    }
   ],
   "source": [
    "df_subset.dtypes"
   ]
  },
  {
   "cell_type": "markdown",
   "metadata": {},
   "source": [
    "At this point, the data is cleaned, transformed, restructured, and standardized for analysis with subsets created. Let's perform basic univariate EDA to understand the data's granularity, identify unique values in fields such as incident types and locations, and gain insights into the frequency of 911 calls and from the neighborhood with the most incident calls. Also, validate geospatial data to ensure these values are within valid ranges (Latitude between -90 and 90, Longitude between -180 and 180). Finally, checking for outliers or incorrect values that could indicate data entry errors before exporting data for Temporal Analysis, Geographical Distribution, Correlation and Pattern Identification and Visualization."
   ]
  },
  {
   "cell_type": "markdown",
   "metadata": {},
   "source": [
    "To begin, let's create a subset of the data frame "
   ]
  },
  {
   "cell_type": "code",
   "execution_count": 38,
   "metadata": {},
   "outputs": [
    {
     "data": {
      "text/html": [
       "<div>\n",
       "<style scoped>\n",
       "    .dataframe tbody tr th:only-of-type {\n",
       "        vertical-align: middle;\n",
       "    }\n",
       "\n",
       "    .dataframe tbody tr th {\n",
       "        vertical-align: top;\n",
       "    }\n",
       "\n",
       "    .dataframe thead th {\n",
       "        text-align: right;\n",
       "    }\n",
       "</style>\n",
       "<table border=\"1\" class=\"dataframe\">\n",
       "  <thead>\n",
       "    <tr style=\"text-align: right;\">\n",
       "      <th></th>\n",
       "      <th>Event_Id</th>\n",
       "      <th>Create_Date</th>\n",
       "      <th>Incident_Date</th>\n",
       "      <th>Incident_Time</th>\n",
       "      <th>Type_Description</th>\n",
       "      <th>Call_Flag</th>\n",
       "      <th>Borough</th>\n",
       "      <th>Neighborhood</th>\n",
       "      <th>Time_Call_Added</th>\n",
       "      <th>Dispatch_Time</th>\n",
       "      <th>Time_Arrived</th>\n",
       "      <th>Closing_Time</th>\n",
       "      <th>Block_X_Coordinate</th>\n",
       "      <th>Block_Y_Coordinate</th>\n",
       "      <th>Latitude</th>\n",
       "      <th>Longitude</th>\n",
       "    </tr>\n",
       "  </thead>\n",
       "  <tbody>\n",
       "    <tr>\n",
       "      <th>0</th>\n",
       "      <td>91250176</td>\n",
       "      <td>2023-01-01</td>\n",
       "      <td>2022-12-31</td>\n",
       "      <td>23:24:39</td>\n",
       "      <td>Vehicle Accident: Injury</td>\n",
       "      <td>Non CIP</td>\n",
       "      <td>Brooklyn</td>\n",
       "      <td>Brooklyn South</td>\n",
       "      <td>2023-01-01 01:08:21</td>\n",
       "      <td>2023-01-01 01:09:57</td>\n",
       "      <td>2023-01-01 00:44:33</td>\n",
       "      <td>2023-01-01 01:57:44</td>\n",
       "      <td>1001878</td>\n",
       "      <td>175994</td>\n",
       "      <td>40.649730</td>\n",
       "      <td>-73.936475</td>\n",
       "    </tr>\n",
       "    <tr>\n",
       "      <th>1</th>\n",
       "      <td>91250180</td>\n",
       "      <td>2023-01-01</td>\n",
       "      <td>2022-12-31</td>\n",
       "      <td>23:24:47</td>\n",
       "      <td>Alarms: Commercial/Burglary</td>\n",
       "      <td>Non CIP</td>\n",
       "      <td>Brooklyn</td>\n",
       "      <td>Brooklyn North</td>\n",
       "      <td>2023-01-01 00:38:00</td>\n",
       "      <td>2023-01-01 00:38:34</td>\n",
       "      <td>2023-01-01 00:44:33</td>\n",
       "      <td>2023-01-01 01:45:21</td>\n",
       "      <td>1017204</td>\n",
       "      <td>180778</td>\n",
       "      <td>40.662817</td>\n",
       "      <td>-73.881221</td>\n",
       "    </tr>\n",
       "    <tr>\n",
       "      <th>2</th>\n",
       "      <td>91250681</td>\n",
       "      <td>2023-01-01</td>\n",
       "      <td>2022-12-31</td>\n",
       "      <td>23:55:56</td>\n",
       "      <td>Alarms: Residential/Burglary</td>\n",
       "      <td>Non CIP</td>\n",
       "      <td>Queens</td>\n",
       "      <td>Queens North</td>\n",
       "      <td>2023-01-01 00:01:26</td>\n",
       "      <td>2023-01-01 00:06:18</td>\n",
       "      <td>2023-01-01 00:44:33</td>\n",
       "      <td>2023-01-01 00:06:27</td>\n",
       "      <td>1008573</td>\n",
       "      <td>217117</td>\n",
       "      <td>40.762587</td>\n",
       "      <td>-73.912199</td>\n",
       "    </tr>\n",
       "    <tr>\n",
       "      <th>3</th>\n",
       "      <td>91250683</td>\n",
       "      <td>2023-01-01</td>\n",
       "      <td>2022-12-31</td>\n",
       "      <td>23:55:59</td>\n",
       "      <td>Alarms: Residential/Burglary</td>\n",
       "      <td>Non CIP</td>\n",
       "      <td>Brooklyn</td>\n",
       "      <td>Brooklyn South</td>\n",
       "      <td>2023-01-01 00:01:34</td>\n",
       "      <td>2023-01-01 00:37:14</td>\n",
       "      <td>2023-01-01 01:09:32</td>\n",
       "      <td>2023-01-01 01:21:14</td>\n",
       "      <td>993234</td>\n",
       "      <td>161780</td>\n",
       "      <td>40.610729</td>\n",
       "      <td>-73.967644</td>\n",
       "    </tr>\n",
       "    <tr>\n",
       "      <th>4</th>\n",
       "      <td>91250700</td>\n",
       "      <td>2023-01-01</td>\n",
       "      <td>2022-12-31</td>\n",
       "      <td>23:57:08</td>\n",
       "      <td>Alarms: Commercial/Burglary</td>\n",
       "      <td>Non CIP</td>\n",
       "      <td>Queens</td>\n",
       "      <td>Queens North</td>\n",
       "      <td>2023-01-01 00:01:29</td>\n",
       "      <td>2023-01-01 00:14:28</td>\n",
       "      <td>2023-01-01 00:21:59</td>\n",
       "      <td>2023-01-01 01:24:22</td>\n",
       "      <td>1014264</td>\n",
       "      <td>211852</td>\n",
       "      <td>40.748119</td>\n",
       "      <td>-73.891679</td>\n",
       "    </tr>\n",
       "  </tbody>\n",
       "</table>\n",
       "</div>"
      ],
      "text/plain": [
       "   Event_Id Create_Date Incident_Date Incident_Time  \\\n",
       "0  91250176  2023-01-01    2022-12-31      23:24:39   \n",
       "1  91250180  2023-01-01    2022-12-31      23:24:47   \n",
       "2  91250681  2023-01-01    2022-12-31      23:55:56   \n",
       "3  91250683  2023-01-01    2022-12-31      23:55:59   \n",
       "4  91250700  2023-01-01    2022-12-31      23:57:08   \n",
       "\n",
       "               Type_Description Call_Flag   Borough    Neighborhood  \\\n",
       "0      Vehicle Accident: Injury   Non CIP  Brooklyn  Brooklyn South   \n",
       "1   Alarms: Commercial/Burglary   Non CIP  Brooklyn  Brooklyn North   \n",
       "2  Alarms: Residential/Burglary   Non CIP    Queens    Queens North   \n",
       "3  Alarms: Residential/Burglary   Non CIP  Brooklyn  Brooklyn South   \n",
       "4   Alarms: Commercial/Burglary   Non CIP    Queens    Queens North   \n",
       "\n",
       "      Time_Call_Added       Dispatch_Time        Time_Arrived  \\\n",
       "0 2023-01-01 01:08:21 2023-01-01 01:09:57 2023-01-01 00:44:33   \n",
       "1 2023-01-01 00:38:00 2023-01-01 00:38:34 2023-01-01 00:44:33   \n",
       "2 2023-01-01 00:01:26 2023-01-01 00:06:18 2023-01-01 00:44:33   \n",
       "3 2023-01-01 00:01:34 2023-01-01 00:37:14 2023-01-01 01:09:32   \n",
       "4 2023-01-01 00:01:29 2023-01-01 00:14:28 2023-01-01 00:21:59   \n",
       "\n",
       "         Closing_Time  Block_X_Coordinate  Block_Y_Coordinate   Latitude  \\\n",
       "0 2023-01-01 01:57:44             1001878              175994  40.649730   \n",
       "1 2023-01-01 01:45:21             1017204              180778  40.662817   \n",
       "2 2023-01-01 00:06:27             1008573              217117  40.762587   \n",
       "3 2023-01-01 01:21:14              993234              161780  40.610729   \n",
       "4 2023-01-01 01:24:22             1014264              211852  40.748119   \n",
       "\n",
       "   Longitude  \n",
       "0 -73.936475  \n",
       "1 -73.881221  \n",
       "2 -73.912199  \n",
       "3 -73.967644  \n",
       "4 -73.891679  "
      ]
     },
     "execution_count": 38,
     "metadata": {},
     "output_type": "execute_result"
    }
   ],
   "source": [
    "# Create another subset\n",
    "df_subset1 = df_subset\n",
    "df_subset1.head()"
   ]
  },
  {
   "cell_type": "code",
   "execution_count": 39,
   "metadata": {},
   "outputs": [
    {
     "data": {
      "text/plain": [
       "Text(0, 0.5, 'Frequency of calls (in millions)')"
      ]
     },
     "execution_count": 39,
     "metadata": {},
     "output_type": "execute_result"
    },
    {
     "data": {
      "image/png": "[encoded data removed]",
      "text/plain": [
       "<Figure size 640x480 with 1 Axes>"
      ]
     },
     "metadata": {},
     "output_type": "display_data"
    }
   ],
   "source": [
    "## Fequency of emergency calls\n",
    "df_subset1['Borough'].value_counts().plot(kind='bar')\n",
    "plt.title('NYPD 911 calls frequency by Boroughs')\n",
    "plt.xlabel('Boroughs')\n",
    "plt.ylabel('Frequency of calls (in millions)')\n"
   ]
  },
  {
   "cell_type": "code",
   "execution_count": 40,
   "metadata": {},
   "outputs": [
    {
     "data": {
      "text/plain": [
       "Text(0, 0.5, 'Frequency of calls (in millions)')"
      ]
     },
     "execution_count": 40,
     "metadata": {},
     "output_type": "execute_result"
    },
    {
     "data": {
      "image/png": "[encoded data removed]",
      "text/plain": [
       "<Figure size 640x480 with 1 Axes>"
      ]
     },
     "metadata": {},
     "output_type": "display_data"
    }
   ],
   "source": [
    "## Fequency of emergency calls\n",
    "\n",
    "df_subset1['Neighborhood'].value_counts().plot(kind='bar')\n",
    "plt.title('NYPD 911 calls frequency by neighborhood')\n",
    "plt.xlabel('Neighborhoods')\n",
    "plt.ylabel('Frequency of calls (in millions)')\n"
   ]
  },
  {
   "cell_type": "code",
   "execution_count": 41,
   "metadata": {},
   "outputs": [
    {
     "data": {
      "text/plain": [
       "Text(0, 0.5, 'Incident Type(s)')"
      ]
     },
     "execution_count": 41,
     "metadata": {},
     "output_type": "execute_result"
    },
    {
     "data": {
      "image/png": "[encoded data removed]",
      "text/plain": [
       "<Figure size 640x480 with 1 Axes>"
      ]
     },
     "metadata": {},
     "output_type": "display_data"
    }
   ],
   "source": [
    "## Fequency of 911 calls by type between in 2023\n",
    "plt.figure()\n",
    "df_subset1['Type_Description'].value_counts().head(20).sort_values(ascending=True).plot(kind='barh')\n",
    "plt.title('Top 20 911 Call Reasons')\n",
    "plt.xlabel('Number of Calls')\n",
    "plt.ylabel('Incident Type(s)')\n"
   ]
  },
  {
   "cell_type": "code",
   "execution_count": 42,
   "metadata": {},
   "outputs": [
    {
     "data": {
      "text/plain": [
       "Text(0, 0.5, 'Incident Type(s)')"
      ]
     },
     "execution_count": 42,
     "metadata": {},
     "output_type": "execute_result"
    },
    {
     "data": {
      "image/png": "[encoded data removed]",
      "text/plain": [
       "<Figure size 640x480 with 1 Axes>"
      ]
     },
     "metadata": {},
     "output_type": "display_data"
    }
   ],
   "source": [
    "## Fequency of 911 calls by type between in 2023\n",
    "plt.figure()\n",
    "df_subset1['Type_Description'].value_counts().tail(20).sort_values(ascending=True).plot(kind='barh')\n",
    "plt.title('Least 20 911 call reasons')\n",
    "plt.xlabel('Number of Calls')\n",
    "plt.ylabel('Incident Type(s)')\n"
   ]
  },
  {
   "cell_type": "code",
   "execution_count": 45,
   "metadata": {},
   "outputs": [],
   "source": [
    "# Export the cleaned data frame to a pickle file to serialize, save space, and retain datatypes\n",
    "df_subset1.to_pickle('~/Datasets/CLEANED/nypd_911calls_clean.pkl')\n",
    "# `index=False` means the DataFrame's index will not be written to the file.\n",
    "# Optionally to include in export, set `index=True`."
   ]
  }
 ],
 "metadata": {
  "kernelspec": {
   "display_name": "Python 3 (ipykernel)",
   "language": "python",
   "name": "python3"
  },
  "language_info": {
   "codemirror_mode": {
    "name": "ipython",
    "version": 3
   },
   "file_extension": ".py",
   "mimetype": "text/x-python",
   "name": "python",
   "nbconvert_exporter": "python",
   "pygments_lexer": "ipython3",
   "version": "3.10.10"
  }
 },
 "nbformat": 4,
 "nbformat_minor": 4
}
