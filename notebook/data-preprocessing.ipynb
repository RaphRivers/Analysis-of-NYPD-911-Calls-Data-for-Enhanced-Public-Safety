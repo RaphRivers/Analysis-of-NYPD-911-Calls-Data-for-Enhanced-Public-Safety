{
 "cells": [
  {
   "cell_type": "markdown",
   "metadata": {},
   "source": [
    "# Data Preprocessing and Cleaning"
   ]
  },
  {
   "cell_type": "markdown",
   "metadata": {},
   "source": [
    "Data Source: [Data.gov](https://catalog.data.gov/dataset/nypd-calls-for-service) a non-federal dataset for public use. \n",
    "License: City of New York - NYC.gov see [Terms of Use](https://www.nyc.gov/home/terms-of-use.page)"
   ]
  },
  {
   "cell_type": "markdown",
   "metadata": {},
   "source": [
    "Install required libraries using ****\"pip install library_name\"****, set environment variables and import the packages"
   ]
  },
  {
   "cell_type": "code",
   "execution_count": 1,
   "metadata": {},
   "outputs": [],
   "source": [
    "import os #module used to provide a way of utilizing operating system dependent functionality like reading or setting environments \n",
    "import tempfile # module used for creating temporary storage locations \n",
    "os.environ[\"MPLCONFIGDIR\"] = tempfile.gettempdir() # sets the MPLCONFIGDIR environment variable to the path returned by tempfile for Maatplotlib to store its config files"
   ]
  },
  {
   "cell_type": "markdown",
   "metadata": {},
   "source": [
    "This can be particularly useful in scenarios where the user does not have the permission to write to the default Matplotlib configuration directory, or when you want to avoid cluttering the user's home directory with Matplotlib configuration files. It's also beneficial in a multi-user environment or in situations where you want to ensure that Matplotlib's configuration does not persist between program executions."
   ]
  },
  {
   "cell_type": "code",
   "execution_count": 2,
   "metadata": {},
   "outputs": [],
   "source": [
    "# import packages\n",
    "import numpy as np\n",
    "import pandas as pd\n",
    "import matplotlib.pyplot as plt\n",
    "%matplotlib inline\n",
    "import datetime"
   ]
  },
  {
   "cell_type": "markdown",
   "metadata": {},
   "source": [
    "#### 1. Review Data Type(s): \n",
    "Inspect and ensure that each column is of the correct data type \n",
    "#### 2. Handle Missing Values:\n",
    "Identify missing values and decide on a strategy for handling them (e.g., imputation or removal).\n",
    "#### 3. Remove Duplicates:\n",
    "Check for and remove any duplicate records to ensure data integrity."
   ]
  },
  {
   "cell_type": "code",
   "execution_count": 3,
   "metadata": {},
   "outputs": [],
   "source": [
    "# Import and load the dataset using Padas to store as df\n",
    "nypdData = '/home/jupyter-raphrivers/Datasets/RAW/NYPD_Calls_for_Service__Year_to_Date_.csv'\n",
    "df = pd.read_csv(nypdData)"
   ]
  },
  {
   "cell_type": "markdown",
   "metadata": {},
   "source": [
    "After reading the dataset, verify the fields and records. Preview the dataframe, identify and correct errors, inconsistencies, and missing information in a dataset to improve its quality and reliability for analysis. Ensure that each column is of the correct data type (e.g., convert object timestamps to datetime, integers, float etc.). Check for and fill or remove NaN or null values to ensure data integrity."
   ]
  },
  {
   "cell_type": "code",
   "execution_count": 4,
   "metadata": {},
   "outputs": [
    {
     "data": {
      "text/html": [
       "<div>\n",
       "<style scoped>\n",
       "    .dataframe tbody tr th:only-of-type {\n",
       "        vertical-align: middle;\n",
       "    }\n",
       "\n",
       "    .dataframe tbody tr th {\n",
       "        vertical-align: top;\n",
       "    }\n",
       "\n",
       "    .dataframe thead th {\n",
       "        text-align: right;\n",
       "    }\n",
       "</style>\n",
       "<table border=\"1\" class=\"dataframe\">\n",
       "  <thead>\n",
       "    <tr style=\"text-align: right;\">\n",
       "      <th></th>\n",
       "      <th>CAD_EVNT_ID</th>\n",
       "      <th>CREATE_DATE</th>\n",
       "      <th>INCIDENT_DATE</th>\n",
       "      <th>INCIDENT_TIME</th>\n",
       "      <th>NYPD_PCT_CD</th>\n",
       "      <th>BORO_NM</th>\n",
       "      <th>PATRL_BORO_NM</th>\n",
       "      <th>GEO_CD_X</th>\n",
       "      <th>GEO_CD_Y</th>\n",
       "      <th>RADIO_CODE</th>\n",
       "      <th>TYP_DESC</th>\n",
       "      <th>CIP_JOBS</th>\n",
       "      <th>ADD_TS</th>\n",
       "      <th>DISP_TS</th>\n",
       "      <th>ARRIVD_TS</th>\n",
       "      <th>CLOSNG_TS</th>\n",
       "      <th>Latitude</th>\n",
       "      <th>Longitude</th>\n",
       "    </tr>\n",
       "  </thead>\n",
       "  <tbody>\n",
       "    <tr>\n",
       "      <th>0</th>\n",
       "      <td>91250176</td>\n",
       "      <td>01/01/2023</td>\n",
       "      <td>12/31/2022</td>\n",
       "      <td>23:24:39</td>\n",
       "      <td>67.0</td>\n",
       "      <td>BROOKLYN</td>\n",
       "      <td>PATROL BORO BKLYN SOUTH</td>\n",
       "      <td>1001878</td>\n",
       "      <td>175994</td>\n",
       "      <td>53I</td>\n",
       "      <td>VEHICLE ACCIDENT: INJURY</td>\n",
       "      <td>Non CIP</td>\n",
       "      <td>01/01/2023 01:08:21 AM</td>\n",
       "      <td>01/01/2023 01:09:57 AM</td>\n",
       "      <td>NaN</td>\n",
       "      <td>01/01/2023 01:57:44 AM</td>\n",
       "      <td>40.649730</td>\n",
       "      <td>-73.936475</td>\n",
       "    </tr>\n",
       "    <tr>\n",
       "      <th>1</th>\n",
       "      <td>91250180</td>\n",
       "      <td>01/01/2023</td>\n",
       "      <td>12/31/2022</td>\n",
       "      <td>23:24:47</td>\n",
       "      <td>75.0</td>\n",
       "      <td>BROOKLYN</td>\n",
       "      <td>PATROL BORO BKLYN NORTH</td>\n",
       "      <td>1017204</td>\n",
       "      <td>180778</td>\n",
       "      <td>11C4</td>\n",
       "      <td>ALARMS: COMMERCIAL/BURGLARY</td>\n",
       "      <td>Non CIP</td>\n",
       "      <td>01/01/2023 12:38:00 AM</td>\n",
       "      <td>01/01/2023 12:38:34 AM</td>\n",
       "      <td>01/01/2023 12:44:33 AM</td>\n",
       "      <td>01/01/2023 01:45:21 AM</td>\n",
       "      <td>40.662817</td>\n",
       "      <td>-73.881221</td>\n",
       "    </tr>\n",
       "    <tr>\n",
       "      <th>2</th>\n",
       "      <td>91250681</td>\n",
       "      <td>01/01/2023</td>\n",
       "      <td>12/31/2022</td>\n",
       "      <td>23:55:56</td>\n",
       "      <td>114.0</td>\n",
       "      <td>QUEENS</td>\n",
       "      <td>PATROL BORO QUEENS NORTH</td>\n",
       "      <td>1008573</td>\n",
       "      <td>217117</td>\n",
       "      <td>11R4</td>\n",
       "      <td>ALARMS: RESIDENTIAL/BURGLARY</td>\n",
       "      <td>Non CIP</td>\n",
       "      <td>01/01/2023 12:01:26 AM</td>\n",
       "      <td>01/01/2023 12:06:18 AM</td>\n",
       "      <td>NaN</td>\n",
       "      <td>01/01/2023 12:06:27 AM</td>\n",
       "      <td>40.762587</td>\n",
       "      <td>-73.912199</td>\n",
       "    </tr>\n",
       "    <tr>\n",
       "      <th>3</th>\n",
       "      <td>91250683</td>\n",
       "      <td>01/01/2023</td>\n",
       "      <td>12/31/2022</td>\n",
       "      <td>23:55:59</td>\n",
       "      <td>66.0</td>\n",
       "      <td>BROOKLYN</td>\n",
       "      <td>PATROL BORO BKLYN SOUTH</td>\n",
       "      <td>993234</td>\n",
       "      <td>161780</td>\n",
       "      <td>11R4</td>\n",
       "      <td>ALARMS: RESIDENTIAL/BURGLARY</td>\n",
       "      <td>Non CIP</td>\n",
       "      <td>01/01/2023 12:01:34 AM</td>\n",
       "      <td>01/01/2023 12:37:14 AM</td>\n",
       "      <td>01/01/2023 01:09:32 AM</td>\n",
       "      <td>01/01/2023 01:21:14 AM</td>\n",
       "      <td>40.610729</td>\n",
       "      <td>-73.967644</td>\n",
       "    </tr>\n",
       "    <tr>\n",
       "      <th>4</th>\n",
       "      <td>91250700</td>\n",
       "      <td>01/01/2023</td>\n",
       "      <td>12/31/2022</td>\n",
       "      <td>23:57:08</td>\n",
       "      <td>115.0</td>\n",
       "      <td>QUEENS</td>\n",
       "      <td>PATROL BORO QUEENS NORTH</td>\n",
       "      <td>1014264</td>\n",
       "      <td>211852</td>\n",
       "      <td>11C4</td>\n",
       "      <td>ALARMS: COMMERCIAL/BURGLARY</td>\n",
       "      <td>Non CIP</td>\n",
       "      <td>01/01/2023 12:01:29 AM</td>\n",
       "      <td>01/01/2023 12:14:28 AM</td>\n",
       "      <td>01/01/2023 12:21:59 AM</td>\n",
       "      <td>01/01/2023 01:24:22 AM</td>\n",
       "      <td>40.748119</td>\n",
       "      <td>-73.891679</td>\n",
       "    </tr>\n",
       "  </tbody>\n",
       "</table>\n",
       "</div>"
      ],
      "text/plain": [
       "   CAD_EVNT_ID CREATE_DATE INCIDENT_DATE INCIDENT_TIME  NYPD_PCT_CD   BORO_NM  \\\n",
       "0     91250176  01/01/2023    12/31/2022      23:24:39         67.0  BROOKLYN   \n",
       "1     91250180  01/01/2023    12/31/2022      23:24:47         75.0  BROOKLYN   \n",
       "2     91250681  01/01/2023    12/31/2022      23:55:56        114.0    QUEENS   \n",
       "3     91250683  01/01/2023    12/31/2022      23:55:59         66.0  BROOKLYN   \n",
       "4     91250700  01/01/2023    12/31/2022      23:57:08        115.0    QUEENS   \n",
       "\n",
       "              PATRL_BORO_NM  GEO_CD_X  GEO_CD_Y RADIO_CODE  \\\n",
       "0   PATROL BORO BKLYN SOUTH   1001878    175994        53I   \n",
       "1   PATROL BORO BKLYN NORTH   1017204    180778       11C4   \n",
       "2  PATROL BORO QUEENS NORTH   1008573    217117       11R4   \n",
       "3   PATROL BORO BKLYN SOUTH    993234    161780       11R4   \n",
       "4  PATROL BORO QUEENS NORTH   1014264    211852       11C4   \n",
       "\n",
       "                       TYP_DESC CIP_JOBS                  ADD_TS  \\\n",
       "0      VEHICLE ACCIDENT: INJURY  Non CIP  01/01/2023 01:08:21 AM   \n",
       "1   ALARMS: COMMERCIAL/BURGLARY  Non CIP  01/01/2023 12:38:00 AM   \n",
       "2  ALARMS: RESIDENTIAL/BURGLARY  Non CIP  01/01/2023 12:01:26 AM   \n",
       "3  ALARMS: RESIDENTIAL/BURGLARY  Non CIP  01/01/2023 12:01:34 AM   \n",
       "4   ALARMS: COMMERCIAL/BURGLARY  Non CIP  01/01/2023 12:01:29 AM   \n",
       "\n",
       "                  DISP_TS               ARRIVD_TS               CLOSNG_TS  \\\n",
       "0  01/01/2023 01:09:57 AM                     NaN  01/01/2023 01:57:44 AM   \n",
       "1  01/01/2023 12:38:34 AM  01/01/2023 12:44:33 AM  01/01/2023 01:45:21 AM   \n",
       "2  01/01/2023 12:06:18 AM                     NaN  01/01/2023 12:06:27 AM   \n",
       "3  01/01/2023 12:37:14 AM  01/01/2023 01:09:32 AM  01/01/2023 01:21:14 AM   \n",
       "4  01/01/2023 12:14:28 AM  01/01/2023 12:21:59 AM  01/01/2023 01:24:22 AM   \n",
       "\n",
       "    Latitude  Longitude  \n",
       "0  40.649730 -73.936475  \n",
       "1  40.662817 -73.881221  \n",
       "2  40.762587 -73.912199  \n",
       "3  40.610729 -73.967644  \n",
       "4  40.748119 -73.891679  "
      ]
     },
     "execution_count": 4,
     "metadata": {},
     "output_type": "execute_result"
    }
   ],
   "source": [
    "# Preview data frame displaying all columns\n",
    "pd.set_option('display.max_columns', None)\n",
    "df.head()"
   ]
  },
  {
   "cell_type": "code",
   "execution_count": 5,
   "metadata": {},
   "outputs": [
    {
     "name": "stdout",
     "output_type": "stream",
     "text": [
      "Rows:  7050127\n",
      "Columns:  18\n"
     ]
    }
   ],
   "source": [
    "# See the total number of Columns and Rows in the dataset\n",
    "print('Rows: ', df.shape[0])\n",
    "print('Columns: ', df.shape[1])"
   ]
  },
  {
   "cell_type": "code",
   "execution_count": 6,
   "metadata": {},
   "outputs": [],
   "source": [
    "# convert columns title to lowerccase\n",
    "df.columns = df.columns.str.lower()"
   ]
  },
  {
   "cell_type": "code",
   "execution_count": 7,
   "metadata": {},
   "outputs": [
    {
     "data": {
      "text/plain": [
       "cad_evnt_id            0\n",
       "create_date            0\n",
       "incident_date          0\n",
       "incident_time          0\n",
       "nypd_pct_cd            4\n",
       "boro_nm                0\n",
       "patrl_boro_nm          0\n",
       "geo_cd_x               0\n",
       "geo_cd_y               0\n",
       "radio_code             0\n",
       "typ_desc               0\n",
       "cip_jobs               0\n",
       "add_ts                 0\n",
       "disp_ts                0\n",
       "arrivd_ts        1503133\n",
       "closng_ts             20\n",
       "latitude               0\n",
       "longitude              0\n",
       "dtype: int64"
      ]
     },
     "execution_count": 7,
     "metadata": {},
     "output_type": "execute_result"
    }
   ],
   "source": [
    "# Check for null or missing values in each column\n",
    "df.isnull().sum()"
   ]
  },
  {
   "cell_type": "code",
   "execution_count": 8,
   "metadata": {},
   "outputs": [
    {
     "data": {
      "text/plain": [
       "5055189"
      ]
     },
     "execution_count": 8,
     "metadata": {},
     "output_type": "execute_result"
    }
   ],
   "source": [
    "# Now that we have seen missing values in some columns. Let's check the number of entries in the arrivd_ts column\n",
    "len(df['arrivd_ts'].value_counts())"
   ]
  },
  {
   "cell_type": "code",
   "execution_count": 9,
   "metadata": {},
   "outputs": [
    {
     "data": {
      "text/plain": [
       "6265913"
      ]
     },
     "execution_count": 9,
     "metadata": {},
     "output_type": "execute_result"
    }
   ],
   "source": [
    "# Check the number of available timestamp entries in the closng_ts coloumn\n",
    "len(df['closng_ts'].value_counts())"
   ]
  },
  {
   "cell_type": "code",
   "execution_count": 10,
   "metadata": {},
   "outputs": [
    {
     "data": {
      "text/plain": [
       "arrivd_ts        21.320651\n",
       "closng_ts         0.000284\n",
       "nypd_pct_cd       0.000057\n",
       "cad_evnt_id       0.000000\n",
       "typ_desc          0.000000\n",
       "latitude          0.000000\n",
       "disp_ts           0.000000\n",
       "add_ts            0.000000\n",
       "cip_jobs          0.000000\n",
       "radio_code        0.000000\n",
       "create_date       0.000000\n",
       "geo_cd_y          0.000000\n",
       "geo_cd_x          0.000000\n",
       "patrl_boro_nm     0.000000\n",
       "boro_nm           0.000000\n",
       "incident_time     0.000000\n",
       "incident_date     0.000000\n",
       "longitude         0.000000\n",
       "dtype: float64"
      ]
     },
     "execution_count": 10,
     "metadata": {},
     "output_type": "execute_result"
    }
   ],
   "source": [
    "# Let check the percentage of missing values to determine missing values handling strategy i.e. if we should drop it, fill or not\n",
    "(df.isna().sum()/df.shape[0]*100).sort_values(ascending=False)"
   ]
  },
  {
   "cell_type": "code",
   "execution_count": 11,
   "metadata": {},
   "outputs": [
    {
     "data": {
      "text/html": [
       "<div>\n",
       "<style scoped>\n",
       "    .dataframe tbody tr th:only-of-type {\n",
       "        vertical-align: middle;\n",
       "    }\n",
       "\n",
       "    .dataframe tbody tr th {\n",
       "        vertical-align: top;\n",
       "    }\n",
       "\n",
       "    .dataframe thead th {\n",
       "        text-align: right;\n",
       "    }\n",
       "</style>\n",
       "<table border=\"1\" class=\"dataframe\">\n",
       "  <thead>\n",
       "    <tr style=\"text-align: right;\">\n",
       "      <th></th>\n",
       "      <th>arrivd_ts</th>\n",
       "      <th>closng_ts</th>\n",
       "    </tr>\n",
       "  </thead>\n",
       "  <tbody>\n",
       "    <tr>\n",
       "      <th>01/01/2023 01:00:00 PM</th>\n",
       "      <td>2.0</td>\n",
       "      <td>NaN</td>\n",
       "    </tr>\n",
       "    <tr>\n",
       "      <th>01/01/2023 01:00:01 AM</th>\n",
       "      <td>NaN</td>\n",
       "      <td>1.0</td>\n",
       "    </tr>\n",
       "    <tr>\n",
       "      <th>01/01/2023 01:00:02 PM</th>\n",
       "      <td>NaN</td>\n",
       "      <td>1.0</td>\n",
       "    </tr>\n",
       "    <tr>\n",
       "      <th>01/01/2023 01:00:05 PM</th>\n",
       "      <td>1.0</td>\n",
       "      <td>NaN</td>\n",
       "    </tr>\n",
       "    <tr>\n",
       "      <th>01/01/2023 01:00:06 PM</th>\n",
       "      <td>NaN</td>\n",
       "      <td>1.0</td>\n",
       "    </tr>\n",
       "    <tr>\n",
       "      <th>...</th>\n",
       "      <td>...</td>\n",
       "      <td>...</td>\n",
       "    </tr>\n",
       "    <tr>\n",
       "      <th>12/31/2023 12:59:55 PM</th>\n",
       "      <td>NaN</td>\n",
       "      <td>2.0</td>\n",
       "    </tr>\n",
       "    <tr>\n",
       "      <th>12/31/2023 12:59:56 AM</th>\n",
       "      <td>NaN</td>\n",
       "      <td>1.0</td>\n",
       "    </tr>\n",
       "    <tr>\n",
       "      <th>12/31/2023 12:59:56 PM</th>\n",
       "      <td>1.0</td>\n",
       "      <td>NaN</td>\n",
       "    </tr>\n",
       "    <tr>\n",
       "      <th>12/31/2023 12:59:58 AM</th>\n",
       "      <td>2.0</td>\n",
       "      <td>NaN</td>\n",
       "    </tr>\n",
       "    <tr>\n",
       "      <th>12/31/2023 12:59:59 AM</th>\n",
       "      <td>NaN</td>\n",
       "      <td>1.0</td>\n",
       "    </tr>\n",
       "  </tbody>\n",
       "</table>\n",
       "<p>10270620 rows × 2 columns</p>\n",
       "</div>"
      ],
      "text/plain": [
       "                        arrivd_ts  closng_ts\n",
       "01/01/2023 01:00:00 PM        2.0        NaN\n",
       "01/01/2023 01:00:01 AM        NaN        1.0\n",
       "01/01/2023 01:00:02 PM        NaN        1.0\n",
       "01/01/2023 01:00:05 PM        1.0        NaN\n",
       "01/01/2023 01:00:06 PM        NaN        1.0\n",
       "...                           ...        ...\n",
       "12/31/2023 12:59:55 PM        NaN        2.0\n",
       "12/31/2023 12:59:56 AM        NaN        1.0\n",
       "12/31/2023 12:59:56 PM        1.0        NaN\n",
       "12/31/2023 12:59:58 AM        2.0        NaN\n",
       "12/31/2023 12:59:59 AM        NaN        1.0\n",
       "\n",
       "[10270620 rows x 2 columns]"
      ]
     },
     "execution_count": 11,
     "metadata": {},
     "output_type": "execute_result"
    }
   ],
   "source": [
    "# let check how the NaN cells are distributed\n",
    "df_nan = df[['arrivd_ts','closng_ts']]\n",
    "df_nan.apply(pd.Series.value_counts)"
   ]
  },
  {
   "cell_type": "code",
   "execution_count": 12,
   "metadata": {},
   "outputs": [],
   "source": [
    "# Convert the timestamp objects column to datetime \n",
    "# Note! There may be ambiguous date strings that may throw a dateutil warning. Ensure to use format parameter to overcome this. \n",
    "df['add_ts'] = pd.to_datetime(df['add_ts'], format='%m/%d/%Y %I:%M:%S %p', errors='coerce')\n",
    "df['disp_ts'] = pd.to_datetime(df['disp_ts'], format='%m/%d/%Y %I:%M:%S %p', errors='coerce')\n",
    "df['arrivd_ts'] = pd.to_datetime(df['arrivd_ts'], format='%m/%d/%Y %I:%M:%S %p', errors='coerce')\n",
    "df['closng_ts'] = pd.to_datetime(df['closng_ts'], format='%m/%d/%Y %I:%M:%S %p', errors='coerce')"
   ]
  },
  {
   "cell_type": "code",
   "execution_count": 13,
   "metadata": {},
   "outputs": [],
   "source": [
    "# Perform forward and backward fill to preserve the temporal order of observations, making them suitable for time series with consistent intervals.\n",
    "df['arrivd_ts'].ffill(inplace=True)\n",
    "df['arrivd_ts'].bfill(inplace=True)\n",
    "df['closng_ts'].ffill(inplace=True)\n",
    "df['closng_ts'].bfill(inplace=True)"
   ]
  },
  {
   "cell_type": "markdown",
   "metadata": {},
   "source": [
    "Now let's convert all the remaining time stamp columns to date time types"
   ]
  },
  {
   "cell_type": "code",
   "execution_count": 14,
   "metadata": {},
   "outputs": [],
   "source": [
    "# Convert create date, incident date, and incident time columns to datetime format, month, day, and year \n",
    "df['create_date'] = pd.to_datetime(df['create_date'], format='%m/%d/%Y')\n",
    "df['incident_date'] = pd.to_datetime(df['incident_date'], format='%m/%d/%Y')\n",
    "df['incident_time'] = pd.to_datetime(df['incident_time'], format='%H:%M:%S').dt.time"
   ]
  },
  {
   "cell_type": "code",
   "execution_count": 15,
   "metadata": {},
   "outputs": [],
   "source": [
    "# Extract day, day of week, month, year from incident_date column and assign them into different columns\n",
    "df['day_of_month'] = df['incident_date'].dt.day\n",
    "df['day_of_week'] = df['incident_date'].dt.day_name()\n",
    "df['month'] = df['incident_date'].dt.month_name()\n",
    "df['year'] = df['incident_date'].dt.year"
   ]
  },
  {
   "cell_type": "code",
   "execution_count": 35,
   "metadata": {},
   "outputs": [
    {
     "data": {
      "text/html": [
       "<div>\n",
       "<style scoped>\n",
       "    .dataframe tbody tr th:only-of-type {\n",
       "        vertical-align: middle;\n",
       "    }\n",
       "\n",
       "    .dataframe tbody tr th {\n",
       "        vertical-align: top;\n",
       "    }\n",
       "\n",
       "    .dataframe thead th {\n",
       "        text-align: right;\n",
       "    }\n",
       "</style>\n",
       "<table border=\"1\" class=\"dataframe\">\n",
       "  <thead>\n",
       "    <tr style=\"text-align: right;\">\n",
       "      <th></th>\n",
       "      <th>cad_evnt_id</th>\n",
       "      <th>create_date</th>\n",
       "      <th>incident_date</th>\n",
       "      <th>incident_time</th>\n",
       "      <th>nypd_pct_cd</th>\n",
       "      <th>boro_nm</th>\n",
       "      <th>geo_cd_x</th>\n",
       "      <th>geo_cd_y</th>\n",
       "      <th>radio_code</th>\n",
       "      <th>cip_jobs</th>\n",
       "      <th>add_ts</th>\n",
       "      <th>disp_ts</th>\n",
       "      <th>arrivd_ts</th>\n",
       "      <th>closng_ts</th>\n",
       "      <th>latitude</th>\n",
       "      <th>longitude</th>\n",
       "      <th>day_of_month</th>\n",
       "      <th>day_of_week</th>\n",
       "      <th>month</th>\n",
       "      <th>year</th>\n",
       "      <th>incident_type</th>\n",
       "      <th>incident_desc</th>\n",
       "      <th>neighborhood</th>\n",
       "      <th>response_time_mins</th>\n",
       "      <th>incident_duration</th>\n",
       "      <th>incident_datetime</th>\n",
       "    </tr>\n",
       "  </thead>\n",
       "  <tbody>\n",
       "    <tr>\n",
       "      <th>0</th>\n",
       "      <td>91250176</td>\n",
       "      <td>2023-01-01</td>\n",
       "      <td>2022-12-31</td>\n",
       "      <td>23:24:39</td>\n",
       "      <td>67.0</td>\n",
       "      <td>Brooklyn</td>\n",
       "      <td>1001878</td>\n",
       "      <td>175994</td>\n",
       "      <td>53I</td>\n",
       "      <td>Non CIP</td>\n",
       "      <td>2023-01-01 01:08:21</td>\n",
       "      <td>2023-01-01 01:09:57</td>\n",
       "      <td>2023-01-01 00:44:33</td>\n",
       "      <td>2023-01-01 01:57:44</td>\n",
       "      <td>40.649730</td>\n",
       "      <td>-73.936475</td>\n",
       "      <td>31</td>\n",
       "      <td>Saturday</td>\n",
       "      <td>December</td>\n",
       "      <td>2022</td>\n",
       "      <td>Vehicle Accident</td>\n",
       "      <td>Injury</td>\n",
       "      <td>Brooklyn South</td>\n",
       "      <td>-25.400000</td>\n",
       "      <td>0 days 01:13:11</td>\n",
       "      <td>2022-12-31 23:24:39</td>\n",
       "    </tr>\n",
       "    <tr>\n",
       "      <th>1</th>\n",
       "      <td>91250180</td>\n",
       "      <td>2023-01-01</td>\n",
       "      <td>2022-12-31</td>\n",
       "      <td>23:24:47</td>\n",
       "      <td>75.0</td>\n",
       "      <td>Brooklyn</td>\n",
       "      <td>1017204</td>\n",
       "      <td>180778</td>\n",
       "      <td>11C4</td>\n",
       "      <td>Non CIP</td>\n",
       "      <td>2023-01-01 00:38:00</td>\n",
       "      <td>2023-01-01 00:38:34</td>\n",
       "      <td>2023-01-01 00:44:33</td>\n",
       "      <td>2023-01-01 01:45:21</td>\n",
       "      <td>40.662817</td>\n",
       "      <td>-73.881221</td>\n",
       "      <td>31</td>\n",
       "      <td>Saturday</td>\n",
       "      <td>December</td>\n",
       "      <td>2022</td>\n",
       "      <td>Alarms</td>\n",
       "      <td>Commercial/Burglary</td>\n",
       "      <td>Brooklyn North</td>\n",
       "      <td>5.983333</td>\n",
       "      <td>0 days 01:00:48</td>\n",
       "      <td>2022-12-31 23:24:47</td>\n",
       "    </tr>\n",
       "    <tr>\n",
       "      <th>2</th>\n",
       "      <td>91250681</td>\n",
       "      <td>2023-01-01</td>\n",
       "      <td>2022-12-31</td>\n",
       "      <td>23:55:56</td>\n",
       "      <td>114.0</td>\n",
       "      <td>Queens</td>\n",
       "      <td>1008573</td>\n",
       "      <td>217117</td>\n",
       "      <td>11R4</td>\n",
       "      <td>Non CIP</td>\n",
       "      <td>2023-01-01 00:01:26</td>\n",
       "      <td>2023-01-01 00:06:18</td>\n",
       "      <td>2023-01-01 00:44:33</td>\n",
       "      <td>2023-01-01 00:06:27</td>\n",
       "      <td>40.762587</td>\n",
       "      <td>-73.912199</td>\n",
       "      <td>31</td>\n",
       "      <td>Saturday</td>\n",
       "      <td>December</td>\n",
       "      <td>2022</td>\n",
       "      <td>Alarms</td>\n",
       "      <td>Residential/Burglary</td>\n",
       "      <td>Queens North</td>\n",
       "      <td>38.250000</td>\n",
       "      <td>-1 days +23:21:54</td>\n",
       "      <td>2022-12-31 23:55:56</td>\n",
       "    </tr>\n",
       "    <tr>\n",
       "      <th>3</th>\n",
       "      <td>91250683</td>\n",
       "      <td>2023-01-01</td>\n",
       "      <td>2022-12-31</td>\n",
       "      <td>23:55:59</td>\n",
       "      <td>66.0</td>\n",
       "      <td>Brooklyn</td>\n",
       "      <td>993234</td>\n",
       "      <td>161780</td>\n",
       "      <td>11R4</td>\n",
       "      <td>Non CIP</td>\n",
       "      <td>2023-01-01 00:01:34</td>\n",
       "      <td>2023-01-01 00:37:14</td>\n",
       "      <td>2023-01-01 01:09:32</td>\n",
       "      <td>2023-01-01 01:21:14</td>\n",
       "      <td>40.610729</td>\n",
       "      <td>-73.967644</td>\n",
       "      <td>31</td>\n",
       "      <td>Saturday</td>\n",
       "      <td>December</td>\n",
       "      <td>2022</td>\n",
       "      <td>Alarms</td>\n",
       "      <td>Residential/Burglary</td>\n",
       "      <td>Brooklyn South</td>\n",
       "      <td>32.300000</td>\n",
       "      <td>0 days 00:11:42</td>\n",
       "      <td>2022-12-31 23:55:59</td>\n",
       "    </tr>\n",
       "    <tr>\n",
       "      <th>4</th>\n",
       "      <td>91250700</td>\n",
       "      <td>2023-01-01</td>\n",
       "      <td>2022-12-31</td>\n",
       "      <td>23:57:08</td>\n",
       "      <td>115.0</td>\n",
       "      <td>Queens</td>\n",
       "      <td>1014264</td>\n",
       "      <td>211852</td>\n",
       "      <td>11C4</td>\n",
       "      <td>Non CIP</td>\n",
       "      <td>2023-01-01 00:01:29</td>\n",
       "      <td>2023-01-01 00:14:28</td>\n",
       "      <td>2023-01-01 00:21:59</td>\n",
       "      <td>2023-01-01 01:24:22</td>\n",
       "      <td>40.748119</td>\n",
       "      <td>-73.891679</td>\n",
       "      <td>31</td>\n",
       "      <td>Saturday</td>\n",
       "      <td>December</td>\n",
       "      <td>2022</td>\n",
       "      <td>Alarms</td>\n",
       "      <td>Commercial/Burglary</td>\n",
       "      <td>Queens North</td>\n",
       "      <td>7.516667</td>\n",
       "      <td>0 days 01:02:23</td>\n",
       "      <td>2022-12-31 23:57:08</td>\n",
       "    </tr>\n",
       "  </tbody>\n",
       "</table>\n",
       "</div>"
      ],
      "text/plain": [
       "   cad_evnt_id create_date incident_date incident_time  nypd_pct_cd   boro_nm  \\\n",
       "0     91250176  2023-01-01    2022-12-31      23:24:39         67.0  Brooklyn   \n",
       "1     91250180  2023-01-01    2022-12-31      23:24:47         75.0  Brooklyn   \n",
       "2     91250681  2023-01-01    2022-12-31      23:55:56        114.0    Queens   \n",
       "3     91250683  2023-01-01    2022-12-31      23:55:59         66.0  Brooklyn   \n",
       "4     91250700  2023-01-01    2022-12-31      23:57:08        115.0    Queens   \n",
       "\n",
       "   geo_cd_x  geo_cd_y radio_code cip_jobs              add_ts  \\\n",
       "0   1001878    175994        53I  Non CIP 2023-01-01 01:08:21   \n",
       "1   1017204    180778       11C4  Non CIP 2023-01-01 00:38:00   \n",
       "2   1008573    217117       11R4  Non CIP 2023-01-01 00:01:26   \n",
       "3    993234    161780       11R4  Non CIP 2023-01-01 00:01:34   \n",
       "4   1014264    211852       11C4  Non CIP 2023-01-01 00:01:29   \n",
       "\n",
       "              disp_ts           arrivd_ts           closng_ts   latitude  \\\n",
       "0 2023-01-01 01:09:57 2023-01-01 00:44:33 2023-01-01 01:57:44  40.649730   \n",
       "1 2023-01-01 00:38:34 2023-01-01 00:44:33 2023-01-01 01:45:21  40.662817   \n",
       "2 2023-01-01 00:06:18 2023-01-01 00:44:33 2023-01-01 00:06:27  40.762587   \n",
       "3 2023-01-01 00:37:14 2023-01-01 01:09:32 2023-01-01 01:21:14  40.610729   \n",
       "4 2023-01-01 00:14:28 2023-01-01 00:21:59 2023-01-01 01:24:22  40.748119   \n",
       "\n",
       "   longitude  day_of_month day_of_week     month  year     incident_type  \\\n",
       "0 -73.936475            31    Saturday  December  2022  Vehicle Accident   \n",
       "1 -73.881221            31    Saturday  December  2022            Alarms   \n",
       "2 -73.912199            31    Saturday  December  2022            Alarms   \n",
       "3 -73.967644            31    Saturday  December  2022            Alarms   \n",
       "4 -73.891679            31    Saturday  December  2022            Alarms   \n",
       "\n",
       "          incident_desc    neighborhood  response_time_mins incident_duration  \\\n",
       "0                Injury  Brooklyn South          -25.400000   0 days 01:13:11   \n",
       "1   Commercial/Burglary  Brooklyn North            5.983333   0 days 01:00:48   \n",
       "2  Residential/Burglary    Queens North           38.250000 -1 days +23:21:54   \n",
       "3  Residential/Burglary  Brooklyn South           32.300000   0 days 00:11:42   \n",
       "4   Commercial/Burglary    Queens North            7.516667   0 days 01:02:23   \n",
       "\n",
       "    incident_datetime  \n",
       "0 2022-12-31 23:24:39  \n",
       "1 2022-12-31 23:24:47  \n",
       "2 2022-12-31 23:55:56  \n",
       "3 2022-12-31 23:55:59  \n",
       "4 2022-12-31 23:57:08  "
      ]
     },
     "execution_count": 35,
     "metadata": {},
     "output_type": "execute_result"
    }
   ],
   "source": [
    "pd.set_option('display.max.columns', None)\n",
    "df.head()"
   ]
  },
  {
   "cell_type": "markdown",
   "metadata": {},
   "source": [
    "Notice that the incident type and description (typ_desc) is a string object separated by ':' indicating the type of incident that occur and description. Hence, let's split the incident type and description into separate columns"
   ]
  },
  {
   "cell_type": "code",
   "execution_count": 17,
   "metadata": {},
   "outputs": [],
   "source": [
    "# Split the 'typ_desc' column by ':' and expand into separate columns based on the description of the type of incident \n",
    "df[['incident_type', 'incident_desc']] = df['typ_desc'].str.split(':', expand=True)\n",
    "\n",
    "# Use .str.strip() to remove any leading/trailing whitespace in the column\n",
    "df['incident_type'] = df['incident_type'].str.strip()\n",
    "df['incident_desc'] = df['incident_desc'].str.strip()\n",
    "df.drop(columns=['typ_desc'], inplace=True) # Drop 'typ_desc'"
   ]
  },
  {
   "cell_type": "code",
   "execution_count": 18,
   "metadata": {},
   "outputs": [],
   "source": [
    "# For readability purposes apply string title case to selected columns using a for loop\n",
    "col_titlecase = ['boro_nm','patrl_boro_nm','incident_type', 'incident_desc']\n",
    "for i in col_titlecase:\n",
    "    if i in df.columns:\n",
    "        df[i] = df[i].astype(str).str.title() # Check if the column exist to avoid errors"
   ]
  },
  {
   "cell_type": "markdown",
   "metadata": {},
   "source": [
    "For geographical distribution, correlation, pattern identification and comparative analysis that will help us compute  the frequency of incidents and response times across different regions namely **The Boroughs of New York** which comprise of five major governmental districts including, ***The Bronx, Brooklyn, Manhattan, Queens, and Staten Island***. Let's split these neighborhoods and incident description into new columns. See: [The Boroughs of New York](https://en.wikipedia.org/wiki/Boroughs_of_New_York_City)"
   ]
  },
  {
   "cell_type": "code",
   "execution_count": 19,
   "metadata": {},
   "outputs": [],
   "source": [
    "# Extract everything after \"Patrol Boro\" and assigning it to a new column named 'neighborhood'\n",
    "df['neighborhood'] = df['patrl_boro_nm'].str.extract('Patrol Boro (.*)')\n",
    "df.drop(columns=['patrl_boro_nm'], inplace=True) # Drop patrl_boro_nm"
   ]
  },
  {
   "cell_type": "code",
   "execution_count": 20,
   "metadata": {},
   "outputs": [],
   "source": [
    "# Replace neighborhoods values that are abbreviations with their full name\n",
    "df['neighborhood'] = df['neighborhood'].str.replace('Bklyn', 'Brooklyn').str.replace('Man', 'Manhattan')"
   ]
  },
  {
   "cell_type": "code",
   "execution_count": 21,
   "metadata": {},
   "outputs": [
    {
     "data": {
      "text/plain": [
       "neighborhood\n",
       "Bronx              1372403\n",
       "Brooklyn North     1060348\n",
       "Brooklyn South     1042241\n",
       "Manhattan South    1029134\n",
       "Manhattan North     984443\n",
       "Queens North        695478\n",
       "Queens South        603501\n",
       "Staten Island       262426\n",
       "Name: count, dtype: int64"
      ]
     },
     "execution_count": 21,
     "metadata": {},
     "output_type": "execute_result"
    }
   ],
   "source": [
    "# See updates neighborhood column\n",
    "df['neighborhood'].value_counts()"
   ]
  },
  {
   "cell_type": "code",
   "execution_count": 22,
   "metadata": {},
   "outputs": [],
   "source": [
    "# Calculate response time in minutes and assign into a new column\n",
    "df['response_time_mins'] = (df['arrivd_ts'] - df['disp_ts']).dt.total_seconds() / 60"
   ]
  },
  {
   "cell_type": "code",
   "execution_count": 23,
   "metadata": {},
   "outputs": [],
   "source": [
    "# Calculate incident duration and add it into a new column to provide insights into how long each incident last\n",
    "df['incident_duration'] = df['closng_ts'] - df['arrivd_ts']"
   ]
  },
  {
   "cell_type": "code",
   "execution_count": 24,
   "metadata": {},
   "outputs": [],
   "source": [
    "# Combine 'incident_date' and 'incident_time' for full datetime time-based calculations (like time differences, grouping by time of day, etc.)\n",
    "df['incident_datetime'] = pd.to_datetime(df['incident_date'].astype(str) + ' ' + df['incident_time'].astype(str))"
   ]
  },
  {
   "cell_type": "code",
   "execution_count": 25,
   "metadata": {},
   "outputs": [
    {
     "data": {
      "text/plain": [
       "cad_evnt_id                     int64\n",
       "create_date            datetime64[ns]\n",
       "incident_date          datetime64[ns]\n",
       "incident_time                  object\n",
       "nypd_pct_cd                   float64\n",
       "boro_nm                        object\n",
       "geo_cd_x                        int64\n",
       "geo_cd_y                        int64\n",
       "radio_code                     object\n",
       "cip_jobs                       object\n",
       "add_ts                 datetime64[ns]\n",
       "disp_ts                datetime64[ns]\n",
       "arrivd_ts              datetime64[ns]\n",
       "closng_ts              datetime64[ns]\n",
       "latitude                      float64\n",
       "longitude                     float64\n",
       "day_of_month                    int32\n",
       "day_of_week                    object\n",
       "month                          object\n",
       "year                            int32\n",
       "incident_type                  object\n",
       "incident_desc                  object\n",
       "neighborhood                   object\n",
       "response_time_mins            float64\n",
       "incident_duration     timedelta64[ns]\n",
       "incident_datetime      datetime64[ns]\n",
       "dtype: object"
      ]
     },
     "execution_count": 25,
     "metadata": {},
     "output_type": "execute_result"
    }
   ],
   "source": [
    "# Let take a look at the datatypes\n",
    "df.dtypes"
   ]
  },
  {
   "cell_type": "markdown",
   "metadata": {},
   "source": [
    "Now that we have restructured our data frame with relevant data types. Let's reposition the columns relative to each other to enhance readability before cleaning and exporting to csv for analysis"
   ]
  },
  {
   "cell_type": "code",
   "execution_count": 26,
   "metadata": {
    "scrolled": true
   },
   "outputs": [
    {
     "data": {
      "text/plain": [
       "Index(['cad_evnt_id', 'create_date', 'incident_date', 'incident_time',\n",
       "       'nypd_pct_cd', 'boro_nm', 'geo_cd_x', 'geo_cd_y', 'radio_code',\n",
       "       'cip_jobs', 'add_ts', 'disp_ts', 'arrivd_ts', 'closng_ts', 'latitude',\n",
       "       'longitude', 'day_of_month', 'day_of_week', 'month', 'year',\n",
       "       'incident_type', 'incident_desc', 'neighborhood', 'response_time_mins',\n",
       "       'incident_duration', 'incident_datetime'],\n",
       "      dtype='object')"
      ]
     },
     "execution_count": 26,
     "metadata": {},
     "output_type": "execute_result"
    }
   ],
   "source": [
    "# Preview columns \n",
    "df.columns"
   ]
  },
  {
   "cell_type": "code",
   "execution_count": 39,
   "metadata": {
    "scrolled": true
   },
   "outputs": [],
   "source": [
    "# Get rid of columns not required and rearrange dataframe into a new dataset\n",
    "df = df[['cad_evnt_id', 'create_date', 'incident_datetime', 'incident_type', 'incident_desc', 'cip_jobs', 'neighborhood', 'boro_nm', \n",
    "         'incident_duration', 'response_time_mins', 'disp_ts', 'arrivd_ts', 'add_ts', 'closng_ts', 'day_of_month', 'day_of_week', 'month', 'year',\n",
    "         'geo_cd_x', 'geo_cd_y', 'latitude', 'longitude']]\n",
    "       "
   ]
  },
  {
   "cell_type": "code",
   "execution_count": 40,
   "metadata": {},
   "outputs": [
    {
     "data": {
      "text/html": [
       "<div>\n",
       "<style scoped>\n",
       "    .dataframe tbody tr th:only-of-type {\n",
       "        vertical-align: middle;\n",
       "    }\n",
       "\n",
       "    .dataframe tbody tr th {\n",
       "        vertical-align: top;\n",
       "    }\n",
       "\n",
       "    .dataframe thead th {\n",
       "        text-align: right;\n",
       "    }\n",
       "</style>\n",
       "<table border=\"1\" class=\"dataframe\">\n",
       "  <thead>\n",
       "    <tr style=\"text-align: right;\">\n",
       "      <th></th>\n",
       "      <th>cad_evnt_id</th>\n",
       "      <th>create_date</th>\n",
       "      <th>incident_datetime</th>\n",
       "      <th>incident_type</th>\n",
       "      <th>incident_desc</th>\n",
       "      <th>cip_jobs</th>\n",
       "      <th>neighborhood</th>\n",
       "      <th>boro_nm</th>\n",
       "      <th>incident_duration</th>\n",
       "      <th>response_time_mins</th>\n",
       "      <th>disp_ts</th>\n",
       "      <th>arrivd_ts</th>\n",
       "      <th>add_ts</th>\n",
       "      <th>closng_ts</th>\n",
       "      <th>day_of_month</th>\n",
       "      <th>day_of_week</th>\n",
       "      <th>month</th>\n",
       "      <th>year</th>\n",
       "      <th>geo_cd_x</th>\n",
       "      <th>geo_cd_y</th>\n",
       "      <th>latitude</th>\n",
       "      <th>longitude</th>\n",
       "    </tr>\n",
       "  </thead>\n",
       "  <tbody>\n",
       "    <tr>\n",
       "      <th>0</th>\n",
       "      <td>91250176</td>\n",
       "      <td>2023-01-01</td>\n",
       "      <td>2022-12-31 23:24:39</td>\n",
       "      <td>Vehicle Accident</td>\n",
       "      <td>Injury</td>\n",
       "      <td>Non CIP</td>\n",
       "      <td>Brooklyn South</td>\n",
       "      <td>Brooklyn</td>\n",
       "      <td>0 days 01:13:11</td>\n",
       "      <td>-25.400000</td>\n",
       "      <td>2023-01-01 01:09:57</td>\n",
       "      <td>2023-01-01 00:44:33</td>\n",
       "      <td>2023-01-01 01:08:21</td>\n",
       "      <td>2023-01-01 01:57:44</td>\n",
       "      <td>31</td>\n",
       "      <td>Saturday</td>\n",
       "      <td>December</td>\n",
       "      <td>2022</td>\n",
       "      <td>1001878</td>\n",
       "      <td>175994</td>\n",
       "      <td>40.649730</td>\n",
       "      <td>-73.936475</td>\n",
       "    </tr>\n",
       "    <tr>\n",
       "      <th>1</th>\n",
       "      <td>91250180</td>\n",
       "      <td>2023-01-01</td>\n",
       "      <td>2022-12-31 23:24:47</td>\n",
       "      <td>Alarms</td>\n",
       "      <td>Commercial/Burglary</td>\n",
       "      <td>Non CIP</td>\n",
       "      <td>Brooklyn North</td>\n",
       "      <td>Brooklyn</td>\n",
       "      <td>0 days 01:00:48</td>\n",
       "      <td>5.983333</td>\n",
       "      <td>2023-01-01 00:38:34</td>\n",
       "      <td>2023-01-01 00:44:33</td>\n",
       "      <td>2023-01-01 00:38:00</td>\n",
       "      <td>2023-01-01 01:45:21</td>\n",
       "      <td>31</td>\n",
       "      <td>Saturday</td>\n",
       "      <td>December</td>\n",
       "      <td>2022</td>\n",
       "      <td>1017204</td>\n",
       "      <td>180778</td>\n",
       "      <td>40.662817</td>\n",
       "      <td>-73.881221</td>\n",
       "    </tr>\n",
       "    <tr>\n",
       "      <th>2</th>\n",
       "      <td>91250681</td>\n",
       "      <td>2023-01-01</td>\n",
       "      <td>2022-12-31 23:55:56</td>\n",
       "      <td>Alarms</td>\n",
       "      <td>Residential/Burglary</td>\n",
       "      <td>Non CIP</td>\n",
       "      <td>Queens North</td>\n",
       "      <td>Queens</td>\n",
       "      <td>-1 days +23:21:54</td>\n",
       "      <td>38.250000</td>\n",
       "      <td>2023-01-01 00:06:18</td>\n",
       "      <td>2023-01-01 00:44:33</td>\n",
       "      <td>2023-01-01 00:01:26</td>\n",
       "      <td>2023-01-01 00:06:27</td>\n",
       "      <td>31</td>\n",
       "      <td>Saturday</td>\n",
       "      <td>December</td>\n",
       "      <td>2022</td>\n",
       "      <td>1008573</td>\n",
       "      <td>217117</td>\n",
       "      <td>40.762587</td>\n",
       "      <td>-73.912199</td>\n",
       "    </tr>\n",
       "    <tr>\n",
       "      <th>3</th>\n",
       "      <td>91250683</td>\n",
       "      <td>2023-01-01</td>\n",
       "      <td>2022-12-31 23:55:59</td>\n",
       "      <td>Alarms</td>\n",
       "      <td>Residential/Burglary</td>\n",
       "      <td>Non CIP</td>\n",
       "      <td>Brooklyn South</td>\n",
       "      <td>Brooklyn</td>\n",
       "      <td>0 days 00:11:42</td>\n",
       "      <td>32.300000</td>\n",
       "      <td>2023-01-01 00:37:14</td>\n",
       "      <td>2023-01-01 01:09:32</td>\n",
       "      <td>2023-01-01 00:01:34</td>\n",
       "      <td>2023-01-01 01:21:14</td>\n",
       "      <td>31</td>\n",
       "      <td>Saturday</td>\n",
       "      <td>December</td>\n",
       "      <td>2022</td>\n",
       "      <td>993234</td>\n",
       "      <td>161780</td>\n",
       "      <td>40.610729</td>\n",
       "      <td>-73.967644</td>\n",
       "    </tr>\n",
       "    <tr>\n",
       "      <th>4</th>\n",
       "      <td>91250700</td>\n",
       "      <td>2023-01-01</td>\n",
       "      <td>2022-12-31 23:57:08</td>\n",
       "      <td>Alarms</td>\n",
       "      <td>Commercial/Burglary</td>\n",
       "      <td>Non CIP</td>\n",
       "      <td>Queens North</td>\n",
       "      <td>Queens</td>\n",
       "      <td>0 days 01:02:23</td>\n",
       "      <td>7.516667</td>\n",
       "      <td>2023-01-01 00:14:28</td>\n",
       "      <td>2023-01-01 00:21:59</td>\n",
       "      <td>2023-01-01 00:01:29</td>\n",
       "      <td>2023-01-01 01:24:22</td>\n",
       "      <td>31</td>\n",
       "      <td>Saturday</td>\n",
       "      <td>December</td>\n",
       "      <td>2022</td>\n",
       "      <td>1014264</td>\n",
       "      <td>211852</td>\n",
       "      <td>40.748119</td>\n",
       "      <td>-73.891679</td>\n",
       "    </tr>\n",
       "  </tbody>\n",
       "</table>\n",
       "</div>"
      ],
      "text/plain": [
       "   cad_evnt_id create_date   incident_datetime     incident_type  \\\n",
       "0     91250176  2023-01-01 2022-12-31 23:24:39  Vehicle Accident   \n",
       "1     91250180  2023-01-01 2022-12-31 23:24:47            Alarms   \n",
       "2     91250681  2023-01-01 2022-12-31 23:55:56            Alarms   \n",
       "3     91250683  2023-01-01 2022-12-31 23:55:59            Alarms   \n",
       "4     91250700  2023-01-01 2022-12-31 23:57:08            Alarms   \n",
       "\n",
       "          incident_desc cip_jobs    neighborhood   boro_nm incident_duration  \\\n",
       "0                Injury  Non CIP  Brooklyn South  Brooklyn   0 days 01:13:11   \n",
       "1   Commercial/Burglary  Non CIP  Brooklyn North  Brooklyn   0 days 01:00:48   \n",
       "2  Residential/Burglary  Non CIP    Queens North    Queens -1 days +23:21:54   \n",
       "3  Residential/Burglary  Non CIP  Brooklyn South  Brooklyn   0 days 00:11:42   \n",
       "4   Commercial/Burglary  Non CIP    Queens North    Queens   0 days 01:02:23   \n",
       "\n",
       "   response_time_mins             disp_ts           arrivd_ts  \\\n",
       "0          -25.400000 2023-01-01 01:09:57 2023-01-01 00:44:33   \n",
       "1            5.983333 2023-01-01 00:38:34 2023-01-01 00:44:33   \n",
       "2           38.250000 2023-01-01 00:06:18 2023-01-01 00:44:33   \n",
       "3           32.300000 2023-01-01 00:37:14 2023-01-01 01:09:32   \n",
       "4            7.516667 2023-01-01 00:14:28 2023-01-01 00:21:59   \n",
       "\n",
       "               add_ts           closng_ts  day_of_month day_of_week     month  \\\n",
       "0 2023-01-01 01:08:21 2023-01-01 01:57:44            31    Saturday  December   \n",
       "1 2023-01-01 00:38:00 2023-01-01 01:45:21            31    Saturday  December   \n",
       "2 2023-01-01 00:01:26 2023-01-01 00:06:27            31    Saturday  December   \n",
       "3 2023-01-01 00:01:34 2023-01-01 01:21:14            31    Saturday  December   \n",
       "4 2023-01-01 00:01:29 2023-01-01 01:24:22            31    Saturday  December   \n",
       "\n",
       "   year  geo_cd_x  geo_cd_y   latitude  longitude  \n",
       "0  2022   1001878    175994  40.649730 -73.936475  \n",
       "1  2022   1017204    180778  40.662817 -73.881221  \n",
       "2  2022   1008573    217117  40.762587 -73.912199  \n",
       "3  2022    993234    161780  40.610729 -73.967644  \n",
       "4  2022   1014264    211852  40.748119 -73.891679  "
      ]
     },
     "execution_count": 40,
     "metadata": {},
     "output_type": "execute_result"
    }
   ],
   "source": [
    "pd.set_option('display.max.columns', None)\n",
    "df.head()"
   ]
  },
  {
   "cell_type": "markdown",
   "metadata": {},
   "source": [
    "Validate geospatial data to ensure these values are within valid ranges (Latitude between -90 and 90, Longitude between -180 and 180). Outliers or incorrect values could indicate data entry errors."
   ]
  },
  {
   "cell_type": "code",
   "execution_count": 62,
   "metadata": {
    "scrolled": true
   },
   "outputs": [],
   "source": [
    "# Validate Latitude and Longitude\n",
    "df = df[(df['latitude'].between(-90, 90)) & (df['longitude'].between(-180, 180))]"
   ]
  },
  {
   "cell_type": "code",
   "execution_count": 46,
   "metadata": {
    "scrolled": true
   },
   "outputs": [
    {
     "data": {
      "text/plain": [
       "<Axes: xlabel='neighborhood'>"
      ]
     },
     "execution_count": 46,
     "metadata": {},
     "output_type": "execute_result"
    },
    {
     "data": {
      "image/png": "[encoded data removed]",
      "text/plain": [
       "<Figure size 640x480 with 1 Axes>"
      ]
     },
     "metadata": {},
     "output_type": "display_data"
    }
   ],
   "source": [
    "# Let's see the distribution of neighborhoods where most violations occured\n",
    "pd.DataFrame(df['neighborhood'].value_counts()).plot(kind='bar')\n"
   ]
  },
  {
   "cell_type": "code",
   "execution_count": 47,
   "metadata": {},
   "outputs": [
    {
     "data": {
      "text/plain": [
       "<Axes: xlabel='boro_nm'>"
      ]
     },
     "execution_count": 47,
     "metadata": {},
     "output_type": "execute_result"
    },
    {
     "data": {
      "image/png": "[encoded data removed]",
      "text/plain": [
       "<Figure size 640x480 with 1 Axes>"
      ]
     },
     "metadata": {},
     "output_type": "display_data"
    }
   ],
   "source": [
    "df[df['boro_nm'] !='null']['boro_nm'].value_counts().plot(kind='bar')"
   ]
  },
  {
   "cell_type": "code",
   "execution_count": 57,
   "metadata": {
    "scrolled": true
   },
   "outputs": [
    {
     "data": {
      "text/plain": [
       "<Axes: >"
      ]
     },
     "execution_count": 57,
     "metadata": {},
     "output_type": "execute_result"
    },
    {
     "data": {
      "image/png": "[encoded data removed]",
      "text/plain": [
       "<Figure size 2000x1000 with 1 Axes>"
      ]
     },
     "metadata": {},
     "output_type": "display_data"
    }
   ],
   "source": [
    "# Within these boroughs which neighborhood had the most call?\n",
    "df['neighborhood'].hist(bins=15, figsize=(20,10))"
   ]
  },
  {
   "cell_type": "code",
   "execution_count": 58,
   "metadata": {},
   "outputs": [
    {
     "name": "stdout",
     "output_type": "stream",
     "text": [
      "<class 'pandas.core.frame.DataFrame'>\n",
      "RangeIndex: 7050127 entries, 0 to 7050126\n",
      "Data columns (total 22 columns):\n",
      " #   Column              Dtype          \n",
      "---  ------              -----          \n",
      " 0   cad_evnt_id         int64          \n",
      " 1   create_date         datetime64[ns] \n",
      " 2   incident_datetime   datetime64[ns] \n",
      " 3   incident_type       object         \n",
      " 4   incident_desc       object         \n",
      " 5   cip_jobs            object         \n",
      " 6   neighborhood        object         \n",
      " 7   boro_nm             object         \n",
      " 8   incident_duration   timedelta64[ns]\n",
      " 9   response_time_mins  float64        \n",
      " 10  disp_ts             datetime64[ns] \n",
      " 11  arrivd_ts           datetime64[ns] \n",
      " 12  add_ts              datetime64[ns] \n",
      " 13  closng_ts           datetime64[ns] \n",
      " 14  day_of_month        int32          \n",
      " 15  day_of_week         object         \n",
      " 16  month               object         \n",
      " 17  year                int32          \n",
      " 18  geo_cd_x            int64          \n",
      " 19  geo_cd_y            int64          \n",
      " 20  latitude            float64        \n",
      " 21  longitude           float64        \n",
      "dtypes: datetime64[ns](6), float64(3), int32(2), int64(3), object(7), timedelta64[ns](1)\n",
      "memory usage: 1.1+ GB\n"
     ]
    }
   ],
   "source": [
    "df.info()"
   ]
  },
  {
   "cell_type": "code",
   "execution_count": 60,
   "metadata": {},
   "outputs": [
    {
     "data": {
      "text/plain": [
       "0"
      ]
     },
     "execution_count": 60,
     "metadata": {},
     "output_type": "execute_result"
    }
   ],
   "source": [
    "# Check for duplicate rows \n",
    "df.duplicated().sum()"
   ]
  },
  {
   "cell_type": "code",
   "execution_count": null,
   "metadata": {},
   "outputs": [],
   "source": [
    "# Export the cleaned DataFrame to a CSV file\n",
    "df.to_csv('/home/jupyter-raphrivers/Dataset/CLEANED/cleaned_df.csv', index=False)\n",
    "\n",
    "# `index=False` means the DataFrame's index will not be written to the file.\n",
    "# however if you want to include the index, you can set `index=True`."
   ]
  }
 ],
 "metadata": {
  "kernelspec": {
   "display_name": "Python 3 (ipykernel)",
   "language": "python",
   "name": "python3"
  },
  "language_info": {
   "codemirror_mode": {
    "name": "ipython",
    "version": 3
   },
   "file_extension": ".py",
   "mimetype": "text/x-python",
   "name": "python",
   "nbconvert_exporter": "python",
   "pygments_lexer": "ipython3",
   "version": "3.10.10"
  }
 },
 "nbformat": 4,
 "nbformat_minor": 4
}
