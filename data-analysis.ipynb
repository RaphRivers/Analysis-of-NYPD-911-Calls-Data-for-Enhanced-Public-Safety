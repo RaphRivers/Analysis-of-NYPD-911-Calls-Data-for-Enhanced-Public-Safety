{
 "cells": [
  {
   "cell_type": "markdown",
   "metadata": {},
   "source": [
    "# NYPD 911 Calls for Service EDA Project"
   ]
  },
  {
   "cell_type": "markdown",
   "metadata": {},
   "source": [
    "Data Source: [Data.gov](https://catalog.data.gov/dataset/nypd-calls-for-service) a non-federal dataset for public use. \n",
    "\n",
    "License: City of New York - NYC.gov [Terms of Use](https://www.nyc.gov/home/terms-of-use.page)"
   ]
  },
  {
   "cell_type": "markdown",
   "metadata": {},
   "source": [
    "## Data Collection and Setup"
   ]
  },
  {
   "cell_type": "markdown",
   "metadata": {},
   "source": [
    "Import required libraries "
   ]
  },
  {
   "cell_type": "code",
   "execution_count": 1,
   "metadata": {},
   "outputs": [],
   "source": [
    "import numpy as np\n",
    "import pandas as pd\n",
    "import seaborn as sns"
   ]
  },
  {
   "cell_type": "markdown",
   "metadata": {},
   "source": [
    "** Import visualization libraries and set %matplotlib inline. **"
   ]
  },
  {
   "cell_type": "code",
   "execution_count": 2,
   "metadata": {},
   "outputs": [],
   "source": [
    "import matplotlib.pyplot as plt\n",
    "%matplotlib inline"
   ]
  },
  {
   "cell_type": "markdown",
   "metadata": {},
   "source": [
    "Read in the dataset csv file as a dataframe called df"
   ]
  },
  {
   "cell_type": "code",
   "execution_count": 3,
   "metadata": {},
   "outputs": [
    {
     "data": {
      "text/plain": [
       "'/home/jupyter-raphrivers/NYPD-911-Calls-for-Service-2020-to-2023'"
      ]
     },
     "execution_count": 3,
     "metadata": {},
     "output_type": "execute_result"
    }
   ],
   "source": [
    "pwd"
   ]
  },
  {
   "cell_type": "code",
   "execution_count": 4,
   "metadata": {},
   "outputs": [],
   "source": [
    "df = pd.read_csv(\"/home/jupyter-raphrivers/NYPD-911-Calls-for-Service-2020-to-2023/raw data/NYPD_Calls_for_Service__Year_to_Date_.csv\") "
   ]
  },
  {
   "cell_type": "markdown",
   "metadata": {},
   "source": [
    "Check the info() of the df "
   ]
  },
  {
   "cell_type": "code",
   "execution_count": 5,
   "metadata": {},
   "outputs": [
    {
     "name": "stdout",
     "output_type": "stream",
     "text": [
      "<class 'pandas.core.frame.DataFrame'>\n",
      "RangeIndex: 7050127 entries, 0 to 7050126\n",
      "Data columns (total 18 columns):\n",
      " #   Column         Dtype  \n",
      "---  ------         -----  \n",
      " 0   CAD_EVNT_ID    int64  \n",
      " 1   CREATE_DATE    object \n",
      " 2   INCIDENT_DATE  object \n",
      " 3   INCIDENT_TIME  object \n",
      " 4   NYPD_PCT_CD    float64\n",
      " 5   BORO_NM        object \n",
      " 6   PATRL_BORO_NM  object \n",
      " 7   GEO_CD_X       int64  \n",
      " 8   GEO_CD_Y       int64  \n",
      " 9   RADIO_CODE     object \n",
      " 10  TYP_DESC       object \n",
      " 11  CIP_JOBS       object \n",
      " 12  ADD_TS         object \n",
      " 13  DISP_TS        object \n",
      " 14  ARRIVD_TS      object \n",
      " 15  CLOSNG_TS      object \n",
      " 16  Latitude       float64\n",
      " 17  Longitude      float64\n",
      "dtypes: float64(3), int64(3), object(12)\n",
      "memory usage: 968.2+ MB\n"
     ]
    }
   ],
   "source": [
    "df.info()"
   ]
  },
  {
   "cell_type": "markdown",
   "metadata": {},
   "source": [
    "Check the head of df"
   ]
  },
  {
   "cell_type": "code",
   "execution_count": 6,
   "metadata": {},
   "outputs": [
    {
     "data": {
      "text/html": [
       "<div>\n",
       "<style scoped>\n",
       "    .dataframe tbody tr th:only-of-type {\n",
       "        vertical-align: middle;\n",
       "    }\n",
       "\n",
       "    .dataframe tbody tr th {\n",
       "        vertical-align: top;\n",
       "    }\n",
       "\n",
       "    .dataframe thead th {\n",
       "        text-align: right;\n",
       "    }\n",
       "</style>\n",
       "<table border=\"1\" class=\"dataframe\">\n",
       "  <thead>\n",
       "    <tr style=\"text-align: right;\">\n",
       "      <th></th>\n",
       "      <th>CAD_EVNT_ID</th>\n",
       "      <th>CREATE_DATE</th>\n",
       "      <th>INCIDENT_DATE</th>\n",
       "      <th>INCIDENT_TIME</th>\n",
       "      <th>NYPD_PCT_CD</th>\n",
       "      <th>BORO_NM</th>\n",
       "      <th>PATRL_BORO_NM</th>\n",
       "      <th>GEO_CD_X</th>\n",
       "      <th>GEO_CD_Y</th>\n",
       "      <th>RADIO_CODE</th>\n",
       "      <th>TYP_DESC</th>\n",
       "      <th>CIP_JOBS</th>\n",
       "      <th>ADD_TS</th>\n",
       "      <th>DISP_TS</th>\n",
       "      <th>ARRIVD_TS</th>\n",
       "      <th>CLOSNG_TS</th>\n",
       "      <th>Latitude</th>\n",
       "      <th>Longitude</th>\n",
       "    </tr>\n",
       "  </thead>\n",
       "  <tbody>\n",
       "    <tr>\n",
       "      <th>0</th>\n",
       "      <td>91250176</td>\n",
       "      <td>01/01/2023</td>\n",
       "      <td>12/31/2022</td>\n",
       "      <td>23:24:39</td>\n",
       "      <td>67.0</td>\n",
       "      <td>BROOKLYN</td>\n",
       "      <td>PATROL BORO BKLYN SOUTH</td>\n",
       "      <td>1001878</td>\n",
       "      <td>175994</td>\n",
       "      <td>53I</td>\n",
       "      <td>VEHICLE ACCIDENT: INJURY</td>\n",
       "      <td>Non CIP</td>\n",
       "      <td>01/01/2023 01:08:21 AM</td>\n",
       "      <td>01/01/2023 01:09:57 AM</td>\n",
       "      <td>NaN</td>\n",
       "      <td>01/01/2023 01:57:44 AM</td>\n",
       "      <td>40.649730</td>\n",
       "      <td>-73.936475</td>\n",
       "    </tr>\n",
       "    <tr>\n",
       "      <th>1</th>\n",
       "      <td>91250180</td>\n",
       "      <td>01/01/2023</td>\n",
       "      <td>12/31/2022</td>\n",
       "      <td>23:24:47</td>\n",
       "      <td>75.0</td>\n",
       "      <td>BROOKLYN</td>\n",
       "      <td>PATROL BORO BKLYN NORTH</td>\n",
       "      <td>1017204</td>\n",
       "      <td>180778</td>\n",
       "      <td>11C4</td>\n",
       "      <td>ALARMS: COMMERCIAL/BURGLARY</td>\n",
       "      <td>Non CIP</td>\n",
       "      <td>01/01/2023 12:38:00 AM</td>\n",
       "      <td>01/01/2023 12:38:34 AM</td>\n",
       "      <td>01/01/2023 12:44:33 AM</td>\n",
       "      <td>01/01/2023 01:45:21 AM</td>\n",
       "      <td>40.662817</td>\n",
       "      <td>-73.881221</td>\n",
       "    </tr>\n",
       "    <tr>\n",
       "      <th>2</th>\n",
       "      <td>91250681</td>\n",
       "      <td>01/01/2023</td>\n",
       "      <td>12/31/2022</td>\n",
       "      <td>23:55:56</td>\n",
       "      <td>114.0</td>\n",
       "      <td>QUEENS</td>\n",
       "      <td>PATROL BORO QUEENS NORTH</td>\n",
       "      <td>1008573</td>\n",
       "      <td>217117</td>\n",
       "      <td>11R4</td>\n",
       "      <td>ALARMS: RESIDENTIAL/BURGLARY</td>\n",
       "      <td>Non CIP</td>\n",
       "      <td>01/01/2023 12:01:26 AM</td>\n",
       "      <td>01/01/2023 12:06:18 AM</td>\n",
       "      <td>NaN</td>\n",
       "      <td>01/01/2023 12:06:27 AM</td>\n",
       "      <td>40.762587</td>\n",
       "      <td>-73.912199</td>\n",
       "    </tr>\n",
       "    <tr>\n",
       "      <th>3</th>\n",
       "      <td>91250683</td>\n",
       "      <td>01/01/2023</td>\n",
       "      <td>12/31/2022</td>\n",
       "      <td>23:55:59</td>\n",
       "      <td>66.0</td>\n",
       "      <td>BROOKLYN</td>\n",
       "      <td>PATROL BORO BKLYN SOUTH</td>\n",
       "      <td>993234</td>\n",
       "      <td>161780</td>\n",
       "      <td>11R4</td>\n",
       "      <td>ALARMS: RESIDENTIAL/BURGLARY</td>\n",
       "      <td>Non CIP</td>\n",
       "      <td>01/01/2023 12:01:34 AM</td>\n",
       "      <td>01/01/2023 12:37:14 AM</td>\n",
       "      <td>01/01/2023 01:09:32 AM</td>\n",
       "      <td>01/01/2023 01:21:14 AM</td>\n",
       "      <td>40.610729</td>\n",
       "      <td>-73.967644</td>\n",
       "    </tr>\n",
       "    <tr>\n",
       "      <th>4</th>\n",
       "      <td>91250700</td>\n",
       "      <td>01/01/2023</td>\n",
       "      <td>12/31/2022</td>\n",
       "      <td>23:57:08</td>\n",
       "      <td>115.0</td>\n",
       "      <td>QUEENS</td>\n",
       "      <td>PATROL BORO QUEENS NORTH</td>\n",
       "      <td>1014264</td>\n",
       "      <td>211852</td>\n",
       "      <td>11C4</td>\n",
       "      <td>ALARMS: COMMERCIAL/BURGLARY</td>\n",
       "      <td>Non CIP</td>\n",
       "      <td>01/01/2023 12:01:29 AM</td>\n",
       "      <td>01/01/2023 12:14:28 AM</td>\n",
       "      <td>01/01/2023 12:21:59 AM</td>\n",
       "      <td>01/01/2023 01:24:22 AM</td>\n",
       "      <td>40.748119</td>\n",
       "      <td>-73.891679</td>\n",
       "    </tr>\n",
       "  </tbody>\n",
       "</table>\n",
       "</div>"
      ],
      "text/plain": [
       "   CAD_EVNT_ID CREATE_DATE INCIDENT_DATE INCIDENT_TIME  NYPD_PCT_CD   BORO_NM  \\\n",
       "0     91250176  01/01/2023    12/31/2022      23:24:39         67.0  BROOKLYN   \n",
       "1     91250180  01/01/2023    12/31/2022      23:24:47         75.0  BROOKLYN   \n",
       "2     91250681  01/01/2023    12/31/2022      23:55:56        114.0    QUEENS   \n",
       "3     91250683  01/01/2023    12/31/2022      23:55:59         66.0  BROOKLYN   \n",
       "4     91250700  01/01/2023    12/31/2022      23:57:08        115.0    QUEENS   \n",
       "\n",
       "              PATRL_BORO_NM  GEO_CD_X  GEO_CD_Y RADIO_CODE  \\\n",
       "0   PATROL BORO BKLYN SOUTH   1001878    175994        53I   \n",
       "1   PATROL BORO BKLYN NORTH   1017204    180778       11C4   \n",
       "2  PATROL BORO QUEENS NORTH   1008573    217117       11R4   \n",
       "3   PATROL BORO BKLYN SOUTH    993234    161780       11R4   \n",
       "4  PATROL BORO QUEENS NORTH   1014264    211852       11C4   \n",
       "\n",
       "                       TYP_DESC CIP_JOBS                  ADD_TS  \\\n",
       "0      VEHICLE ACCIDENT: INJURY  Non CIP  01/01/2023 01:08:21 AM   \n",
       "1   ALARMS: COMMERCIAL/BURGLARY  Non CIP  01/01/2023 12:38:00 AM   \n",
       "2  ALARMS: RESIDENTIAL/BURGLARY  Non CIP  01/01/2023 12:01:26 AM   \n",
       "3  ALARMS: RESIDENTIAL/BURGLARY  Non CIP  01/01/2023 12:01:34 AM   \n",
       "4   ALARMS: COMMERCIAL/BURGLARY  Non CIP  01/01/2023 12:01:29 AM   \n",
       "\n",
       "                  DISP_TS               ARRIVD_TS               CLOSNG_TS  \\\n",
       "0  01/01/2023 01:09:57 AM                     NaN  01/01/2023 01:57:44 AM   \n",
       "1  01/01/2023 12:38:34 AM  01/01/2023 12:44:33 AM  01/01/2023 01:45:21 AM   \n",
       "2  01/01/2023 12:06:18 AM                     NaN  01/01/2023 12:06:27 AM   \n",
       "3  01/01/2023 12:37:14 AM  01/01/2023 01:09:32 AM  01/01/2023 01:21:14 AM   \n",
       "4  01/01/2023 12:14:28 AM  01/01/2023 12:21:59 AM  01/01/2023 01:24:22 AM   \n",
       "\n",
       "    Latitude  Longitude  \n",
       "0  40.649730 -73.936475  \n",
       "1  40.662817 -73.881221  \n",
       "2  40.762587 -73.912199  \n",
       "3  40.610729 -73.967644  \n",
       "4  40.748119 -73.891679  "
      ]
     },
     "execution_count": 6,
     "metadata": {},
     "output_type": "execute_result"
    }
   ],
   "source": [
    "df.head()"
   ]
  },
  {
   "cell_type": "code",
   "execution_count": 7,
   "metadata": {
    "scrolled": true
   },
   "outputs": [
    {
     "data": {
      "text/html": [
       "<div>\n",
       "<style scoped>\n",
       "    .dataframe tbody tr th:only-of-type {\n",
       "        vertical-align: middle;\n",
       "    }\n",
       "\n",
       "    .dataframe tbody tr th {\n",
       "        vertical-align: top;\n",
       "    }\n",
       "\n",
       "    .dataframe thead th {\n",
       "        text-align: right;\n",
       "    }\n",
       "</style>\n",
       "<table border=\"1\" class=\"dataframe\">\n",
       "  <thead>\n",
       "    <tr style=\"text-align: right;\">\n",
       "      <th></th>\n",
       "      <th>CAD_EVNT_ID</th>\n",
       "      <th>CREATE_DATE</th>\n",
       "      <th>INCIDENT_DATE</th>\n",
       "      <th>INCIDENT_TIME</th>\n",
       "      <th>NYPD_PCT_CD</th>\n",
       "      <th>BORO_NM</th>\n",
       "      <th>PATRL_BORO_NM</th>\n",
       "      <th>GEO_CD_X</th>\n",
       "      <th>GEO_CD_Y</th>\n",
       "      <th>RADIO_CODE</th>\n",
       "      <th>TYP_DESC</th>\n",
       "      <th>CIP_JOBS</th>\n",
       "      <th>ADD_TS</th>\n",
       "      <th>DISP_TS</th>\n",
       "      <th>ARRIVD_TS</th>\n",
       "      <th>CLOSNG_TS</th>\n",
       "      <th>Latitude</th>\n",
       "      <th>Longitude</th>\n",
       "    </tr>\n",
       "  </thead>\n",
       "  <tbody>\n",
       "    <tr>\n",
       "      <th>1</th>\n",
       "      <td>91250180</td>\n",
       "      <td>01/01/2023</td>\n",
       "      <td>12/31/2022</td>\n",
       "      <td>23:24:47</td>\n",
       "      <td>75.0</td>\n",
       "      <td>BROOKLYN</td>\n",
       "      <td>PATROL BORO BKLYN NORTH</td>\n",
       "      <td>1017204</td>\n",
       "      <td>180778</td>\n",
       "      <td>11C4</td>\n",
       "      <td>ALARMS: COMMERCIAL/BURGLARY</td>\n",
       "      <td>Non CIP</td>\n",
       "      <td>01/01/2023 12:38:00 AM</td>\n",
       "      <td>01/01/2023 12:38:34 AM</td>\n",
       "      <td>01/01/2023 12:44:33 AM</td>\n",
       "      <td>01/01/2023 01:45:21 AM</td>\n",
       "      <td>40.662817</td>\n",
       "      <td>-73.881221</td>\n",
       "    </tr>\n",
       "    <tr>\n",
       "      <th>3</th>\n",
       "      <td>91250683</td>\n",
       "      <td>01/01/2023</td>\n",
       "      <td>12/31/2022</td>\n",
       "      <td>23:55:59</td>\n",
       "      <td>66.0</td>\n",
       "      <td>BROOKLYN</td>\n",
       "      <td>PATROL BORO BKLYN SOUTH</td>\n",
       "      <td>993234</td>\n",
       "      <td>161780</td>\n",
       "      <td>11R4</td>\n",
       "      <td>ALARMS: RESIDENTIAL/BURGLARY</td>\n",
       "      <td>Non CIP</td>\n",
       "      <td>01/01/2023 12:01:34 AM</td>\n",
       "      <td>01/01/2023 12:37:14 AM</td>\n",
       "      <td>01/01/2023 01:09:32 AM</td>\n",
       "      <td>01/01/2023 01:21:14 AM</td>\n",
       "      <td>40.610729</td>\n",
       "      <td>-73.967644</td>\n",
       "    </tr>\n",
       "    <tr>\n",
       "      <th>4</th>\n",
       "      <td>91250700</td>\n",
       "      <td>01/01/2023</td>\n",
       "      <td>12/31/2022</td>\n",
       "      <td>23:57:08</td>\n",
       "      <td>115.0</td>\n",
       "      <td>QUEENS</td>\n",
       "      <td>PATROL BORO QUEENS NORTH</td>\n",
       "      <td>1014264</td>\n",
       "      <td>211852</td>\n",
       "      <td>11C4</td>\n",
       "      <td>ALARMS: COMMERCIAL/BURGLARY</td>\n",
       "      <td>Non CIP</td>\n",
       "      <td>01/01/2023 12:01:29 AM</td>\n",
       "      <td>01/01/2023 12:14:28 AM</td>\n",
       "      <td>01/01/2023 12:21:59 AM</td>\n",
       "      <td>01/01/2023 01:24:22 AM</td>\n",
       "      <td>40.748119</td>\n",
       "      <td>-73.891679</td>\n",
       "    </tr>\n",
       "    <tr>\n",
       "      <th>9</th>\n",
       "      <td>91250748</td>\n",
       "      <td>01/01/2023</td>\n",
       "      <td>01/01/2023</td>\n",
       "      <td>00:00:40</td>\n",
       "      <td>41.0</td>\n",
       "      <td>BRONX</td>\n",
       "      <td>PATROL BORO BRONX</td>\n",
       "      <td>1013880</td>\n",
       "      <td>240034</td>\n",
       "      <td>75S</td>\n",
       "      <td>STATION INSPECTION BY TRANSIT BUREAU PERSONNEL</td>\n",
       "      <td>Non CIP</td>\n",
       "      <td>01/01/2023 12:00:40 AM</td>\n",
       "      <td>01/01/2023 12:00:40 AM</td>\n",
       "      <td>01/01/2023 12:00:40 AM</td>\n",
       "      <td>01/01/2023 12:24:04 AM</td>\n",
       "      <td>40.825472</td>\n",
       "      <td>-73.892941</td>\n",
       "    </tr>\n",
       "    <tr>\n",
       "      <th>10</th>\n",
       "      <td>91250749</td>\n",
       "      <td>01/01/2023</td>\n",
       "      <td>01/01/2023</td>\n",
       "      <td>00:00:42</td>\n",
       "      <td>24.0</td>\n",
       "      <td>MANHATTAN</td>\n",
       "      <td>PATROL BORO MAN NORTH</td>\n",
       "      <td>991834</td>\n",
       "      <td>228448</td>\n",
       "      <td>50P1</td>\n",
       "      <td>DISORDERLY: PERSON/INSIDE</td>\n",
       "      <td>Non CIP</td>\n",
       "      <td>01/01/2023 12:00:42 AM</td>\n",
       "      <td>01/01/2023 12:09:54 AM</td>\n",
       "      <td>01/01/2023 12:15:54 AM</td>\n",
       "      <td>01/01/2023 12:17:38 AM</td>\n",
       "      <td>40.793718</td>\n",
       "      <td>-73.972612</td>\n",
       "    </tr>\n",
       "    <tr>\n",
       "      <th>...</th>\n",
       "      <td>...</td>\n",
       "      <td>...</td>\n",
       "      <td>...</td>\n",
       "      <td>...</td>\n",
       "      <td>...</td>\n",
       "      <td>...</td>\n",
       "      <td>...</td>\n",
       "      <td>...</td>\n",
       "      <td>...</td>\n",
       "      <td>...</td>\n",
       "      <td>...</td>\n",
       "      <td>...</td>\n",
       "      <td>...</td>\n",
       "      <td>...</td>\n",
       "      <td>...</td>\n",
       "      <td>...</td>\n",
       "      <td>...</td>\n",
       "      <td>...</td>\n",
       "    </tr>\n",
       "    <tr>\n",
       "      <th>7050120</th>\n",
       "      <td>99844051</td>\n",
       "      <td>12/31/2023</td>\n",
       "      <td>12/31/2023</td>\n",
       "      <td>23:59:04</td>\n",
       "      <td>114.0</td>\n",
       "      <td>QUEENS</td>\n",
       "      <td>PATROL BORO QUEENS NORTH</td>\n",
       "      <td>1002279</td>\n",
       "      <td>222019</td>\n",
       "      <td>39H1</td>\n",
       "      <td>OTHER CRIMES (IN PROGRESS): HARASSMENT/INSIDE</td>\n",
       "      <td>Non Critical</td>\n",
       "      <td>12/31/2023 11:59:04 PM</td>\n",
       "      <td>01/01/2024 12:01:41 AM</td>\n",
       "      <td>01/01/2024 04:20:18 AM</td>\n",
       "      <td>01/01/2024 06:34:49 AM</td>\n",
       "      <td>40.776057</td>\n",
       "      <td>-73.934906</td>\n",
       "    </tr>\n",
       "    <tr>\n",
       "      <th>7050122</th>\n",
       "      <td>99844053</td>\n",
       "      <td>12/31/2023</td>\n",
       "      <td>12/31/2023</td>\n",
       "      <td>23:59:06</td>\n",
       "      <td>10.0</td>\n",
       "      <td>MANHATTAN</td>\n",
       "      <td>PATROL BORO MAN SOUTH</td>\n",
       "      <td>986426</td>\n",
       "      <td>214907</td>\n",
       "      <td>30Q2</td>\n",
       "      <td>ROBBERY (IN PROGRESS): OTHER/OUTSIDE</td>\n",
       "      <td>Critical</td>\n",
       "      <td>12/31/2023 11:59:06 PM</td>\n",
       "      <td>01/01/2024 12:00:04 AM</td>\n",
       "      <td>01/01/2024 12:25:46 AM</td>\n",
       "      <td>01/01/2024 07:17:52 AM</td>\n",
       "      <td>40.756555</td>\n",
       "      <td>-73.992147</td>\n",
       "    </tr>\n",
       "    <tr>\n",
       "      <th>7050123</th>\n",
       "      <td>99844054</td>\n",
       "      <td>12/31/2023</td>\n",
       "      <td>12/31/2023</td>\n",
       "      <td>23:59:06</td>\n",
       "      <td>114.0</td>\n",
       "      <td>QUEENS</td>\n",
       "      <td>PATROL BORO QUEENS NORTH</td>\n",
       "      <td>1000362</td>\n",
       "      <td>215109</td>\n",
       "      <td>75D</td>\n",
       "      <td>VISIBILITY PATROL: DIRECTED</td>\n",
       "      <td>Non CIP</td>\n",
       "      <td>12/31/2023 11:59:06 PM</td>\n",
       "      <td>12/31/2023 11:59:06 PM</td>\n",
       "      <td>12/31/2023 11:59:06 PM</td>\n",
       "      <td>01/01/2024 05:16:22 AM</td>\n",
       "      <td>40.757095</td>\n",
       "      <td>-73.941844</td>\n",
       "    </tr>\n",
       "    <tr>\n",
       "      <th>7050124</th>\n",
       "      <td>99844058</td>\n",
       "      <td>12/31/2023</td>\n",
       "      <td>12/31/2023</td>\n",
       "      <td>23:59:21</td>\n",
       "      <td>94.0</td>\n",
       "      <td>BROOKLYN</td>\n",
       "      <td>PATROL BORO BKLYN NORTH</td>\n",
       "      <td>998365</td>\n",
       "      <td>200621</td>\n",
       "      <td>10H1</td>\n",
       "      <td>INVESTIGATE/POSSIBLE CRIME: CALLS FOR HELP/INSIDE</td>\n",
       "      <td>Non CIP</td>\n",
       "      <td>12/31/2023 11:59:21 PM</td>\n",
       "      <td>01/01/2024 12:24:28 AM</td>\n",
       "      <td>01/01/2024 02:16:36 AM</td>\n",
       "      <td>01/01/2024 02:18:06 AM</td>\n",
       "      <td>40.717332</td>\n",
       "      <td>-73.949083</td>\n",
       "    </tr>\n",
       "    <tr>\n",
       "      <th>7050125</th>\n",
       "      <td>99844059</td>\n",
       "      <td>12/31/2023</td>\n",
       "      <td>12/31/2023</td>\n",
       "      <td>23:59:29</td>\n",
       "      <td>13.0</td>\n",
       "      <td>MANHATTAN</td>\n",
       "      <td>PATROL BORO MAN SOUTH</td>\n",
       "      <td>987981</td>\n",
       "      <td>208816</td>\n",
       "      <td>50P9</td>\n",
       "      <td>DISORDERLY: PERSON/TRANSIT</td>\n",
       "      <td>Non CIP</td>\n",
       "      <td>12/31/2023 11:59:29 PM</td>\n",
       "      <td>01/01/2024 12:05:38 AM</td>\n",
       "      <td>01/01/2024 12:30:08 AM</td>\n",
       "      <td>01/01/2024 12:30:14 AM</td>\n",
       "      <td>40.739836</td>\n",
       "      <td>-73.986538</td>\n",
       "    </tr>\n",
       "  </tbody>\n",
       "</table>\n",
       "<p>5546976 rows × 18 columns</p>\n",
       "</div>"
      ],
      "text/plain": [
       "         CAD_EVNT_ID CREATE_DATE INCIDENT_DATE INCIDENT_TIME  NYPD_PCT_CD  \\\n",
       "1           91250180  01/01/2023    12/31/2022      23:24:47         75.0   \n",
       "3           91250683  01/01/2023    12/31/2022      23:55:59         66.0   \n",
       "4           91250700  01/01/2023    12/31/2022      23:57:08        115.0   \n",
       "9           91250748  01/01/2023    01/01/2023      00:00:40         41.0   \n",
       "10          91250749  01/01/2023    01/01/2023      00:00:42         24.0   \n",
       "...              ...         ...           ...           ...          ...   \n",
       "7050120     99844051  12/31/2023    12/31/2023      23:59:04        114.0   \n",
       "7050122     99844053  12/31/2023    12/31/2023      23:59:06         10.0   \n",
       "7050123     99844054  12/31/2023    12/31/2023      23:59:06        114.0   \n",
       "7050124     99844058  12/31/2023    12/31/2023      23:59:21         94.0   \n",
       "7050125     99844059  12/31/2023    12/31/2023      23:59:29         13.0   \n",
       "\n",
       "           BORO_NM             PATRL_BORO_NM  GEO_CD_X  GEO_CD_Y RADIO_CODE  \\\n",
       "1         BROOKLYN   PATROL BORO BKLYN NORTH   1017204    180778       11C4   \n",
       "3         BROOKLYN   PATROL BORO BKLYN SOUTH    993234    161780       11R4   \n",
       "4           QUEENS  PATROL BORO QUEENS NORTH   1014264    211852       11C4   \n",
       "9            BRONX         PATROL BORO BRONX   1013880    240034        75S   \n",
       "10       MANHATTAN     PATROL BORO MAN NORTH    991834    228448       50P1   \n",
       "...            ...                       ...       ...       ...        ...   \n",
       "7050120     QUEENS  PATROL BORO QUEENS NORTH   1002279    222019       39H1   \n",
       "7050122  MANHATTAN     PATROL BORO MAN SOUTH    986426    214907       30Q2   \n",
       "7050123     QUEENS  PATROL BORO QUEENS NORTH   1000362    215109        75D   \n",
       "7050124   BROOKLYN   PATROL BORO BKLYN NORTH    998365    200621       10H1   \n",
       "7050125  MANHATTAN     PATROL BORO MAN SOUTH    987981    208816       50P9   \n",
       "\n",
       "                                                  TYP_DESC      CIP_JOBS  \\\n",
       "1                              ALARMS: COMMERCIAL/BURGLARY       Non CIP   \n",
       "3                             ALARMS: RESIDENTIAL/BURGLARY       Non CIP   \n",
       "4                              ALARMS: COMMERCIAL/BURGLARY       Non CIP   \n",
       "9           STATION INSPECTION BY TRANSIT BUREAU PERSONNEL       Non CIP   \n",
       "10                               DISORDERLY: PERSON/INSIDE       Non CIP   \n",
       "...                                                    ...           ...   \n",
       "7050120      OTHER CRIMES (IN PROGRESS): HARASSMENT/INSIDE  Non Critical   \n",
       "7050122               ROBBERY (IN PROGRESS): OTHER/OUTSIDE      Critical   \n",
       "7050123                        VISIBILITY PATROL: DIRECTED       Non CIP   \n",
       "7050124  INVESTIGATE/POSSIBLE CRIME: CALLS FOR HELP/INSIDE       Non CIP   \n",
       "7050125                         DISORDERLY: PERSON/TRANSIT       Non CIP   \n",
       "\n",
       "                         ADD_TS                 DISP_TS  \\\n",
       "1        01/01/2023 12:38:00 AM  01/01/2023 12:38:34 AM   \n",
       "3        01/01/2023 12:01:34 AM  01/01/2023 12:37:14 AM   \n",
       "4        01/01/2023 12:01:29 AM  01/01/2023 12:14:28 AM   \n",
       "9        01/01/2023 12:00:40 AM  01/01/2023 12:00:40 AM   \n",
       "10       01/01/2023 12:00:42 AM  01/01/2023 12:09:54 AM   \n",
       "...                         ...                     ...   \n",
       "7050120  12/31/2023 11:59:04 PM  01/01/2024 12:01:41 AM   \n",
       "7050122  12/31/2023 11:59:06 PM  01/01/2024 12:00:04 AM   \n",
       "7050123  12/31/2023 11:59:06 PM  12/31/2023 11:59:06 PM   \n",
       "7050124  12/31/2023 11:59:21 PM  01/01/2024 12:24:28 AM   \n",
       "7050125  12/31/2023 11:59:29 PM  01/01/2024 12:05:38 AM   \n",
       "\n",
       "                      ARRIVD_TS               CLOSNG_TS   Latitude  Longitude  \n",
       "1        01/01/2023 12:44:33 AM  01/01/2023 01:45:21 AM  40.662817 -73.881221  \n",
       "3        01/01/2023 01:09:32 AM  01/01/2023 01:21:14 AM  40.610729 -73.967644  \n",
       "4        01/01/2023 12:21:59 AM  01/01/2023 01:24:22 AM  40.748119 -73.891679  \n",
       "9        01/01/2023 12:00:40 AM  01/01/2023 12:24:04 AM  40.825472 -73.892941  \n",
       "10       01/01/2023 12:15:54 AM  01/01/2023 12:17:38 AM  40.793718 -73.972612  \n",
       "...                         ...                     ...        ...        ...  \n",
       "7050120  01/01/2024 04:20:18 AM  01/01/2024 06:34:49 AM  40.776057 -73.934906  \n",
       "7050122  01/01/2024 12:25:46 AM  01/01/2024 07:17:52 AM  40.756555 -73.992147  \n",
       "7050123  12/31/2023 11:59:06 PM  01/01/2024 05:16:22 AM  40.757095 -73.941844  \n",
       "7050124  01/01/2024 02:16:36 AM  01/01/2024 02:18:06 AM  40.717332 -73.949083  \n",
       "7050125  01/01/2024 12:30:08 AM  01/01/2024 12:30:14 AM  40.739836 -73.986538  \n",
       "\n",
       "[5546976 rows x 18 columns]"
      ]
     },
     "execution_count": 7,
     "metadata": {},
     "output_type": "execute_result"
    }
   ],
   "source": [
    "# Drop empty null cells \n",
    "df.dropna()"
   ]
  },
  {
   "cell_type": "code",
   "execution_count": 8,
   "metadata": {},
   "outputs": [],
   "source": [
    "# Optionally Export clean dataset for EDA"
   ]
  },
  {
   "cell_type": "markdown",
   "metadata": {},
   "source": [
    "## Begin EDA - Basic Questions"
   ]
  },
  {
   "cell_type": "markdown",
   "metadata": {},
   "source": [
    "Which five cities have the highest number of 911 emergency calls?"
   ]
  },
  {
   "cell_type": "code",
   "execution_count": 9,
   "metadata": {
    "scrolled": true
   },
   "outputs": [
    {
     "data": {
      "text/plain": [
       "BORO_NM\n",
       "BROOKLYN         2102589\n",
       "MANHATTAN        2013577\n",
       "BRONX            1372403\n",
       "QUEENS           1298979\n",
       "STATEN ISLAND     262426\n",
       "Name: count, dtype: int64"
      ]
     },
     "execution_count": 9,
     "metadata": {},
     "output_type": "execute_result"
    }
   ],
   "source": [
    "df['BORO_NM'].value_counts().head(5)"
   ]
  },
  {
   "cell_type": "markdown",
   "metadata": {},
   "source": [
    "What are the top 5 timeframes with the highest number of reported emergency calls?"
   ]
  },
  {
   "cell_type": "code",
   "execution_count": 10,
   "metadata": {},
   "outputs": [
    {
     "data": {
      "text/plain": [
       "INCIDENT_TIME\n",
       "16:31:49    173\n",
       "16:13:04    161\n",
       "16:38:41    159\n",
       "16:35:39    158\n",
       "17:08:05    158\n",
       "Name: count, dtype: int64"
      ]
     },
     "execution_count": 10,
     "metadata": {},
     "output_type": "execute_result"
    }
   ],
   "source": [
    "df['INCIDENT_TIME'].value_counts().head(5)"
   ]
  },
  {
   "cell_type": "markdown",
   "metadata": {},
   "source": [
    "In recent years, Brooklyn has consistently had the highest number of emergency calls. The busiest time for NYPD emergency responses is between 4:30 PM and 5:00 PM."
   ]
  },
  {
   "cell_type": "markdown",
   "metadata": {},
   "source": [
    "Now, let's examine the 'CIP JOBS' column. How many unique instances of crime in progress are there compared to non-CIP cases?"
   ]
  },
  {
   "cell_type": "code",
   "execution_count": 11,
   "metadata": {},
   "outputs": [
    {
     "data": {
      "text/plain": [
       "CIP_JOBS\n",
       "Non CIP         6538738\n",
       "Non Critical     254051\n",
       "Serious          166553\n",
       "Critical          90785\n",
       "Name: count, dtype: int64"
      ]
     },
     "execution_count": 11,
     "metadata": {},
     "output_type": "execute_result"
    }
   ],
   "source": [
    "df['CIP_JOBS'].value_counts()"
   ]
  },
  {
   "cell_type": "markdown",
   "metadata": {},
   "source": [
    "About 90 percent were flagged as “Non Crime in Progress” and the largest number of calls fell under the type descriptions “See Complainant” and “Visibility Patrol.”"
   ]
  },
  {
   "cell_type": "markdown",
   "metadata": {},
   "source": [
    "## more analysis and visualization coming soon..."
   ]
  }
 ],
 "metadata": {
  "kernelspec": {
   "display_name": "Python 3 (ipykernel)",
   "language": "python",
   "name": "python3"
  },
  "language_info": {
   "codemirror_mode": {
    "name": "ipython",
    "version": 3
   },
   "file_extension": ".py",
   "mimetype": "text/x-python",
   "name": "python",
   "nbconvert_exporter": "python",
   "pygments_lexer": "ipython3",
   "version": "3.10.10"
  }
 },
 "nbformat": 4,
 "nbformat_minor": 4
}
